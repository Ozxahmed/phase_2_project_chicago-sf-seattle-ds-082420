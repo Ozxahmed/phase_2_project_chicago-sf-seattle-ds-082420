{
 "cells": [
  {
   "cell_type": "markdown",
   "metadata": {},
   "source": [
    "Bellow is a serie of code to first pull the \"Real Property Sales\" zipped data from the King County website. Then the code instructs it to unzip the file, followed by saving it to the dataframe rpsdf."
   ]
  },
  {
   "cell_type": "code",
   "execution_count": 75,
   "metadata": {},
   "outputs": [],
   "source": [
    "import psycopg2\n",
    "import pandas as pd\n",
    "import numpy as np\n",
    "import matplotlib.pyplot as plt\n",
    "import seaborn as sns\n",
    "import scipy.stats as stats\n",
    "\n",
    "import statsmodels.api as sm\n",
    "from statsmodels.formula.api import ols\n",
    "from statsmodels.stats.diagnostic import linear_rainbow, het_breuschpagan\n",
    "from statsmodels.stats.outliers_influence import variance_inflation_factor\n",
    "\n",
    "from sklearn.preprocessing import LabelEncoder\n"
   ]
  },
  {
   "cell_type": "code",
   "execution_count": null,
   "metadata": {},
   "outputs": [],
   "source": [
    "! wget -P ../../data/raw https://aqua.kingcounty.gov/extranet/assessor/Real%20Property%20Sales.zip"
   ]
  },
  {
   "cell_type": "code",
   "execution_count": null,
   "metadata": {},
   "outputs": [],
   "source": [
    "! unzip -o ../../data/raw/Real_Property_Sales"
   ]
  },
  {
   "cell_type": "code",
   "execution_count": 5,
   "metadata": {},
   "outputs": [],
   "source": [
    "#rps = real property sales\n",
    "rpsdf = pd.read_csv(\"../../data/raw/EXTR_RPSale.csv\", encoding='latin-1')"
   ]
  },
  {
   "cell_type": "code",
   "execution_count": null,
   "metadata": {},
   "outputs": [],
   "source": [
    "rpsdf.head()"
   ]
  },
  {
   "cell_type": "markdown",
   "metadata": {},
   "source": [
    "Bellow is a serie of code to first pull the \"Parcel\" zipped data from the King County website. Then the code instructs it to unzip the file, followed by saving it to the dataframe parceldf."
   ]
  },
  {
   "cell_type": "code",
   "execution_count": null,
   "metadata": {},
   "outputs": [],
   "source": [
    "! wget -P ../../data/raw https://aqua.kingcounty.gov/extranet/assessor/Parcel.zip"
   ]
  },
  {
   "cell_type": "code",
   "execution_count": null,
   "metadata": {},
   "outputs": [],
   "source": [
    "! unzip -o ../../data/raw/parcel"
   ]
  },
  {
   "cell_type": "code",
   "execution_count": 3,
   "metadata": {},
   "outputs": [],
   "source": [
    "parceldf = pd.read_csv(\"../../data/raw/EXTR_Parcel.csv\", encoding='latin-1')"
   ]
  },
  {
   "cell_type": "code",
   "execution_count": null,
   "metadata": {},
   "outputs": [],
   "source": [
    "parceldf.head()"
   ]
  },
  {
   "cell_type": "markdown",
   "metadata": {},
   "source": [
    "Bellow is a serie of code to first pull the \"Residential Building\" zipped data from the King County website. Then the code instructs it to unzip the file, followed by saving it to the dataframe rbdf."
   ]
  },
  {
   "cell_type": "code",
   "execution_count": null,
   "metadata": {},
   "outputs": [],
   "source": [
    "! wget -P ../../data/raw https://aqua.kingcounty.gov/extranet/assessor/Residential%20Building.zip"
   ]
  },
  {
   "cell_type": "code",
   "execution_count": null,
   "metadata": {},
   "outputs": [],
   "source": [
    "! unzip -o ../../data/raw/Residential_Building"
   ]
  },
  {
   "cell_type": "code",
   "execution_count": 6,
   "metadata": {},
   "outputs": [],
   "source": [
    "rbdf = pd.read_csv(\"../../data/raw/EXTR_ResBldg.csv\", encoding='latin-1')"
   ]
  },
  {
   "cell_type": "code",
   "execution_count": null,
   "metadata": {},
   "outputs": [],
   "source": [
    "rbdf.head()"
   ]
  },
  {
   "cell_type": "markdown",
   "metadata": {},
   "source": [
    "Bellow pulls the table Lookup, which helps explain our data. Then unzips the file, and saves it as a dataframe, lookupdf."
   ]
  },
  {
   "cell_type": "code",
   "execution_count": null,
   "metadata": {},
   "outputs": [],
   "source": [
    "! wget -P ../../data/raw https://aqua.kingcounty.gov/extranet/assessor/Lookup.zip"
   ]
  },
  {
   "cell_type": "code",
   "execution_count": null,
   "metadata": {},
   "outputs": [],
   "source": [
    "! unzip -o ../../data/raw/Lookup"
   ]
  },
  {
   "cell_type": "code",
   "execution_count": 7,
   "metadata": {},
   "outputs": [],
   "source": [
    "lookupdf = pd.read_csv(\"../../data/raw/EXTR_LookUp.csv\")"
   ]
  },
  {
   "cell_type": "code",
   "execution_count": null,
   "metadata": {},
   "outputs": [],
   "source": [
    "lookupdf.head()"
   ]
  },
  {
   "cell_type": "markdown",
   "metadata": {},
   "source": [
    "We currently have 4 DataFrames:\n",
    "rpsdf - Real Sales Price \n",
    "parceldf - Parcel\n",
    "rbdf - Residential Buildings\n",
    "lookupdf - LookUp"
   ]
  },
  {
   "cell_type": "code",
   "execution_count": null,
   "metadata": {},
   "outputs": [],
   "source": [
    "rpsdf[\"Minor\"].value_counts()"
   ]
  },
  {
   "cell_type": "code",
   "execution_count": null,
   "metadata": {},
   "outputs": [],
   "source": [
    "rpsdf.info()"
   ]
  },
  {
   "cell_type": "code",
   "execution_count": null,
   "metadata": {},
   "outputs": [],
   "source": [
    "rpsdf.head()"
   ]
  },
  {
   "cell_type": "code",
   "execution_count": 11,
   "metadata": {},
   "outputs": [],
   "source": [
    "rbdf[\"PIN\"] = rbdf[\"Major\"].astype(str)+rbdf[\"Minor\"].astype(str)"
   ]
  },
  {
   "cell_type": "code",
   "execution_count": 12,
   "metadata": {},
   "outputs": [],
   "source": [
    "rpsdf[\"PIN\"] = rpsdf[\"Major\"].astype(str)+rpsdf[\"Minor\"].astype(str)"
   ]
  },
  {
   "cell_type": "code",
   "execution_count": 13,
   "metadata": {},
   "outputs": [],
   "source": [
    "parceldf[\"PIN\"] = parceldf[\"Major\"].astype(str)+parceldf[\"Minor\"].astype(str)"
   ]
  },
  {
   "cell_type": "markdown",
   "metadata": {},
   "source": [
    "Combines Residental Building with Parcel Record to form a new table."
   ]
  },
  {
   "cell_type": "code",
   "execution_count": 14,
   "metadata": {},
   "outputs": [
    {
     "data": {
      "text/plain": [
       "Index(['Major_x', 'Minor_x', 'BldgNbr', 'NbrLivingUnits', 'Address',\n",
       "       'BuildingNumber', 'Fraction', 'DirectionPrefix', 'StreetName',\n",
       "       'StreetType',\n",
       "       ...\n",
       "       'SeismicHazard', 'LandslideHazard', 'SteepSlopeHazard', 'Stream',\n",
       "       'Wetland', 'SpeciesOfConcern', 'SensitiveAreaTract', 'WaterProblems',\n",
       "       'TranspConcurrency', 'OtherProblems'],\n",
       "      dtype='object', length=132)"
      ]
     },
     "execution_count": 14,
     "metadata": {},
     "output_type": "execute_result"
    }
   ],
   "source": [
    "com_df = pd.merge(rbdf,\n",
    "                 parceldf,\n",
    "                 on=\"PIN\")\n",
    "com_df.columns"
   ]
  },
  {
   "cell_type": "markdown",
   "metadata": {},
   "source": [
    "We need to add 0s in front of each major and minor so that the major are a 9 characters long."
   ]
  },
  {
   "cell_type": "code",
   "execution_count": null,
   "metadata": {},
   "outputs": [],
   "source": [
    "def minor_pad (df):\n",
    "    df[\"Minor\"] = df[\"Minor\"].apply(lambda x: f\"{df.Minor[x]:04}\")\n",
    "    return series"
   ]
  },
  {
   "cell_type": "code",
   "execution_count": null,
   "metadata": {},
   "outputs": [],
   "source": [
    "def major_pad (df):\n",
    "    df[\"Major\"] = df[\"Major\"].apply(lambda x: f\"{df.Major[x]:06}\")\n",
    "    return series"
   ]
  },
  {
   "cell_type": "code",
   "execution_count": null,
   "metadata": {},
   "outputs": [],
   "source": [
    "def pad (series):\n",
    "    series[\"Major\"] = series[\"Major\"].apply(lambda x: f\"{series.Major[x]:06}\")\n",
    "    series[\"Minor\"] = series[\"Minor\"].apply(lambda x: f\"{series.Minor[x]:04}\")\n",
    "    return series"
   ]
  },
  {
   "cell_type": "markdown",
   "metadata": {},
   "source": [
    "Higher square footage increases home sale price\n",
    "\n",
    "We need to find the Sale Price which is in Real Property Sale\n",
    "\n",
    "We need to establish what we mean by square footage: \n",
    "Is it a combination of room square footage infomation from Residential Building\n",
    "OR \n",
    "Is it Lot Square Footage from Parcel\n",
    "\n",
    "We then need to combine Real Property Sale with either Residential Building or Parcel\n",
    "We then need to graph this infomation"
   ]
  },
  {
   "cell_type": "code",
   "execution_count": 17,
   "metadata": {},
   "outputs": [
    {
     "data": {
      "text/html": [
       "<div>\n",
       "<style scoped>\n",
       "    .dataframe tbody tr th:only-of-type {\n",
       "        vertical-align: middle;\n",
       "    }\n",
       "\n",
       "    .dataframe tbody tr th {\n",
       "        vertical-align: top;\n",
       "    }\n",
       "\n",
       "    .dataframe thead th {\n",
       "        text-align: right;\n",
       "    }\n",
       "</style>\n",
       "<table border=\"1\" class=\"dataframe\">\n",
       "  <thead>\n",
       "    <tr style=\"text-align: right;\">\n",
       "      <th></th>\n",
       "      <th>ExciseTaxNbr</th>\n",
       "      <th>Major</th>\n",
       "      <th>Minor</th>\n",
       "      <th>DocumentDate</th>\n",
       "      <th>SalePrice</th>\n",
       "      <th>RecordingNbr</th>\n",
       "      <th>Volume</th>\n",
       "      <th>Page</th>\n",
       "      <th>PlatNbr</th>\n",
       "      <th>PlatType</th>\n",
       "      <th>...</th>\n",
       "      <th>PrincipalUse</th>\n",
       "      <th>SaleInstrument</th>\n",
       "      <th>AFForestLand</th>\n",
       "      <th>AFCurrentUseLand</th>\n",
       "      <th>AFNonProfitUse</th>\n",
       "      <th>AFHistoricProperty</th>\n",
       "      <th>SaleReason</th>\n",
       "      <th>PropertyClass</th>\n",
       "      <th>SaleWarning</th>\n",
       "      <th>PIN</th>\n",
       "    </tr>\n",
       "  </thead>\n",
       "  <tbody>\n",
       "    <tr>\n",
       "      <th>42</th>\n",
       "      <td>2206836</td>\n",
       "      <td>300</td>\n",
       "      <td>101</td>\n",
       "      <td>05/09/2006</td>\n",
       "      <td>321000</td>\n",
       "      <td>20060515002154</td>\n",
       "      <td></td>\n",
       "      <td></td>\n",
       "      <td></td>\n",
       "      <td></td>\n",
       "      <td>...</td>\n",
       "      <td>4</td>\n",
       "      <td>3</td>\n",
       "      <td>N</td>\n",
       "      <td>N</td>\n",
       "      <td>N</td>\n",
       "      <td>N</td>\n",
       "      <td>1</td>\n",
       "      <td>8</td>\n",
       "      <td></td>\n",
       "      <td>300101</td>\n",
       "    </tr>\n",
       "    <tr>\n",
       "      <th>264</th>\n",
       "      <td>1432152</td>\n",
       "      <td>917960</td>\n",
       "      <td>1865</td>\n",
       "      <td>05/15/1995</td>\n",
       "      <td>0</td>\n",
       "      <td>199506080826</td>\n",
       "      <td>003</td>\n",
       "      <td>097</td>\n",
       "      <td>917960</td>\n",
       "      <td>P</td>\n",
       "      <td>...</td>\n",
       "      <td>4</td>\n",
       "      <td>15</td>\n",
       "      <td>N</td>\n",
       "      <td>N</td>\n",
       "      <td>N</td>\n",
       "      <td>N</td>\n",
       "      <td>10</td>\n",
       "      <td>2</td>\n",
       "      <td>32 38 51</td>\n",
       "      <td>9179601865</td>\n",
       "    </tr>\n",
       "    <tr>\n",
       "      <th>637</th>\n",
       "      <td>1301377</td>\n",
       "      <td>202304</td>\n",
       "      <td>9494</td>\n",
       "      <td>03/25/1993</td>\n",
       "      <td>55000</td>\n",
       "      <td>199304071001</td>\n",
       "      <td>000</td>\n",
       "      <td>000</td>\n",
       "      <td>000000</td>\n",
       "      <td></td>\n",
       "      <td>...</td>\n",
       "      <td>4</td>\n",
       "      <td>15</td>\n",
       "      <td>N</td>\n",
       "      <td>N</td>\n",
       "      <td>N</td>\n",
       "      <td>N</td>\n",
       "      <td>8</td>\n",
       "      <td>2</td>\n",
       "      <td>12</td>\n",
       "      <td>2023049494</td>\n",
       "    </tr>\n",
       "    <tr>\n",
       "      <th>753</th>\n",
       "      <td>2788184</td>\n",
       "      <td>122000</td>\n",
       "      <td>1125</td>\n",
       "      <td>01/20/2016</td>\n",
       "      <td>0</td>\n",
       "      <td>20160401000774</td>\n",
       "      <td></td>\n",
       "      <td></td>\n",
       "      <td></td>\n",
       "      <td></td>\n",
       "      <td>...</td>\n",
       "      <td>4</td>\n",
       "      <td>15</td>\n",
       "      <td>N</td>\n",
       "      <td>N</td>\n",
       "      <td>N</td>\n",
       "      <td>N</td>\n",
       "      <td>18</td>\n",
       "      <td>2</td>\n",
       "      <td>11 18 31</td>\n",
       "      <td>1220001125</td>\n",
       "    </tr>\n",
       "    <tr>\n",
       "      <th>982</th>\n",
       "      <td>2087158</td>\n",
       "      <td>276760</td>\n",
       "      <td>2125</td>\n",
       "      <td>11/27/2004</td>\n",
       "      <td>0</td>\n",
       "      <td>20041201000142</td>\n",
       "      <td></td>\n",
       "      <td></td>\n",
       "      <td></td>\n",
       "      <td></td>\n",
       "      <td>...</td>\n",
       "      <td>4</td>\n",
       "      <td>15</td>\n",
       "      <td>N</td>\n",
       "      <td>N</td>\n",
       "      <td>N</td>\n",
       "      <td>N</td>\n",
       "      <td>18</td>\n",
       "      <td>2</td>\n",
       "      <td>18 31 51</td>\n",
       "      <td>2767602125</td>\n",
       "    </tr>\n",
       "    <tr>\n",
       "      <th>...</th>\n",
       "      <td>...</td>\n",
       "      <td>...</td>\n",
       "      <td>...</td>\n",
       "      <td>...</td>\n",
       "      <td>...</td>\n",
       "      <td>...</td>\n",
       "      <td>...</td>\n",
       "      <td>...</td>\n",
       "      <td>...</td>\n",
       "      <td>...</td>\n",
       "      <td>...</td>\n",
       "      <td>...</td>\n",
       "      <td>...</td>\n",
       "      <td>...</td>\n",
       "      <td>...</td>\n",
       "      <td>...</td>\n",
       "      <td>...</td>\n",
       "      <td>...</td>\n",
       "      <td>...</td>\n",
       "      <td>...</td>\n",
       "      <td>...</td>\n",
       "    </tr>\n",
       "    <tr>\n",
       "      <th>2107699</th>\n",
       "      <td>1812700</td>\n",
       "      <td>95200</td>\n",
       "      <td>4005</td>\n",
       "      <td>04/18/2001</td>\n",
       "      <td>675000</td>\n",
       "      <td>20010420001131</td>\n",
       "      <td></td>\n",
       "      <td></td>\n",
       "      <td></td>\n",
       "      <td></td>\n",
       "      <td>...</td>\n",
       "      <td>4</td>\n",
       "      <td>3</td>\n",
       "      <td>N</td>\n",
       "      <td>N</td>\n",
       "      <td>N</td>\n",
       "      <td>N</td>\n",
       "      <td>1</td>\n",
       "      <td>2</td>\n",
       "      <td>45</td>\n",
       "      <td>952004005</td>\n",
       "    </tr>\n",
       "    <tr>\n",
       "      <th>2107700</th>\n",
       "      <td>1812700</td>\n",
       "      <td>95200</td>\n",
       "      <td>4015</td>\n",
       "      <td>04/18/2001</td>\n",
       "      <td>675000</td>\n",
       "      <td>20010420001131</td>\n",
       "      <td></td>\n",
       "      <td></td>\n",
       "      <td></td>\n",
       "      <td></td>\n",
       "      <td>...</td>\n",
       "      <td>4</td>\n",
       "      <td>3</td>\n",
       "      <td>N</td>\n",
       "      <td>N</td>\n",
       "      <td>N</td>\n",
       "      <td>N</td>\n",
       "      <td>1</td>\n",
       "      <td>2</td>\n",
       "      <td>45</td>\n",
       "      <td>952004015</td>\n",
       "    </tr>\n",
       "    <tr>\n",
       "      <th>2107702</th>\n",
       "      <td>1652223</td>\n",
       "      <td>197020</td>\n",
       "      <td>44</td>\n",
       "      <td>11/24/1998</td>\n",
       "      <td>609500</td>\n",
       "      <td>199811251313</td>\n",
       "      <td>007</td>\n",
       "      <td>034</td>\n",
       "      <td>195970</td>\n",
       "      <td>P</td>\n",
       "      <td>...</td>\n",
       "      <td>4</td>\n",
       "      <td>3</td>\n",
       "      <td>N</td>\n",
       "      <td>N</td>\n",
       "      <td>N</td>\n",
       "      <td>N</td>\n",
       "      <td>1</td>\n",
       "      <td>0</td>\n",
       "      <td>1</td>\n",
       "      <td>19702044</td>\n",
       "    </tr>\n",
       "    <tr>\n",
       "      <th>2107947</th>\n",
       "      <td>1734041</td>\n",
       "      <td>789980</td>\n",
       "      <td>800</td>\n",
       "      <td>01/26/2000</td>\n",
       "      <td>389400</td>\n",
       "      <td>20000131000617</td>\n",
       "      <td></td>\n",
       "      <td></td>\n",
       "      <td></td>\n",
       "      <td></td>\n",
       "      <td>...</td>\n",
       "      <td>4</td>\n",
       "      <td>3</td>\n",
       "      <td>N</td>\n",
       "      <td>N</td>\n",
       "      <td>N</td>\n",
       "      <td>N</td>\n",
       "      <td>1</td>\n",
       "      <td>2</td>\n",
       "      <td>1</td>\n",
       "      <td>789980800</td>\n",
       "    </tr>\n",
       "    <tr>\n",
       "      <th>2107957</th>\n",
       "      <td>1794996</td>\n",
       "      <td>11410</td>\n",
       "      <td>500</td>\n",
       "      <td>10/18/2000</td>\n",
       "      <td>0</td>\n",
       "      <td>20010102000193</td>\n",
       "      <td></td>\n",
       "      <td></td>\n",
       "      <td></td>\n",
       "      <td></td>\n",
       "      <td>...</td>\n",
       "      <td>4</td>\n",
       "      <td>3</td>\n",
       "      <td>N</td>\n",
       "      <td>N</td>\n",
       "      <td>N</td>\n",
       "      <td>N</td>\n",
       "      <td>18</td>\n",
       "      <td>2</td>\n",
       "      <td>11 31</td>\n",
       "      <td>11410500</td>\n",
       "    </tr>\n",
       "  </tbody>\n",
       "</table>\n",
       "<p>12487 rows × 25 columns</p>\n",
       "</div>"
      ],
      "text/plain": [
       "         ExciseTaxNbr   Major Minor DocumentDate  SalePrice    RecordingNbr  \\\n",
       "42            2206836     300   101   05/09/2006     321000  20060515002154   \n",
       "264           1432152  917960  1865   05/15/1995          0  199506080826     \n",
       "637           1301377  202304  9494   03/25/1993      55000  199304071001     \n",
       "753           2788184  122000  1125   01/20/2016          0  20160401000774   \n",
       "982           2087158  276760  2125   11/27/2004          0  20041201000142   \n",
       "...               ...     ...   ...          ...        ...             ...   \n",
       "2107699       1812700   95200  4005   04/18/2001     675000  20010420001131   \n",
       "2107700       1812700   95200  4015   04/18/2001     675000  20010420001131   \n",
       "2107702       1652223  197020    44   11/24/1998     609500  199811251313     \n",
       "2107947       1734041  789980   800   01/26/2000     389400  20000131000617   \n",
       "2107957       1794996   11410   500   10/18/2000          0  20010102000193   \n",
       "\n",
       "        Volume Page PlatNbr PlatType  ... PrincipalUse SaleInstrument  \\\n",
       "42                                    ...            4              3   \n",
       "264        003  097  917960        P  ...            4             15   \n",
       "637        000  000  000000           ...            4             15   \n",
       "753                                   ...            4             15   \n",
       "982                                   ...            4             15   \n",
       "...        ...  ...     ...      ...  ...          ...            ...   \n",
       "2107699                               ...            4              3   \n",
       "2107700                               ...            4              3   \n",
       "2107702    007  034  195970        P  ...            4              3   \n",
       "2107947                               ...            4              3   \n",
       "2107957                               ...            4              3   \n",
       "\n",
       "        AFForestLand AFCurrentUseLand  AFNonProfitUse  AFHistoricProperty  \\\n",
       "42                 N                N               N                   N   \n",
       "264                N                N               N                   N   \n",
       "637                N                N               N                   N   \n",
       "753                N                N               N                   N   \n",
       "982                N                N               N                   N   \n",
       "...              ...              ...             ...                 ...   \n",
       "2107699            N                N               N                   N   \n",
       "2107700            N                N               N                   N   \n",
       "2107702            N                N               N                   N   \n",
       "2107947            N                N               N                   N   \n",
       "2107957            N                N               N                   N   \n",
       "\n",
       "         SaleReason PropertyClass SaleWarning         PIN  \n",
       "42                1             8                  300101  \n",
       "264              10             2    32 38 51  9179601865  \n",
       "637               8             2          12  2023049494  \n",
       "753              18             2    11 18 31  1220001125  \n",
       "982              18             2    18 31 51  2767602125  \n",
       "...             ...           ...         ...         ...  \n",
       "2107699           1             2          45   952004005  \n",
       "2107700           1             2          45   952004015  \n",
       "2107702           1             0           1    19702044  \n",
       "2107947           1             2           1   789980800  \n",
       "2107957          18             2       11 31    11410500  \n",
       "\n",
       "[12487 rows x 25 columns]"
      ]
     },
     "execution_count": 17,
     "metadata": {},
     "output_type": "execute_result"
    }
   ],
   "source": [
    "rpsdf.loc[(rpsdf.PrincipalUse== 4)]"
   ]
  },
  {
   "cell_type": "code",
   "execution_count": 23,
   "metadata": {},
   "outputs": [
    {
     "data": {
      "text/html": [
       "<div>\n",
       "<style scoped>\n",
       "    .dataframe tbody tr th:only-of-type {\n",
       "        vertical-align: middle;\n",
       "    }\n",
       "\n",
       "    .dataframe tbody tr th {\n",
       "        vertical-align: top;\n",
       "    }\n",
       "\n",
       "    .dataframe thead th {\n",
       "        text-align: right;\n",
       "    }\n",
       "</style>\n",
       "<table border=\"1\" class=\"dataframe\">\n",
       "  <thead>\n",
       "    <tr style=\"text-align: right;\">\n",
       "      <th></th>\n",
       "      <th>Major</th>\n",
       "      <th>Minor</th>\n",
       "      <th>BldgNbr</th>\n",
       "      <th>NbrLivingUnits</th>\n",
       "      <th>Address</th>\n",
       "      <th>BuildingNumber</th>\n",
       "      <th>Fraction</th>\n",
       "      <th>DirectionPrefix</th>\n",
       "      <th>StreetName</th>\n",
       "      <th>StreetType</th>\n",
       "      <th>...</th>\n",
       "      <th>FpFreestanding</th>\n",
       "      <th>FpAdditional</th>\n",
       "      <th>YrBuilt</th>\n",
       "      <th>YrRenovated</th>\n",
       "      <th>PcntComplete</th>\n",
       "      <th>Obsolescence</th>\n",
       "      <th>PcntNetCondition</th>\n",
       "      <th>Condition</th>\n",
       "      <th>AddnlCost</th>\n",
       "      <th>PIN</th>\n",
       "    </tr>\n",
       "  </thead>\n",
       "  <tbody>\n",
       "    <tr>\n",
       "      <th>117961</th>\n",
       "      <td>300</td>\n",
       "      <td>101</td>\n",
       "      <td>1</td>\n",
       "      <td>2</td>\n",
       "      <td>13607   52ND PL S  98168</td>\n",
       "      <td>13607</td>\n",
       "      <td></td>\n",
       "      <td></td>\n",
       "      <td>52ND</td>\n",
       "      <td>PL</td>\n",
       "      <td>...</td>\n",
       "      <td>0</td>\n",
       "      <td>0</td>\n",
       "      <td>1926</td>\n",
       "      <td>0</td>\n",
       "      <td>0</td>\n",
       "      <td>0</td>\n",
       "      <td>0</td>\n",
       "      <td>3</td>\n",
       "      <td>0</td>\n",
       "      <td>300101</td>\n",
       "    </tr>\n",
       "  </tbody>\n",
       "</table>\n",
       "<p>1 rows × 51 columns</p>\n",
       "</div>"
      ],
      "text/plain": [
       "        Major  Minor  BldgNbr  NbrLivingUnits                   Address  \\\n",
       "117961    300    101        1               2  13607   52ND PL S  98168   \n",
       "\n",
       "       BuildingNumber Fraction DirectionPrefix                 StreetName  \\\n",
       "117961          13607                           52ND                        \n",
       "\n",
       "       StreetType  ... FpFreestanding FpAdditional  YrBuilt  YrRenovated  \\\n",
       "117961     PL      ...              0            0     1926            0   \n",
       "\n",
       "        PcntComplete  Obsolescence  PcntNetCondition  Condition  AddnlCost  \\\n",
       "117961             0             0                 0          3          0   \n",
       "\n",
       "           PIN  \n",
       "117961  300101  \n",
       "\n",
       "[1 rows x 51 columns]"
      ]
     },
     "execution_count": 23,
     "metadata": {},
     "output_type": "execute_result"
    }
   ],
   "source": [
    "rbdf.loc[(rbdf.PIN == \"300101\")]"
   ]
  },
  {
   "cell_type": "code",
   "execution_count": 22,
   "metadata": {},
   "outputs": [
    {
     "data": {
      "text/html": [
       "<div>\n",
       "<style scoped>\n",
       "    .dataframe tbody tr th:only-of-type {\n",
       "        vertical-align: middle;\n",
       "    }\n",
       "\n",
       "    .dataframe tbody tr th {\n",
       "        vertical-align: top;\n",
       "    }\n",
       "\n",
       "    .dataframe thead th {\n",
       "        text-align: right;\n",
       "    }\n",
       "</style>\n",
       "<table border=\"1\" class=\"dataframe\">\n",
       "  <thead>\n",
       "    <tr style=\"text-align: right;\">\n",
       "      <th></th>\n",
       "      <th>Major</th>\n",
       "      <th>Minor</th>\n",
       "      <th>PropName</th>\n",
       "      <th>PlatName</th>\n",
       "      <th>PlatLot</th>\n",
       "      <th>PlatBlock</th>\n",
       "      <th>Range</th>\n",
       "      <th>Township</th>\n",
       "      <th>Section</th>\n",
       "      <th>QuarterSection</th>\n",
       "      <th>...</th>\n",
       "      <th>LandslideHazard</th>\n",
       "      <th>SteepSlopeHazard</th>\n",
       "      <th>Stream</th>\n",
       "      <th>Wetland</th>\n",
       "      <th>SpeciesOfConcern</th>\n",
       "      <th>SensitiveAreaTract</th>\n",
       "      <th>WaterProblems</th>\n",
       "      <th>TranspConcurrency</th>\n",
       "      <th>OtherProblems</th>\n",
       "      <th>PIN</th>\n",
       "    </tr>\n",
       "  </thead>\n",
       "  <tbody>\n",
       "    <tr>\n",
       "      <th>316931</th>\n",
       "      <td>300</td>\n",
       "      <td>101</td>\n",
       "      <td></td>\n",
       "      <td>FOSTER STEPHEN # 38</td>\n",
       "      <td>POR</td>\n",
       "      <td></td>\n",
       "      <td>4</td>\n",
       "      <td>23</td>\n",
       "      <td>14</td>\n",
       "      <td>SW</td>\n",
       "      <td>...</td>\n",
       "      <td>N</td>\n",
       "      <td>N</td>\n",
       "      <td>N</td>\n",
       "      <td>N</td>\n",
       "      <td>N</td>\n",
       "      <td>N</td>\n",
       "      <td>N</td>\n",
       "      <td>N</td>\n",
       "      <td>N</td>\n",
       "      <td>300101</td>\n",
       "    </tr>\n",
       "  </tbody>\n",
       "</table>\n",
       "<p>1 rows × 82 columns</p>\n",
       "</div>"
      ],
      "text/plain": [
       "        Major  Minor PropName             PlatName         PlatLot PlatBlock  \\\n",
       "316931    300    101           FOSTER STEPHEN # 38  POR                        \n",
       "\n",
       "        Range  Township  Section QuarterSection  ... LandslideHazard  \\\n",
       "316931      4        23       14             SW  ...               N   \n",
       "\n",
       "        SteepSlopeHazard  Stream  Wetland  SpeciesOfConcern  \\\n",
       "316931                 N       N        N                 N   \n",
       "\n",
       "       SensitiveAreaTract  WaterProblems TranspConcurrency  OtherProblems  \\\n",
       "316931                  N              N                 N              N   \n",
       "\n",
       "           PIN  \n",
       "316931  300101  \n",
       "\n",
       "[1 rows x 82 columns]"
      ]
     },
     "execution_count": 22,
     "metadata": {},
     "output_type": "execute_result"
    }
   ],
   "source": [
    "parceldf.loc[(parceldf.PIN == \"300101\")]"
   ]
  },
  {
   "cell_type": "markdown",
   "metadata": {},
   "source": [
    "A house sale is if the Sale Reason is none, becuase we beleive at 10pm CT monday night, that Sale Reason is the Sale Reason if there was a forced sale. For example a court orded sale would be a forced sale. If no ones arms were twisted to sell the house the reason would be \"none\""
   ]
  },
  {
   "cell_type": "markdown",
   "metadata": {},
   "source": [
    "Deciding what a \"house\" is on the real property sales table.\n",
    "\n",
    "Join the tables.\n",
    "\n",
    "*What to do with NANs/0s anything that would skew our data.\n",
    "\n",
    "Build graph."
   ]
  },
  {
   "cell_type": "code",
   "execution_count": null,
   "metadata": {},
   "outputs": [],
   "source": [
    "com_df = pd.merge(rbdf,\n",
    "                 parceldf,\n",
    "                 on=\"PIN\")\n",
    "com_df.columns"
   ]
  },
  {
   "cell_type": "markdown",
   "metadata": {},
   "source": [
    "duplex = Number of living units = 2 AND PropType = R | lookup(103)\n",
    "\n",
    "Square Footage = square feet living total\n",
    "\n",
    "Having a porch = square feet encolsed porch > 0 \n",
    "\n",
    "home sales price = sales price\n",
    "\n",
    "beachfront or lakefront =\n",
    "\n",
    "houses with larger house vs garden ratio = lot square foot - house sqaure foot\n",
    "house diameter = sqft 1st floor + sq ft porch(both) + sq ft garage attached, sq ft deck\n",
    "\n",
    "The cost per square foot = \n",
    "\n",
    "single family home = living units = 1 AND PropType = R | lookup(103)\n",
    "\n",
    "Nuisance (power lines, traffic noise, airport noise) = traffic noise + airport noise + power lines + other nuisances\n",
    "\n",
    "Higher square footage increases home sale price1, 2\n",
    "Having a porch increases home sale price3, 4\n",
    "Having a beachfront or lakefront increases home sale price5\n",
    "The house filling a higher proportion of the overall lot decreases home sale price6\n",
    "The cost per square foot is lower in duplexes than in single-family homes7\n",
    "The presence of a nuisance (power lines, traffic noise, airport noise) decreases home sale price1, 5"
   ]
  },
  {
   "cell_type": "markdown",
   "metadata": {},
   "source": [
    "Heatmap for combined table"
   ]
  },
  {
   "cell_type": "code",
   "execution_count": 39,
   "metadata": {},
   "outputs": [
    {
     "data": {
      "image/png": "[encoded data removed]",
      "text/plain": [
       "<Figure size 792x648 with 2 Axes>"
      ]
     },
     "metadata": {
      "needs_background": "light"
     },
     "output_type": "display_data"
    }
   ],
   "source": [
    "corr = parceldf.corr()\n",
    "# The mask is not necessary, but corr() has duplicate values on either side of the diagonal\n",
    "mask = np.triu(np.ones_like(corr, dtype=np.bool))\n",
    "\n",
    "fig1, ax1 = plt.subplots(figsize=(11, 9))\n",
    "sns.heatmap(corr, mask=mask, ax=ax1, cmap=\"viridis\");"
   ]
  },
  {
   "cell_type": "markdown",
   "metadata": {},
   "source": [
    "Rename Columns for graph reasons:"
   ]
  },
  {
   "cell_type": "code",
   "execution_count": 40,
   "metadata": {},
   "outputs": [
    {
     "ename": "IndentationError",
     "evalue": "unexpected indent (<ipython-input-40-104382d48946>, line 2)",
     "output_type": "error",
     "traceback": [
      "\u001b[0;36m  File \u001b[0;32m\"<ipython-input-40-104382d48946>\"\u001b[0;36m, line \u001b[0;32m2\u001b[0m\n\u001b[0;31m    'Life expectancy ': 'Life_Expectancy',\u001b[0m\n\u001b[0m    ^\u001b[0m\n\u001b[0;31mIndentationError\u001b[0m\u001b[0;31m:\u001b[0m unexpected indent\n"
     ]
    }
   ],
   "source": [
    "#df = df.rename(columns={\n",
    "    'Life expectancy ': 'Life_Expectancy',\n",
    "    'ExciseTaxNbr', : 'Excise_Tax_Number'\n",
    "    'DocumentDate', : 'Docuement_Date'\n",
    "    'SalePrice', : 'Sale_Price'\n",
    "    'PropertyType',: 'Property_Type_RPS'\n",
    "    'PrincipalUse', : 'Principal_Use_of_Property'\n",
    "    'SaleInstrument', : 'Sale_Instrument'\n",
    "    'AFHistoricProperty',: 'Is_Historic_Property'\n",
    "    'SaleReason': 'Sales_Reason'\n",
    "    'PropName',: 'Property_Name'\n",
    "    'PropType',: 'Property_Type_Parcel'\n",
    "    'PresentUse',: 'Present_Use'\n",
    "    'SqFtLot',: 'Square_Foot_of_Lot'\n",
    "    'WfntLocation', : 'Is_Waterfront_Location'\n",
    "    'TrafficNoise', : 'Traffic_Noise'\n",
    "    'AirportNoise', : 'Airport_Noise'\n",
    "    'PowerLines', : 'Power_Lines'\n",
    "    'OtherNuisances', : 'Other_Nuisances'\n",
    "    'NbrLivingUnits', : 'Number_of_Living_Units'\n",
    "    'ZipCode', : 'Zip_Code'\n",
    "    'SqFt1stFloor', : 'Square_Foot_of_1st_Floor'\n",
    "    'SqFt2ndFloor', : 'Square_Foot_of_2nd_Floor'\n",
    "    'SqFtUpperFloor', : 'Square_Foot_of_UpperFloor'\n",
    "    'SqFtUnfinFull', : 'Square_Foot_Total_Unfinished'\n",
    "    'SqFtTotLiving', : 'Square_Foot_of_Total_Living'\n",
    "    'SqFtTotBasement', : 'Square_Foot_of_Total_Basement'\n",
    "    'SqFtFinBasement', : 'Square_Foot_of_Finished_Basement'\n",
    "    'SqFtGarageBasement', : 'Square_Foot_of_Garage_Basement'\n",
    "    'SqFtGarageAttached', : 'Square_Foot_of_Attached_Garage'\n",
    "    'SqFtOpenPorch', : 'Square_Foot_of_Open_Porch'\n",
    "    'SqFtEnclosedPorch', : 'Square_Foot_of_Encolsed_Porch'\n",
    "    'SqFtDeck', : 'Square_Foot_of_Deck'\n",
    "    'Bedrooms', : 'Bedroom_Count'\n",
    "    'BathHalfCount', : 'Half_Bathroom_Count'\n",
    "    'BathFullCount' : 'Full_Bathroom_Count'\n",
    "}]"
   ]
  },
  {
   "cell_type": "code",
   "execution_count": 57,
   "metadata": {},
   "outputs": [],
   "source": [
    "#Model to give us a simple model saves it as fsm_results and returns the summary\n",
    "def fsm (df, Independent, Dependent):\n",
    "    fsm = ols(formula=\"dep ~ indep\", data=df)\n",
    "    fsm_results = fsm.fit()\n",
    "    return fsm_results.summary()"
   ]
  },
  {
   "cell_type": "code",
   "execution_count": 58,
   "metadata": {},
   "outputs": [
    {
     "data": {
      "text/html": [
       "<table class=\"simpletable\">\n",
       "<caption>OLS Regression Results</caption>\n",
       "<tr>\n",
       "  <th>Dep. Variable:</th>           <td>dep</td>       <th>  R-squared:         </th>  <td>   0.128</td>  \n",
       "</tr>\n",
       "<tr>\n",
       "  <th>Model:</th>                   <td>OLS</td>       <th>  Adj. R-squared:    </th>  <td>   0.128</td>  \n",
       "</tr>\n",
       "<tr>\n",
       "  <th>Method:</th>             <td>Least Squares</td>  <th>  F-statistic:       </th>  <td>9.061e+04</td> \n",
       "</tr>\n",
       "<tr>\n",
       "  <th>Date:</th>             <td>Tue, 29 Sep 2020</td> <th>  Prob (F-statistic):</th>   <td>  0.00</td>   \n",
       "</tr>\n",
       "<tr>\n",
       "  <th>Time:</th>                 <td>14:58:45</td>     <th>  Log-Likelihood:    </th> <td>-5.8053e+06</td>\n",
       "</tr>\n",
       "<tr>\n",
       "  <th>No. Observations:</th>      <td>616110</td>      <th>  AIC:               </th>  <td>1.161e+07</td> \n",
       "</tr>\n",
       "<tr>\n",
       "  <th>Df Residuals:</th>          <td>616108</td>      <th>  BIC:               </th>  <td>1.161e+07</td> \n",
       "</tr>\n",
       "<tr>\n",
       "  <th>Df Model:</th>              <td>     1</td>      <th>                     </th>      <td> </td>     \n",
       "</tr>\n",
       "<tr>\n",
       "  <th>Covariance Type:</th>      <td>nonrobust</td>    <th>                     </th>      <td> </td>     \n",
       "</tr>\n",
       "</table>\n",
       "<table class=\"simpletable\">\n",
       "<tr>\n",
       "      <td></td>         <th>coef</th>     <th>std err</th>      <th>t</th>      <th>P>|t|</th>  <th>[0.025</th>    <th>0.975]</th>  \n",
       "</tr>\n",
       "<tr>\n",
       "  <th>Intercept</th> <td> 3684.8767</td> <td>    6.958</td> <td>  529.569</td> <td> 0.000</td> <td> 3671.239</td> <td> 3698.515</td>\n",
       "</tr>\n",
       "<tr>\n",
       "  <th>indep</th>     <td>   -0.0040</td> <td> 1.33e-05</td> <td> -301.013</td> <td> 0.000</td> <td>   -0.004</td> <td>   -0.004</td>\n",
       "</tr>\n",
       "</table>\n",
       "<table class=\"simpletable\">\n",
       "<tr>\n",
       "  <th>Omnibus:</th>       <td>94748.874</td> <th>  Durbin-Watson:     </th>  <td>   1.990</td> \n",
       "</tr>\n",
       "<tr>\n",
       "  <th>Prob(Omnibus):</th>  <td> 0.000</td>   <th>  Jarque-Bera (JB):  </th> <td>146477.802</td>\n",
       "</tr>\n",
       "<tr>\n",
       "  <th>Skew:</th>           <td> 1.190</td>   <th>  Prob(JB):          </th>  <td>    0.00</td> \n",
       "</tr>\n",
       "<tr>\n",
       "  <th>Kurtosis:</th>       <td> 3.206</td>   <th>  Cond. No.          </th>  <td>9.52e+05</td> \n",
       "</tr>\n",
       "</table><br/><br/>Warnings:<br/>[1] Standard Errors assume that the covariance matrix of the errors is correctly specified.<br/>[2] The condition number is large, 9.52e+05. This might indicate that there are<br/>strong multicollinearity or other numerical problems."
      ],
      "text/plain": [
       "<class 'statsmodels.iolib.summary.Summary'>\n",
       "\"\"\"\n",
       "                            OLS Regression Results                            \n",
       "==============================================================================\n",
       "Dep. Variable:                    dep   R-squared:                       0.128\n",
       "Model:                            OLS   Adj. R-squared:                  0.128\n",
       "Method:                 Least Squares   F-statistic:                 9.061e+04\n",
       "Date:                Tue, 29 Sep 2020   Prob (F-statistic):               0.00\n",
       "Time:                        14:58:45   Log-Likelihood:            -5.8053e+06\n",
       "No. Observations:              616110   AIC:                         1.161e+07\n",
       "Df Residuals:                  616108   BIC:                         1.161e+07\n",
       "Df Model:                           1                                         \n",
       "Covariance Type:            nonrobust                                         \n",
       "==============================================================================\n",
       "                 coef    std err          t      P>|t|      [0.025      0.975]\n",
       "------------------------------------------------------------------------------\n",
       "Intercept   3684.8767      6.958    529.569      0.000    3671.239    3698.515\n",
       "indep         -0.0040   1.33e-05   -301.013      0.000      -0.004      -0.004\n",
       "==============================================================================\n",
       "Omnibus:                    94748.874   Durbin-Watson:                   1.990\n",
       "Prob(Omnibus):                  0.000   Jarque-Bera (JB):           146477.802\n",
       "Skew:                           1.190   Prob(JB):                         0.00\n",
       "Kurtosis:                       3.206   Cond. No.                     9.52e+05\n",
       "==============================================================================\n",
       "\n",
       "Warnings:\n",
       "[1] Standard Errors assume that the covariance matrix of the errors is correctly specified.\n",
       "[2] The condition number is large, 9.52e+05. This might indicate that there are\n",
       "strong multicollinearity or other numerical problems.\n",
       "\"\"\""
      ]
     },
     "execution_count": 58,
     "metadata": {},
     "output_type": "execute_result"
    }
   ],
   "source": [
    "fsm (parceldf, parceldf.Major, parceldf.Minor)"
   ]
  },
  {
   "cell_type": "markdown",
   "metadata": {},
   "source": [
    "Cohen's D function for effect size"
   ]
  },
  {
   "cell_type": "code",
   "execution_count": 60,
   "metadata": {},
   "outputs": [],
   "source": [
    "def cohen_d (sample1, sample2):\n",
    "    diff = sample1.mean() - sample2.mean()\n",
    "    n1 = len(sample1)\n",
    "    n2 = len(sample2)\n",
    "    var1 = sample1.var(ddof=1)\n",
    "    var2 = sample2.var(ddof=1)\n",
    "    pooled_var = ((n1-1) * var1 + (n2-1) * var2) / (n1+n2-2)\n",
    "    d = diff/np.sqrt(pooled_var)\n",
    "    return d"
   ]
  },
  {
   "cell_type": "markdown",
   "metadata": {},
   "source": [
    "Statistical significance functions:\n",
    "\n",
    "ttest_lside_1samp: not built\n",
    "\n",
    "ttest_rside_1samp: works\n",
    "\n",
    "ttest_2side_1samp: works\n",
    "\n",
    "ttest_lside_2samp: not built\n",
    "\n",
    "ttest_rside_2samp: works, does it need welch's?\n",
    "\n",
    "ttest_2side_2samp: works, havent tested welch's?\n",
    "\n",
    "z_test: broken, test statistic returning wrong number UPDATE: may not be broken sample from phase 2 review may have wrong n value -> 45 in sample but n is listed as 40. ASK A PROFF\n"
   ]
  },
  {
   "cell_type": "code",
   "execution_count": null,
   "metadata": {},
   "outputs": [],
   "source": [
    "def ttest_lside_1samp(alpha, sample, pop_mean):\n",
    "    a = alpha\n",
    "    dof = 1-len(sample)\n",
    "    critical_stat=stat.t.ppf(ci, dof)\n",
    "    \n",
    "    "
   ]
  },
  {
   "cell_type": "code",
   "execution_count": 76,
   "metadata": {},
   "outputs": [],
   "source": [
    "def ttest_rside_1samp(alpha, sample, pop_mean):\n",
    "    a = alpha\n",
    "    dof = 1-len(sample)\n",
    "    ci = 1-a\n",
    "    critical_stat = stats.t.ppf(ci, dof)\n",
    "    stat, pvalue = stats.ttest_1samp(sample, pop_mean)                                                 \n",
    "    true_p=pvalue/2\n",
    "    if true_p < a:\n",
    "        print(f\"Our P-Value of {true_p} is less than our Alpha of {a}, so we reject null hypothesis\")\n",
    "    else:\n",
    "        print(f\"Our P-Value of {true_p} is greater than or equal to our Alpha of {a}, so we fail to reject null hypothesis\")"
   ]
  },
  {
   "cell_type": "code",
   "execution_count": 77,
   "metadata": {},
   "outputs": [
    {
     "name": "stdout",
     "output_type": "stream",
     "text": [
      "Our P-Value of 0.00011919031815483877 is less than our Alpha of 0.05, so we reject null hypothesis\n"
     ]
    }
   ],
   "source": [
    "bank2 = \"128 127 118 115 144 142 133 140 132 131 111 132 149 122 139 119 136 129 126 128\".split(' ')\n",
    "sample = np.array(bank2, int)\n",
    "ttest_rside_1samp(.05, sample, 120)"
   ]
  },
  {
   "cell_type": "code",
   "execution_count": 112,
   "metadata": {},
   "outputs": [],
   "source": [
    "def ttest_2side_1samp(alpha, sample, pop_mean):\n",
    "    stat, pvalue = stats.ttest_1samp(a=sample, popmean=pop_mean)\n",
    "    if pvalue < alpha:\n",
    "        print(f\"Our P-Value of {pvalue} is less than our Alpha of {alpha}, so we reject null hypothesis\")\n",
    "    else:\n",
    "        print(f\"Our P-Value of {pvalue} is greater than or equal to our Alpha of {alpha}, so we fail to reject null hypothesis\")"
   ]
  },
  {
   "cell_type": "code",
   "execution_count": 113,
   "metadata": {},
   "outputs": [
    {
     "name": "stdout",
     "output_type": "stream",
     "text": [
      "Our P-Value of 0.0811068697473857 is greater than or equal to our Alpha of 0.05, so we fail to reject null hypothesis\n"
     ]
    }
   ],
   "source": [
    "samp = \"30 28 32 26 33 25 28 30\".split(' ')\n",
    "samp = np.array(samp, int)\n",
    "ttest_2side_1samp(.05, samp, 31)"
   ]
  },
  {
   "cell_type": "code",
   "execution_count": 66,
   "metadata": {},
   "outputs": [
    {
     "ename": "SyntaxError",
     "evalue": "invalid syntax (<ipython-input-66-8b34a7f9072f>, line 1)",
     "output_type": "error",
     "traceback": [
      "\u001b[0;36m  File \u001b[0;32m\"<ipython-input-66-8b34a7f9072f>\"\u001b[0;36m, line \u001b[0;32m1\u001b[0m\n\u001b[0;31m    def ttest _lside_2samp():\u001b[0m\n\u001b[0m              ^\u001b[0m\n\u001b[0;31mSyntaxError\u001b[0m\u001b[0;31m:\u001b[0m invalid syntax\n"
     ]
    }
   ],
   "source": [
    "def ttest _lside_2samp():"
   ]
  },
  {
   "cell_type": "code",
   "execution_count": 80,
   "metadata": {},
   "outputs": [],
   "source": [
    "def ttest_rside_2samp(alpha, sample1, sample2):\n",
    "    \n",
    "    a = alpha\n",
    "    s1_mean = np.mean(sample1)\n",
    "    s2_mean = np.mean(sample2)\n",
    "    s1_var = np.var(sample1)\n",
    "    s2_var = np.var(sample2)\n",
    "    \n",
    "    #determines welch's t or not\n",
    "    if s1_var == s2_var:\n",
    "        statistics, pvalue = stats.ttest_ind(sample1, sample2, equal_var=False)\n",
    "    else:\n",
    "        statistics, pvalue = stats.ttest_ind(sample1, sample2, equal_var=True)\n",
    "        \n",
    "    #determines statistical significance\n",
    "    true_p = pvalue/2\n",
    "    if true_p < a:\n",
    "        print(f\"Our P-Value of {true_p} is less than our Alpha of {a}, so we reject null hypothesis\")\n",
    "    else:\n",
    "        print(f\"Our P-Value of {true_p} is greater than or equal to our Alpha of {a}, so we fail to reject null hypothesis\")"
   ]
  },
  {
   "cell_type": "code",
   "execution_count": 81,
   "metadata": {},
   "outputs": [
    {
     "name": "stdout",
     "output_type": "stream",
     "text": [
      "Our P-Value of 0.25756938035286653 is greater than or equal to our Alpha of 0.05, so we fail to reject null hypothesis\n"
     ]
    }
   ],
   "source": [
    "samp1 = \"19.7475 19.8387 12.6873 17.6973 19.0878 30.5562 14.5291 14.7627 14.3439 12.5745 11.0734 19.4998 18.3869 10.7374 18.0030 18.1730 18.8374 17.9287 15.3563 18.6004 11.7280 12.2898 21.0552 21.4184 25.5953\".split(' ')\n",
    "samp2 = \"17.4715 20.0386 12.6012 20.4401 22.4969 9.8613 19.6289 9.7741 15.1119 17.4448 23.4827 24.9357 19.9265 7.9955 17.6675 13.6029 17.8812 16.4178 5.1385 7.0984 18.1181 20.2681 14.7372 22.5915 16.7546\".split(\" \")\n",
    "samp1 = np.array(samp1, float)\n",
    "samp2 = np.array(samp2, float)\n",
    "ttest_rside_2samp(.05, samp1, samp2)"
   ]
  },
  {
   "cell_type": "code",
   "execution_count": 65,
   "metadata": {},
   "outputs": [],
   "source": [
    "def ttest_2side_2samp(alpha, sample1, sample2):\n",
    "    \n",
    "    a = alpha\n",
    "    s1_mean = np.mean(sample1)\n",
    "    s2_mean = np.mean(sample2)\n",
    "    s1_var = np.var(sample1)\n",
    "    s2_var = np.var(sample2)\n",
    "    \n",
    "    #determines welch's t or not\n",
    "    if s1_var == s2_var:\n",
    "        statistics, pvalue = stats.ttest_ind(sample1, sample2, equal_var=False)\n",
    "    else:\n",
    "        statistics, pvalue = stats.ttest_ind(sample1, sample2, equal_var=True)\n",
    "        \n",
    "    if pvalue < a:\n",
    "        print(f\"Our P-Value of {pvalue} is less than our Alpha of {a}, so we reject null hypothesis\")\n",
    "    else:\n",
    "        print(f\"Our P-Value of {pvalue} is greater than or equal to our Alpha of {a}, so we fail to reject null hypothesis\")"
   ]
  },
  {
   "cell_type": "code",
   "execution_count": 110,
   "metadata": {},
   "outputs": [
    {
     "name": "stdout",
     "output_type": "stream",
     "text": [
      "Our P-Value of 0.07573012895667763 is greater than or equal to our Alpha of 0.05, so we fail to reject null hypothesis\n"
     ]
    }
   ],
   "source": [
    "a = .05\n",
    "set1= \"134 146 104 119 124 161 107 83 113 129 97 123\".split(' ')\n",
    "set2= \"70 118 101 85 107 132 94\".split(' ')\n",
    "set1=np.array(set1, int)\n",
    "set2=np.array(set2, int)\n",
    "ttest_2side_2samp(.05, set1, set2)"
   ]
  },
  {
   "cell_type": "code",
   "execution_count": 104,
   "metadata": {},
   "outputs": [],
   "source": [
    "def z_test (alpha, array, pop_mean, pop_std):\n",
    "    a = alpha\n",
    "    crit_stat = 1-a\n",
    "    crit_statz = stats.norm.ppf(crit_stat)\n",
    "    test_stat = (np.mean(array) - pop_mean)/(pop_std/(len(array)**.5))\n",
    "    \n",
    "    if crit_statz < test_stat:\n",
    "        print(f\"Our Critical Statistic of {crit_statz} is less than our Test Statistic of {test_stat}, so we reject null hypothesis\")\n",
    "    else:\n",
    "        print(f\"Our Critical Statistic of {crit_statz} is greater than or equal to our Test Statistic of {test_stat}, so we fail to reject null hypothesis\")"
   ]
  },
  {
   "cell_type": "code",
   "execution_count": 105,
   "metadata": {},
   "outputs": [
    {
     "name": "stdout",
     "output_type": "stream",
     "text": [
      "Our Critical Statistic of 1.6448536269514722 is less than our Test Statistic of 2.00053548386981, so we reject null hypothesis\n"
     ]
    }
   ],
   "source": [
    "bank = \"434 694 457 534 720 400 484 478 610 641 425 636 454 514 563 370 499 640 501 625 519 471 598 509 531 511 675 450 485 507 550 512 542 633 575 595 508 499 490 597 522 504 550 430 400\".split(' ')\n",
    "bank2 = np.array(bank, int)\n",
    "z_test(.05, bank2, 500, 100)"
   ]
  },
  {
   "cell_type": "code",
   "execution_count": 103,
   "metadata": {},
   "outputs": [
    {
     "name": "stdout",
     "output_type": "stream",
     "text": [
      "2.00053548386981\n",
      "from z-table, z-score of 1.8 has distribution at or below of .9641\n",
      "0.9772787638661184\n",
      "0.02272123613388158\n"
     ]
    }
   ],
   "source": [
    "from scipy import stats\n",
    "import numpy as np\n",
    "\n",
    "data = '''434 694 457 534 720 400 484 478 610 641 \n",
    "425 636 454 514 563 370 499 640 501 625 \n",
    "519 471 598 509 531 511 675 450 485 507 \n",
    "550 512 542 633 575 595 508 499 490 597 \n",
    "522 504 550 430 400'''\n",
    "\n",
    "def parse_data(data_to_parse, splits=' '):\n",
    "    parsed = [float(val) for val in data_to_parse.split(splits)]\n",
    "    return parsed\n",
    "\n",
    "data = parse_data(data)\n",
    "\n",
    "mean = np.mean(data)\n",
    "std = np.std(data)\n",
    "\n",
    "denom = 100/np.sqrt(len(data))\n",
    "\n",
    "z = (mean - 500)/denom\n",
    "print(z)\n",
    "print(f'from z-table, z-score of 1.8 has distribution at or below of .9641')\n",
    "print(stats.norm.cdf(z))\n",
    "print(stats.norm.sf(z)) "
   ]
  },
  {
   "cell_type": "markdown",
   "metadata": {},
   "source": [
    "Do your best to have features meet the assumptions of a linear regression (no multicollinearity, linear with respect to the outcome variable, errors are normally distributed, etc.)."
   ]
  },
  {
   "cell_type": "markdown",
   "metadata": {},
   "source": [
    "Note: This is difficult! We will be looking most of all for improvement on this score. In order to demonstrate improvement, you should create a (not very good) model that will serve as a kind of baseline. Then you can compare future regression models that you build with that baseline."
   ]
  },
  {
   "cell_type": "markdown",
   "metadata": {},
   "source": [
    "ASSUMPTIONS:\n",
    "\n",
    "1null\n",
    "\n",
    "1alt\n",
    "\n",
    "2null\n",
    "\n",
    "2alt\n",
    "\n",
    "3null\n",
    "\n",
    "3alt"
   ]
  }
 ],
 "metadata": {
  "kernelspec": {
   "display_name": "Python 3 (oy-env)",
   "language": "python",
   "name": "oy-env"
  },
  "language_info": {
   "codemirror_mode": {
    "name": "ipython",
    "version": 3
   },
   "file_extension": ".py",
   "mimetype": "text/x-python",
   "name": "python",
   "nbconvert_exporter": "python",
   "pygments_lexer": "ipython3",
   "version": "3.8.5"
  }
 },
 "nbformat": 4,
 "nbformat_minor": 4
}
