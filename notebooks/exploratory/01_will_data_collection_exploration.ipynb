{
 "cells": [
  {
   "cell_type": "markdown",
   "metadata": {},
   "source": [
    "Bellow is a serie of code to first pull the \"Real Property Sales\" zipped data from the King County website. Then the code instructs it to unzip the file, followed by saving it to the dataframe rpsdf."
   ]
  },
  {
   "cell_type": "code",
   "execution_count": 164,
   "metadata": {},
   "outputs": [],
   "source": [
    "import psycopg2\n",
    "import pandas as pd\n",
    "import numpy as np\n",
    "import matplotlib.pyplot as plt\n",
    "import seaborn as sns\n",
    "import scipy.stats as stats\n",
    "import pylab\n",
    "\n",
    "import statsmodels.api as sm\n",
    "from statsmodels.formula.api import ols\n",
    "from statsmodels.stats.diagnostic import linear_rainbow, het_breuschpagan\n",
    "from statsmodels.stats.outliers_influence import variance_inflation_factor\n",
    "from sklearn.preprocessing import StandardScaler\n",
    "\n",
    "from sklearn.preprocessing import LabelEncoder\n"
   ]
  },
  {
   "cell_type": "code",
   "execution_count": null,
   "metadata": {},
   "outputs": [],
   "source": [
    "! wget -P ../../data/raw https://aqua.kingcounty.gov/extranet/assessor/Real%20Property%20Sales.zip"
   ]
  },
  {
   "cell_type": "code",
   "execution_count": null,
   "metadata": {},
   "outputs": [],
   "source": [
    "! unzip -o ../../data/raw/Real_Property_Sales"
   ]
  },
  {
   "cell_type": "code",
   "execution_count": 29,
   "metadata": {},
   "outputs": [],
   "source": [
    "#rps = real property sales\n",
    "rpsdf = pd.read_csv(\"../../data/raw/EXTR_RPSale.csv\", encoding='latin-1')"
   ]
  },
  {
   "cell_type": "code",
   "execution_count": null,
   "metadata": {},
   "outputs": [],
   "source": [
    "rpsdf.head()"
   ]
  },
  {
   "cell_type": "markdown",
   "metadata": {},
   "source": [
    "Bellow is a serie of code to first pull the \"Parcel\" zipped data from the King County website. Then the code instructs it to unzip the file, followed by saving it to the dataframe parceldf."
   ]
  },
  {
   "cell_type": "code",
   "execution_count": null,
   "metadata": {},
   "outputs": [],
   "source": [
    "! wget -P ../../data/raw https://aqua.kingcounty.gov/extranet/assessor/Parcel.zip"
   ]
  },
  {
   "cell_type": "code",
   "execution_count": null,
   "metadata": {},
   "outputs": [],
   "source": [
    "! unzip -o ../../data/raw/parcel"
   ]
  },
  {
   "cell_type": "code",
   "execution_count": 26,
   "metadata": {},
   "outputs": [],
   "source": [
    "parceldf = pd.read_csv(\"../../data/raw/EXTR_Parcel.csv\", encoding='latin-1')"
   ]
  },
  {
   "cell_type": "code",
   "execution_count": null,
   "metadata": {},
   "outputs": [],
   "source": [
    "parceldf.head()"
   ]
  },
  {
   "cell_type": "markdown",
   "metadata": {},
   "source": [
    "Bellow is a serie of code to first pull the \"Residential Building\" zipped data from the King County website. Then the code instructs it to unzip the file, followed by saving it to the dataframe rbdf."
   ]
  },
  {
   "cell_type": "code",
   "execution_count": null,
   "metadata": {},
   "outputs": [],
   "source": [
    "! wget -P ../../data/raw https://aqua.kingcounty.gov/extranet/assessor/Residential%20Building.zip"
   ]
  },
  {
   "cell_type": "code",
   "execution_count": null,
   "metadata": {},
   "outputs": [],
   "source": [
    "! unzip -o ../../data/raw/Residential_Building"
   ]
  },
  {
   "cell_type": "code",
   "execution_count": 28,
   "metadata": {},
   "outputs": [],
   "source": [
    "rbdf = pd.read_csv(\"../../data/raw/EXTR_ResBldg.csv\", encoding='latin-1')"
   ]
  },
  {
   "cell_type": "code",
   "execution_count": null,
   "metadata": {},
   "outputs": [],
   "source": [
    "rbdf.head()"
   ]
  },
  {
   "cell_type": "markdown",
   "metadata": {},
   "source": [
    "Bellow pulls the table Lookup, which helps explain our data. Then unzips the file, and saves it as a dataframe, lookupdf."
   ]
  },
  {
   "cell_type": "code",
   "execution_count": null,
   "metadata": {},
   "outputs": [],
   "source": [
    "! wget -P ../../data/raw https://aqua.kingcounty.gov/extranet/assessor/Lookup.zip"
   ]
  },
  {
   "cell_type": "code",
   "execution_count": null,
   "metadata": {},
   "outputs": [],
   "source": [
    "! unzip -o ../../data/raw/Lookup"
   ]
  },
  {
   "cell_type": "code",
   "execution_count": 168,
   "metadata": {},
   "outputs": [],
   "source": [
    "lookupdf = pd.read_csv(\"../../data/raw/EXTR_LookUp.csv\")"
   ]
  },
  {
   "cell_type": "code",
   "execution_count": null,
   "metadata": {},
   "outputs": [],
   "source": [
    "lookupdf.head()"
   ]
  },
  {
   "cell_type": "code",
   "execution_count": 169,
   "metadata": {},
   "outputs": [],
   "source": [
    "def lookup(colvalue):\n",
    "    return lookupdf.loc[(lookupdf.LUType == colvalue)]"
   ]
  },
  {
   "cell_type": "markdown",
   "metadata": {},
   "source": [
    "We currently have 4 DataFrames:\n",
    "rpsdf - Real Sales Price \n",
    "parceldf - Parcel\n",
    "rbdf - Residential Buildings\n",
    "lookupdf - LookUp"
   ]
  },
  {
   "cell_type": "code",
   "execution_count": null,
   "metadata": {},
   "outputs": [],
   "source": [
    "rpsdf[\"Minor\"].value_counts()"
   ]
  },
  {
   "cell_type": "code",
   "execution_count": null,
   "metadata": {},
   "outputs": [],
   "source": [
    "rpsdf.info()"
   ]
  },
  {
   "cell_type": "code",
   "execution_count": null,
   "metadata": {},
   "outputs": [],
   "source": [
    "rpsdf.head()"
   ]
  },
  {
   "cell_type": "code",
   "execution_count": 11,
   "metadata": {},
   "outputs": [],
   "source": [
    "rbdf[\"PIN\"] = rbdf[\"Major\"].astype(str)+rbdf[\"Minor\"].astype(str)"
   ]
  },
  {
   "cell_type": "code",
   "execution_count": 12,
   "metadata": {},
   "outputs": [],
   "source": [
    "rpsdf[\"PIN\"] = rpsdf[\"Major\"].astype(str)+rpsdf[\"Minor\"].astype(str)"
   ]
  },
  {
   "cell_type": "code",
   "execution_count": 13,
   "metadata": {},
   "outputs": [],
   "source": [
    "parceldf[\"PIN\"] = parceldf[\"Major\"].astype(str)+parceldf[\"Minor\"].astype(str)"
   ]
  },
  {
   "cell_type": "markdown",
   "metadata": {},
   "source": [
    "Combines Residental Building with Parcel Record to form a new table."
   ]
  },
  {
   "cell_type": "code",
   "execution_count": 14,
   "metadata": {},
   "outputs": [
    {
     "data": {
      "text/plain": [
       "Index(['Major_x', 'Minor_x', 'BldgNbr', 'NbrLivingUnits', 'Address',\n",
       "       'BuildingNumber', 'Fraction', 'DirectionPrefix', 'StreetName',\n",
       "       'StreetType',\n",
       "       ...\n",
       "       'SeismicHazard', 'LandslideHazard', 'SteepSlopeHazard', 'Stream',\n",
       "       'Wetland', 'SpeciesOfConcern', 'SensitiveAreaTract', 'WaterProblems',\n",
       "       'TranspConcurrency', 'OtherProblems'],\n",
       "      dtype='object', length=132)"
      ]
     },
     "execution_count": 14,
     "metadata": {},
     "output_type": "execute_result"
    }
   ],
   "source": [
    "com_df = pd.merge(rbdf,\n",
    "                 parceldf,\n",
    "                 on=\"PIN\")\n",
    "com_df.columns"
   ]
  },
  {
   "cell_type": "markdown",
   "metadata": {},
   "source": [
    "We need to add 0s in front of each major and minor so that the major are a 9 characters long."
   ]
  },
  {
   "cell_type": "code",
   "execution_count": null,
   "metadata": {},
   "outputs": [],
   "source": [
    "def minor_pad (df):\n",
    "    df[\"Minor\"] = df[\"Minor\"].apply(lambda x: f\"{df.Minor[x]:04}\")\n",
    "    return series"
   ]
  },
  {
   "cell_type": "code",
   "execution_count": null,
   "metadata": {},
   "outputs": [],
   "source": [
    "def major_pad (df):\n",
    "    df[\"Major\"] = df[\"Major\"].apply(lambda x: f\"{df.Major[x]:06}\")\n",
    "    return series"
   ]
  },
  {
   "cell_type": "code",
   "execution_count": null,
   "metadata": {},
   "outputs": [],
   "source": [
    "def pad (series):\n",
    "    series[\"Major\"] = series[\"Major\"].apply(lambda x: f\"{series.Major[x]:06}\")\n",
    "    series[\"Minor\"] = series[\"Minor\"].apply(lambda x: f\"{series.Minor[x]:04}\")\n",
    "    return series"
   ]
  },
  {
   "cell_type": "markdown",
   "metadata": {},
   "source": [
    "Higher square footage increases home sale price\n",
    "\n",
    "We need to find the Sale Price which is in Real Property Sale\n",
    "\n",
    "We need to establish what we mean by square footage: \n",
    "Is it a combination of room square footage infomation from Residential Building\n",
    "OR \n",
    "Is it Lot Square Footage from Parcel\n",
    "\n",
    "We then need to combine Real Property Sale with either Residential Building or Parcel\n",
    "We then need to graph this infomation"
   ]
  },
  {
   "cell_type": "code",
   "execution_count": 17,
   "metadata": {},
   "outputs": [
    {
     "data": {
      "text/html": [
       "<div>\n",
       "<style scoped>\n",
       "    .dataframe tbody tr th:only-of-type {\n",
       "        vertical-align: middle;\n",
       "    }\n",
       "\n",
       "    .dataframe tbody tr th {\n",
       "        vertical-align: top;\n",
       "    }\n",
       "\n",
       "    .dataframe thead th {\n",
       "        text-align: right;\n",
       "    }\n",
       "</style>\n",
       "<table border=\"1\" class=\"dataframe\">\n",
       "  <thead>\n",
       "    <tr style=\"text-align: right;\">\n",
       "      <th></th>\n",
       "      <th>ExciseTaxNbr</th>\n",
       "      <th>Major</th>\n",
       "      <th>Minor</th>\n",
       "      <th>DocumentDate</th>\n",
       "      <th>SalePrice</th>\n",
       "      <th>RecordingNbr</th>\n",
       "      <th>Volume</th>\n",
       "      <th>Page</th>\n",
       "      <th>PlatNbr</th>\n",
       "      <th>PlatType</th>\n",
       "      <th>...</th>\n",
       "      <th>PrincipalUse</th>\n",
       "      <th>SaleInstrument</th>\n",
       "      <th>AFForestLand</th>\n",
       "      <th>AFCurrentUseLand</th>\n",
       "      <th>AFNonProfitUse</th>\n",
       "      <th>AFHistoricProperty</th>\n",
       "      <th>SaleReason</th>\n",
       "      <th>PropertyClass</th>\n",
       "      <th>SaleWarning</th>\n",
       "      <th>PIN</th>\n",
       "    </tr>\n",
       "  </thead>\n",
       "  <tbody>\n",
       "    <tr>\n",
       "      <th>42</th>\n",
       "      <td>2206836</td>\n",
       "      <td>300</td>\n",
       "      <td>101</td>\n",
       "      <td>05/09/2006</td>\n",
       "      <td>321000</td>\n",
       "      <td>20060515002154</td>\n",
       "      <td></td>\n",
       "      <td></td>\n",
       "      <td></td>\n",
       "      <td></td>\n",
       "      <td>...</td>\n",
       "      <td>4</td>\n",
       "      <td>3</td>\n",
       "      <td>N</td>\n",
       "      <td>N</td>\n",
       "      <td>N</td>\n",
       "      <td>N</td>\n",
       "      <td>1</td>\n",
       "      <td>8</td>\n",
       "      <td></td>\n",
       "      <td>300101</td>\n",
       "    </tr>\n",
       "    <tr>\n",
       "      <th>264</th>\n",
       "      <td>1432152</td>\n",
       "      <td>917960</td>\n",
       "      <td>1865</td>\n",
       "      <td>05/15/1995</td>\n",
       "      <td>0</td>\n",
       "      <td>199506080826</td>\n",
       "      <td>003</td>\n",
       "      <td>097</td>\n",
       "      <td>917960</td>\n",
       "      <td>P</td>\n",
       "      <td>...</td>\n",
       "      <td>4</td>\n",
       "      <td>15</td>\n",
       "      <td>N</td>\n",
       "      <td>N</td>\n",
       "      <td>N</td>\n",
       "      <td>N</td>\n",
       "      <td>10</td>\n",
       "      <td>2</td>\n",
       "      <td>32 38 51</td>\n",
       "      <td>9179601865</td>\n",
       "    </tr>\n",
       "    <tr>\n",
       "      <th>637</th>\n",
       "      <td>1301377</td>\n",
       "      <td>202304</td>\n",
       "      <td>9494</td>\n",
       "      <td>03/25/1993</td>\n",
       "      <td>55000</td>\n",
       "      <td>199304071001</td>\n",
       "      <td>000</td>\n",
       "      <td>000</td>\n",
       "      <td>000000</td>\n",
       "      <td></td>\n",
       "      <td>...</td>\n",
       "      <td>4</td>\n",
       "      <td>15</td>\n",
       "      <td>N</td>\n",
       "      <td>N</td>\n",
       "      <td>N</td>\n",
       "      <td>N</td>\n",
       "      <td>8</td>\n",
       "      <td>2</td>\n",
       "      <td>12</td>\n",
       "      <td>2023049494</td>\n",
       "    </tr>\n",
       "    <tr>\n",
       "      <th>753</th>\n",
       "      <td>2788184</td>\n",
       "      <td>122000</td>\n",
       "      <td>1125</td>\n",
       "      <td>01/20/2016</td>\n",
       "      <td>0</td>\n",
       "      <td>20160401000774</td>\n",
       "      <td></td>\n",
       "      <td></td>\n",
       "      <td></td>\n",
       "      <td></td>\n",
       "      <td>...</td>\n",
       "      <td>4</td>\n",
       "      <td>15</td>\n",
       "      <td>N</td>\n",
       "      <td>N</td>\n",
       "      <td>N</td>\n",
       "      <td>N</td>\n",
       "      <td>18</td>\n",
       "      <td>2</td>\n",
       "      <td>11 18 31</td>\n",
       "      <td>1220001125</td>\n",
       "    </tr>\n",
       "    <tr>\n",
       "      <th>982</th>\n",
       "      <td>2087158</td>\n",
       "      <td>276760</td>\n",
       "      <td>2125</td>\n",
       "      <td>11/27/2004</td>\n",
       "      <td>0</td>\n",
       "      <td>20041201000142</td>\n",
       "      <td></td>\n",
       "      <td></td>\n",
       "      <td></td>\n",
       "      <td></td>\n",
       "      <td>...</td>\n",
       "      <td>4</td>\n",
       "      <td>15</td>\n",
       "      <td>N</td>\n",
       "      <td>N</td>\n",
       "      <td>N</td>\n",
       "      <td>N</td>\n",
       "      <td>18</td>\n",
       "      <td>2</td>\n",
       "      <td>18 31 51</td>\n",
       "      <td>2767602125</td>\n",
       "    </tr>\n",
       "    <tr>\n",
       "      <th>...</th>\n",
       "      <td>...</td>\n",
       "      <td>...</td>\n",
       "      <td>...</td>\n",
       "      <td>...</td>\n",
       "      <td>...</td>\n",
       "      <td>...</td>\n",
       "      <td>...</td>\n",
       "      <td>...</td>\n",
       "      <td>...</td>\n",
       "      <td>...</td>\n",
       "      <td>...</td>\n",
       "      <td>...</td>\n",
       "      <td>...</td>\n",
       "      <td>...</td>\n",
       "      <td>...</td>\n",
       "      <td>...</td>\n",
       "      <td>...</td>\n",
       "      <td>...</td>\n",
       "      <td>...</td>\n",
       "      <td>...</td>\n",
       "      <td>...</td>\n",
       "    </tr>\n",
       "    <tr>\n",
       "      <th>2107699</th>\n",
       "      <td>1812700</td>\n",
       "      <td>95200</td>\n",
       "      <td>4005</td>\n",
       "      <td>04/18/2001</td>\n",
       "      <td>675000</td>\n",
       "      <td>20010420001131</td>\n",
       "      <td></td>\n",
       "      <td></td>\n",
       "      <td></td>\n",
       "      <td></td>\n",
       "      <td>...</td>\n",
       "      <td>4</td>\n",
       "      <td>3</td>\n",
       "      <td>N</td>\n",
       "      <td>N</td>\n",
       "      <td>N</td>\n",
       "      <td>N</td>\n",
       "      <td>1</td>\n",
       "      <td>2</td>\n",
       "      <td>45</td>\n",
       "      <td>952004005</td>\n",
       "    </tr>\n",
       "    <tr>\n",
       "      <th>2107700</th>\n",
       "      <td>1812700</td>\n",
       "      <td>95200</td>\n",
       "      <td>4015</td>\n",
       "      <td>04/18/2001</td>\n",
       "      <td>675000</td>\n",
       "      <td>20010420001131</td>\n",
       "      <td></td>\n",
       "      <td></td>\n",
       "      <td></td>\n",
       "      <td></td>\n",
       "      <td>...</td>\n",
       "      <td>4</td>\n",
       "      <td>3</td>\n",
       "      <td>N</td>\n",
       "      <td>N</td>\n",
       "      <td>N</td>\n",
       "      <td>N</td>\n",
       "      <td>1</td>\n",
       "      <td>2</td>\n",
       "      <td>45</td>\n",
       "      <td>952004015</td>\n",
       "    </tr>\n",
       "    <tr>\n",
       "      <th>2107702</th>\n",
       "      <td>1652223</td>\n",
       "      <td>197020</td>\n",
       "      <td>44</td>\n",
       "      <td>11/24/1998</td>\n",
       "      <td>609500</td>\n",
       "      <td>199811251313</td>\n",
       "      <td>007</td>\n",
       "      <td>034</td>\n",
       "      <td>195970</td>\n",
       "      <td>P</td>\n",
       "      <td>...</td>\n",
       "      <td>4</td>\n",
       "      <td>3</td>\n",
       "      <td>N</td>\n",
       "      <td>N</td>\n",
       "      <td>N</td>\n",
       "      <td>N</td>\n",
       "      <td>1</td>\n",
       "      <td>0</td>\n",
       "      <td>1</td>\n",
       "      <td>19702044</td>\n",
       "    </tr>\n",
       "    <tr>\n",
       "      <th>2107947</th>\n",
       "      <td>1734041</td>\n",
       "      <td>789980</td>\n",
       "      <td>800</td>\n",
       "      <td>01/26/2000</td>\n",
       "      <td>389400</td>\n",
       "      <td>20000131000617</td>\n",
       "      <td></td>\n",
       "      <td></td>\n",
       "      <td></td>\n",
       "      <td></td>\n",
       "      <td>...</td>\n",
       "      <td>4</td>\n",
       "      <td>3</td>\n",
       "      <td>N</td>\n",
       "      <td>N</td>\n",
       "      <td>N</td>\n",
       "      <td>N</td>\n",
       "      <td>1</td>\n",
       "      <td>2</td>\n",
       "      <td>1</td>\n",
       "      <td>789980800</td>\n",
       "    </tr>\n",
       "    <tr>\n",
       "      <th>2107957</th>\n",
       "      <td>1794996</td>\n",
       "      <td>11410</td>\n",
       "      <td>500</td>\n",
       "      <td>10/18/2000</td>\n",
       "      <td>0</td>\n",
       "      <td>20010102000193</td>\n",
       "      <td></td>\n",
       "      <td></td>\n",
       "      <td></td>\n",
       "      <td></td>\n",
       "      <td>...</td>\n",
       "      <td>4</td>\n",
       "      <td>3</td>\n",
       "      <td>N</td>\n",
       "      <td>N</td>\n",
       "      <td>N</td>\n",
       "      <td>N</td>\n",
       "      <td>18</td>\n",
       "      <td>2</td>\n",
       "      <td>11 31</td>\n",
       "      <td>11410500</td>\n",
       "    </tr>\n",
       "  </tbody>\n",
       "</table>\n",
       "<p>12487 rows × 25 columns</p>\n",
       "</div>"
      ],
      "text/plain": [
       "         ExciseTaxNbr   Major Minor DocumentDate  SalePrice    RecordingNbr  \\\n",
       "42            2206836     300   101   05/09/2006     321000  20060515002154   \n",
       "264           1432152  917960  1865   05/15/1995          0  199506080826     \n",
       "637           1301377  202304  9494   03/25/1993      55000  199304071001     \n",
       "753           2788184  122000  1125   01/20/2016          0  20160401000774   \n",
       "982           2087158  276760  2125   11/27/2004          0  20041201000142   \n",
       "...               ...     ...   ...          ...        ...             ...   \n",
       "2107699       1812700   95200  4005   04/18/2001     675000  20010420001131   \n",
       "2107700       1812700   95200  4015   04/18/2001     675000  20010420001131   \n",
       "2107702       1652223  197020    44   11/24/1998     609500  199811251313     \n",
       "2107947       1734041  789980   800   01/26/2000     389400  20000131000617   \n",
       "2107957       1794996   11410   500   10/18/2000          0  20010102000193   \n",
       "\n",
       "        Volume Page PlatNbr PlatType  ... PrincipalUse SaleInstrument  \\\n",
       "42                                    ...            4              3   \n",
       "264        003  097  917960        P  ...            4             15   \n",
       "637        000  000  000000           ...            4             15   \n",
       "753                                   ...            4             15   \n",
       "982                                   ...            4             15   \n",
       "...        ...  ...     ...      ...  ...          ...            ...   \n",
       "2107699                               ...            4              3   \n",
       "2107700                               ...            4              3   \n",
       "2107702    007  034  195970        P  ...            4              3   \n",
       "2107947                               ...            4              3   \n",
       "2107957                               ...            4              3   \n",
       "\n",
       "        AFForestLand AFCurrentUseLand  AFNonProfitUse  AFHistoricProperty  \\\n",
       "42                 N                N               N                   N   \n",
       "264                N                N               N                   N   \n",
       "637                N                N               N                   N   \n",
       "753                N                N               N                   N   \n",
       "982                N                N               N                   N   \n",
       "...              ...              ...             ...                 ...   \n",
       "2107699            N                N               N                   N   \n",
       "2107700            N                N               N                   N   \n",
       "2107702            N                N               N                   N   \n",
       "2107947            N                N               N                   N   \n",
       "2107957            N                N               N                   N   \n",
       "\n",
       "         SaleReason PropertyClass SaleWarning         PIN  \n",
       "42                1             8                  300101  \n",
       "264              10             2    32 38 51  9179601865  \n",
       "637               8             2          12  2023049494  \n",
       "753              18             2    11 18 31  1220001125  \n",
       "982              18             2    18 31 51  2767602125  \n",
       "...             ...           ...         ...         ...  \n",
       "2107699           1             2          45   952004005  \n",
       "2107700           1             2          45   952004015  \n",
       "2107702           1             0           1    19702044  \n",
       "2107947           1             2           1   789980800  \n",
       "2107957          18             2       11 31    11410500  \n",
       "\n",
       "[12487 rows x 25 columns]"
      ]
     },
     "execution_count": 17,
     "metadata": {},
     "output_type": "execute_result"
    }
   ],
   "source": [
    "rpsdf.loc[(rpsdf.PrincipalUse== 4)]"
   ]
  },
  {
   "cell_type": "code",
   "execution_count": 23,
   "metadata": {},
   "outputs": [
    {
     "data": {
      "text/html": [
       "<div>\n",
       "<style scoped>\n",
       "    .dataframe tbody tr th:only-of-type {\n",
       "        vertical-align: middle;\n",
       "    }\n",
       "\n",
       "    .dataframe tbody tr th {\n",
       "        vertical-align: top;\n",
       "    }\n",
       "\n",
       "    .dataframe thead th {\n",
       "        text-align: right;\n",
       "    }\n",
       "</style>\n",
       "<table border=\"1\" class=\"dataframe\">\n",
       "  <thead>\n",
       "    <tr style=\"text-align: right;\">\n",
       "      <th></th>\n",
       "      <th>Major</th>\n",
       "      <th>Minor</th>\n",
       "      <th>BldgNbr</th>\n",
       "      <th>NbrLivingUnits</th>\n",
       "      <th>Address</th>\n",
       "      <th>BuildingNumber</th>\n",
       "      <th>Fraction</th>\n",
       "      <th>DirectionPrefix</th>\n",
       "      <th>StreetName</th>\n",
       "      <th>StreetType</th>\n",
       "      <th>...</th>\n",
       "      <th>FpFreestanding</th>\n",
       "      <th>FpAdditional</th>\n",
       "      <th>YrBuilt</th>\n",
       "      <th>YrRenovated</th>\n",
       "      <th>PcntComplete</th>\n",
       "      <th>Obsolescence</th>\n",
       "      <th>PcntNetCondition</th>\n",
       "      <th>Condition</th>\n",
       "      <th>AddnlCost</th>\n",
       "      <th>PIN</th>\n",
       "    </tr>\n",
       "  </thead>\n",
       "  <tbody>\n",
       "    <tr>\n",
       "      <th>117961</th>\n",
       "      <td>300</td>\n",
       "      <td>101</td>\n",
       "      <td>1</td>\n",
       "      <td>2</td>\n",
       "      <td>13607   52ND PL S  98168</td>\n",
       "      <td>13607</td>\n",
       "      <td></td>\n",
       "      <td></td>\n",
       "      <td>52ND</td>\n",
       "      <td>PL</td>\n",
       "      <td>...</td>\n",
       "      <td>0</td>\n",
       "      <td>0</td>\n",
       "      <td>1926</td>\n",
       "      <td>0</td>\n",
       "      <td>0</td>\n",
       "      <td>0</td>\n",
       "      <td>0</td>\n",
       "      <td>3</td>\n",
       "      <td>0</td>\n",
       "      <td>300101</td>\n",
       "    </tr>\n",
       "  </tbody>\n",
       "</table>\n",
       "<p>1 rows × 51 columns</p>\n",
       "</div>"
      ],
      "text/plain": [
       "        Major  Minor  BldgNbr  NbrLivingUnits                   Address  \\\n",
       "117961    300    101        1               2  13607   52ND PL S  98168   \n",
       "\n",
       "       BuildingNumber Fraction DirectionPrefix                 StreetName  \\\n",
       "117961          13607                           52ND                        \n",
       "\n",
       "       StreetType  ... FpFreestanding FpAdditional  YrBuilt  YrRenovated  \\\n",
       "117961     PL      ...              0            0     1926            0   \n",
       "\n",
       "        PcntComplete  Obsolescence  PcntNetCondition  Condition  AddnlCost  \\\n",
       "117961             0             0                 0          3          0   \n",
       "\n",
       "           PIN  \n",
       "117961  300101  \n",
       "\n",
       "[1 rows x 51 columns]"
      ]
     },
     "execution_count": 23,
     "metadata": {},
     "output_type": "execute_result"
    }
   ],
   "source": [
    "rbdf.loc[(rbdf.PIN == \"300101\")]"
   ]
  },
  {
   "cell_type": "code",
   "execution_count": 22,
   "metadata": {},
   "outputs": [
    {
     "data": {
      "text/html": [
       "<div>\n",
       "<style scoped>\n",
       "    .dataframe tbody tr th:only-of-type {\n",
       "        vertical-align: middle;\n",
       "    }\n",
       "\n",
       "    .dataframe tbody tr th {\n",
       "        vertical-align: top;\n",
       "    }\n",
       "\n",
       "    .dataframe thead th {\n",
       "        text-align: right;\n",
       "    }\n",
       "</style>\n",
       "<table border=\"1\" class=\"dataframe\">\n",
       "  <thead>\n",
       "    <tr style=\"text-align: right;\">\n",
       "      <th></th>\n",
       "      <th>Major</th>\n",
       "      <th>Minor</th>\n",
       "      <th>PropName</th>\n",
       "      <th>PlatName</th>\n",
       "      <th>PlatLot</th>\n",
       "      <th>PlatBlock</th>\n",
       "      <th>Range</th>\n",
       "      <th>Township</th>\n",
       "      <th>Section</th>\n",
       "      <th>QuarterSection</th>\n",
       "      <th>...</th>\n",
       "      <th>LandslideHazard</th>\n",
       "      <th>SteepSlopeHazard</th>\n",
       "      <th>Stream</th>\n",
       "      <th>Wetland</th>\n",
       "      <th>SpeciesOfConcern</th>\n",
       "      <th>SensitiveAreaTract</th>\n",
       "      <th>WaterProblems</th>\n",
       "      <th>TranspConcurrency</th>\n",
       "      <th>OtherProblems</th>\n",
       "      <th>PIN</th>\n",
       "    </tr>\n",
       "  </thead>\n",
       "  <tbody>\n",
       "    <tr>\n",
       "      <th>316931</th>\n",
       "      <td>300</td>\n",
       "      <td>101</td>\n",
       "      <td></td>\n",
       "      <td>FOSTER STEPHEN # 38</td>\n",
       "      <td>POR</td>\n",
       "      <td></td>\n",
       "      <td>4</td>\n",
       "      <td>23</td>\n",
       "      <td>14</td>\n",
       "      <td>SW</td>\n",
       "      <td>...</td>\n",
       "      <td>N</td>\n",
       "      <td>N</td>\n",
       "      <td>N</td>\n",
       "      <td>N</td>\n",
       "      <td>N</td>\n",
       "      <td>N</td>\n",
       "      <td>N</td>\n",
       "      <td>N</td>\n",
       "      <td>N</td>\n",
       "      <td>300101</td>\n",
       "    </tr>\n",
       "  </tbody>\n",
       "</table>\n",
       "<p>1 rows × 82 columns</p>\n",
       "</div>"
      ],
      "text/plain": [
       "        Major  Minor PropName             PlatName         PlatLot PlatBlock  \\\n",
       "316931    300    101           FOSTER STEPHEN # 38  POR                        \n",
       "\n",
       "        Range  Township  Section QuarterSection  ... LandslideHazard  \\\n",
       "316931      4        23       14             SW  ...               N   \n",
       "\n",
       "        SteepSlopeHazard  Stream  Wetland  SpeciesOfConcern  \\\n",
       "316931                 N       N        N                 N   \n",
       "\n",
       "       SensitiveAreaTract  WaterProblems TranspConcurrency  OtherProblems  \\\n",
       "316931                  N              N                 N              N   \n",
       "\n",
       "           PIN  \n",
       "316931  300101  \n",
       "\n",
       "[1 rows x 82 columns]"
      ]
     },
     "execution_count": 22,
     "metadata": {},
     "output_type": "execute_result"
    }
   ],
   "source": [
    "parceldf.loc[(parceldf.PIN == \"300101\")]"
   ]
  },
  {
   "cell_type": "markdown",
   "metadata": {},
   "source": [
    "A house sale is if the Sale Reason is none, becuase we beleive at 10pm CT monday night, that Sale Reason is the Sale Reason if there was a forced sale. For example a court orded sale would be a forced sale. If no ones arms were twisted to sell the house the reason would be \"none\""
   ]
  },
  {
   "cell_type": "markdown",
   "metadata": {},
   "source": [
    "Deciding what a \"house\" is on the real property sales table.\n",
    "\n",
    "Join the tables.\n",
    "\n",
    "*What to do with NANs/0s anything that would skew our data.\n",
    "\n",
    "Build graph."
   ]
  },
  {
   "cell_type": "code",
   "execution_count": null,
   "metadata": {},
   "outputs": [],
   "source": [
    "com_df = pd.merge(rbdf,\n",
    "                 parceldf,\n",
    "                 on=\"PIN\")\n",
    "com_df.columns"
   ]
  },
  {
   "cell_type": "markdown",
   "metadata": {},
   "source": [
    "duplex = Number of living units = 2 AND PropType = R | lookup(103)\n",
    "\n",
    "Square Footage = square feet living total\n",
    "\n",
    "Having a porch = square feet encolsed porch > 0 \n",
    "\n",
    "home sales price = sales price\n",
    "\n",
    "beachfront or lakefront =\n",
    "\n",
    "houses with larger house vs garden ratio = lot square foot - house sqaure foot\n",
    "house diameter = sqft 1st floor + sq ft porch(both) + sq ft garage attached, sq ft deck\n",
    "\n",
    "The cost per square foot = \n",
    "\n",
    "single family home = living units = 1 AND PropType = R | lookup(103)\n",
    "\n",
    "Nuisance (power lines, traffic noise, airport noise) = traffic noise + airport noise + power lines + other nuisances\n",
    "\n",
    "Higher square footage increases home sale price1, 2\n",
    "Having a porch increases home sale price3, 4\n",
    "Having a beachfront or lakefront increases home sale price5\n",
    "The house filling a higher proportion of the overall lot decreases home sale price6\n",
    "The cost per square foot is lower in duplexes than in single-family homes7\n",
    "The presence of a nuisance (power lines, traffic noise, airport noise) decreases home sale price1, 5"
   ]
  },
  {
   "cell_type": "markdown",
   "metadata": {},
   "source": [
    "Heatmap for combined table"
   ]
  },
  {
   "cell_type": "code",
   "execution_count": 39,
   "metadata": {},
   "outputs": [
    {
     "data": {
      "image/png": "[encoded data removed]",
      "text/plain": [
       "<Figure size 792x648 with 2 Axes>"
      ]
     },
     "metadata": {
      "needs_background": "light"
     },
     "output_type": "display_data"
    }
   ],
   "source": [
    "corr = parceldf.corr()\n",
    "# The mask is not necessary, but corr() has duplicate values on either side of the diagonal\n",
    "mask = np.triu(np.ones_like(corr, dtype=np.bool))\n",
    "\n",
    "fig1, ax1 = plt.subplots(figsize=(11, 9))\n",
    "sns.heatmap(corr, mask=mask, ax=ax1, cmap=\"viridis\");"
   ]
  },
  {
   "cell_type": "markdown",
   "metadata": {},
   "source": [
    "Rename Columns for graph reasons:"
   ]
  },
  {
   "cell_type": "code",
   "execution_count": 40,
   "metadata": {},
   "outputs": [
    {
     "ename": "IndentationError",
     "evalue": "unexpected indent (<ipython-input-40-104382d48946>, line 2)",
     "output_type": "error",
     "traceback": [
      "\u001b[0;36m  File \u001b[0;32m\"<ipython-input-40-104382d48946>\"\u001b[0;36m, line \u001b[0;32m2\u001b[0m\n\u001b[0;31m    'Life expectancy ': 'Life_Expectancy',\u001b[0m\n\u001b[0m    ^\u001b[0m\n\u001b[0;31mIndentationError\u001b[0m\u001b[0;31m:\u001b[0m unexpected indent\n"
     ]
    }
   ],
   "source": [
    "#df = df.rename(columns={\n",
    "    'Life expectancy ': 'Life_Expectancy',\n",
    "    'ExciseTaxNbr', : 'Excise_Tax_Number'\n",
    "    'DocumentDate', : 'Docuement_Date'\n",
    "    'SalePrice', : 'Sale_Price'\n",
    "    'PropertyType',: 'Property_Type_RPS'\n",
    "    'PrincipalUse', : 'Principal_Use_of_Property'\n",
    "    'SaleInstrument', : 'Sale_Instrument'\n",
    "    'AFHistoricProperty',: 'Is_Historic_Property'\n",
    "    'SaleReason': 'Sales_Reason'\n",
    "    'PropName',: 'Property_Name'\n",
    "    'PropType',: 'Property_Type_Parcel'\n",
    "    'PresentUse',: 'Present_Use'\n",
    "    'SqFtLot',: 'Square_Foot_of_Lot'\n",
    "    'WfntLocation', : 'Is_Waterfront_Location'\n",
    "    'TrafficNoise', : 'Traffic_Noise'\n",
    "    'AirportNoise', : 'Airport_Noise'\n",
    "    'PowerLines', : 'Power_Lines'\n",
    "    'OtherNuisances', : 'Other_Nuisances'\n",
    "    'NbrLivingUnits', : 'Number_of_Living_Units'\n",
    "    'ZipCode', : 'Zip_Code'\n",
    "    'SqFt1stFloor', : 'Square_Foot_of_1st_Floor'\n",
    "    'SqFt2ndFloor', : 'Square_Foot_of_2nd_Floor'\n",
    "    'SqFtUpperFloor', : 'Square_Foot_of_UpperFloor'\n",
    "    'SqFtUnfinFull', : 'Square_Foot_Total_Unfinished'\n",
    "    'SqFtTotLiving', : 'Square_Foot_of_Total_Living'\n",
    "    'SqFtTotBasement', : 'Square_Foot_of_Total_Basement'\n",
    "    'SqFtFinBasement', : 'Square_Foot_of_Finished_Basement'\n",
    "    'SqFtGarageBasement', : 'Square_Foot_of_Garage_Basement'\n",
    "    'SqFtGarageAttached', : 'Square_Foot_of_Attached_Garage'\n",
    "    'SqFtOpenPorch', : 'Square_Foot_of_Open_Porch'\n",
    "    'SqFtEnclosedPorch', : 'Square_Foot_of_Encolsed_Porch'\n",
    "    'SqFtDeck', : 'Square_Foot_of_Deck'\n",
    "    'Bedrooms', : 'Bedroom_Count'\n",
    "    'BathHalfCount', : 'Half_Bathroom_Count'\n",
    "    'BathFullCount' : 'Full_Bathroom_Count'\n",
    "}]"
   ]
  },
  {
   "cell_type": "code",
   "execution_count": 57,
   "metadata": {},
   "outputs": [],
   "source": [
    "#Model to give us a simple model saves it as fsm_results and returns the summary\n",
    "def fsm (df, Independent, Dependent):\n",
    "    fsm = ols(formula=\"dep ~ indep\", data=df)\n",
    "    fsm_results = fsm.fit()\n",
    "    return fsm_results.summary()"
   ]
  },
  {
   "cell_type": "code",
   "execution_count": 58,
   "metadata": {},
   "outputs": [
    {
     "data": {
      "text/html": [
       "<table class=\"simpletable\">\n",
       "<caption>OLS Regression Results</caption>\n",
       "<tr>\n",
       "  <th>Dep. Variable:</th>           <td>dep</td>       <th>  R-squared:         </th>  <td>   0.128</td>  \n",
       "</tr>\n",
       "<tr>\n",
       "  <th>Model:</th>                   <td>OLS</td>       <th>  Adj. R-squared:    </th>  <td>   0.128</td>  \n",
       "</tr>\n",
       "<tr>\n",
       "  <th>Method:</th>             <td>Least Squares</td>  <th>  F-statistic:       </th>  <td>9.061e+04</td> \n",
       "</tr>\n",
       "<tr>\n",
       "  <th>Date:</th>             <td>Tue, 29 Sep 2020</td> <th>  Prob (F-statistic):</th>   <td>  0.00</td>   \n",
       "</tr>\n",
       "<tr>\n",
       "  <th>Time:</th>                 <td>14:58:45</td>     <th>  Log-Likelihood:    </th> <td>-5.8053e+06</td>\n",
       "</tr>\n",
       "<tr>\n",
       "  <th>No. Observations:</th>      <td>616110</td>      <th>  AIC:               </th>  <td>1.161e+07</td> \n",
       "</tr>\n",
       "<tr>\n",
       "  <th>Df Residuals:</th>          <td>616108</td>      <th>  BIC:               </th>  <td>1.161e+07</td> \n",
       "</tr>\n",
       "<tr>\n",
       "  <th>Df Model:</th>              <td>     1</td>      <th>                     </th>      <td> </td>     \n",
       "</tr>\n",
       "<tr>\n",
       "  <th>Covariance Type:</th>      <td>nonrobust</td>    <th>                     </th>      <td> </td>     \n",
       "</tr>\n",
       "</table>\n",
       "<table class=\"simpletable\">\n",
       "<tr>\n",
       "      <td></td>         <th>coef</th>     <th>std err</th>      <th>t</th>      <th>P>|t|</th>  <th>[0.025</th>    <th>0.975]</th>  \n",
       "</tr>\n",
       "<tr>\n",
       "  <th>Intercept</th> <td> 3684.8767</td> <td>    6.958</td> <td>  529.569</td> <td> 0.000</td> <td> 3671.239</td> <td> 3698.515</td>\n",
       "</tr>\n",
       "<tr>\n",
       "  <th>indep</th>     <td>   -0.0040</td> <td> 1.33e-05</td> <td> -301.013</td> <td> 0.000</td> <td>   -0.004</td> <td>   -0.004</td>\n",
       "</tr>\n",
       "</table>\n",
       "<table class=\"simpletable\">\n",
       "<tr>\n",
       "  <th>Omnibus:</th>       <td>94748.874</td> <th>  Durbin-Watson:     </th>  <td>   1.990</td> \n",
       "</tr>\n",
       "<tr>\n",
       "  <th>Prob(Omnibus):</th>  <td> 0.000</td>   <th>  Jarque-Bera (JB):  </th> <td>146477.802</td>\n",
       "</tr>\n",
       "<tr>\n",
       "  <th>Skew:</th>           <td> 1.190</td>   <th>  Prob(JB):          </th>  <td>    0.00</td> \n",
       "</tr>\n",
       "<tr>\n",
       "  <th>Kurtosis:</th>       <td> 3.206</td>   <th>  Cond. No.          </th>  <td>9.52e+05</td> \n",
       "</tr>\n",
       "</table><br/><br/>Warnings:<br/>[1] Standard Errors assume that the covariance matrix of the errors is correctly specified.<br/>[2] The condition number is large, 9.52e+05. This might indicate that there are<br/>strong multicollinearity or other numerical problems."
      ],
      "text/plain": [
       "<class 'statsmodels.iolib.summary.Summary'>\n",
       "\"\"\"\n",
       "                            OLS Regression Results                            \n",
       "==============================================================================\n",
       "Dep. Variable:                    dep   R-squared:                       0.128\n",
       "Model:                            OLS   Adj. R-squared:                  0.128\n",
       "Method:                 Least Squares   F-statistic:                 9.061e+04\n",
       "Date:                Tue, 29 Sep 2020   Prob (F-statistic):               0.00\n",
       "Time:                        14:58:45   Log-Likelihood:            -5.8053e+06\n",
       "No. Observations:              616110   AIC:                         1.161e+07\n",
       "Df Residuals:                  616108   BIC:                         1.161e+07\n",
       "Df Model:                           1                                         \n",
       "Covariance Type:            nonrobust                                         \n",
       "==============================================================================\n",
       "                 coef    std err          t      P>|t|      [0.025      0.975]\n",
       "------------------------------------------------------------------------------\n",
       "Intercept   3684.8767      6.958    529.569      0.000    3671.239    3698.515\n",
       "indep         -0.0040   1.33e-05   -301.013      0.000      -0.004      -0.004\n",
       "==============================================================================\n",
       "Omnibus:                    94748.874   Durbin-Watson:                   1.990\n",
       "Prob(Omnibus):                  0.000   Jarque-Bera (JB):           146477.802\n",
       "Skew:                           1.190   Prob(JB):                         0.00\n",
       "Kurtosis:                       3.206   Cond. No.                     9.52e+05\n",
       "==============================================================================\n",
       "\n",
       "Warnings:\n",
       "[1] Standard Errors assume that the covariance matrix of the errors is correctly specified.\n",
       "[2] The condition number is large, 9.52e+05. This might indicate that there are\n",
       "strong multicollinearity or other numerical problems.\n",
       "\"\"\""
      ]
     },
     "execution_count": 58,
     "metadata": {},
     "output_type": "execute_result"
    }
   ],
   "source": [
    "fsm (parceldf, parceldf.Major, parceldf.Minor)"
   ]
  },
  {
   "cell_type": "markdown",
   "metadata": {},
   "source": [
    "Cohen's D function for effect size"
   ]
  },
  {
   "cell_type": "code",
   "execution_count": 60,
   "metadata": {},
   "outputs": [],
   "source": [
    "def cohen_d (sample1, sample2):\n",
    "    diff = sample1.mean() - sample2.mean()\n",
    "    n1 = len(sample1)\n",
    "    n2 = len(sample2)\n",
    "    var1 = sample1.var(ddof=1)\n",
    "    var2 = sample2.var(ddof=1)\n",
    "    pooled_var = ((n1-1) * var1 + (n2-1) * var2) / (n1+n2-2)\n",
    "    d = diff/np.sqrt(pooled_var)\n",
    "    return d"
   ]
  },
  {
   "cell_type": "markdown",
   "metadata": {},
   "source": [
    "Statistical significance functions:\n",
    "\n",
    "ttest_lside_1samp: built, need to check Null/Alt language is correct\n",
    "\n",
    "ttest_rside_1samp: works\n",
    "\n",
    "ttest_2side_1samp: works\n",
    "\n",
    "ttest_lside_2samp: built, need to check Null/Alt language is correct\n",
    "\n",
    "ttest_rside_2samp: works, does it need welch's?\n",
    "\n",
    "ttest_2side_2samp: works, havent tested welch's?\n",
    "\n",
    "z_test: broken, test statistic returning wrong number UPDATE: may not be broken sample from phase 2 review may have wrong n value -> 45 in sample but n is listed as 40. ASK A PROFF\n"
   ]
  },
  {
   "cell_type": "code",
   "execution_count": 8,
   "metadata": {},
   "outputs": [],
   "source": [
    "def ttest_lside_1samp(alpha, sample, pop_mean):\n",
    "    a = alpha\n",
    "    dof = 1-len(sample)\n",
    "    ci = 1-a\n",
    "    critical_stat=stats.t.ppf(ci, dof)\n",
    "    stat, pvalue = stats.ttest_1samp(sample, pop_mean)                                                 \n",
    "    true_p=pvalue/2\n",
    "    if true_p < a:\n",
    "        print(f\"Our P-Value of -{true_p} is greater than our Alpha of -{a}, so we reject null hypothesis\")\n",
    "    else:\n",
    "        print(f\"Our P-Value of -{true_p} is less than or equal to our Alpha of -{a}, so we fail to reject null hypothesis\") "
   ]
  },
  {
   "cell_type": "code",
   "execution_count": 9,
   "metadata": {},
   "outputs": [
    {
     "name": "stdout",
     "output_type": "stream",
     "text": [
      "Our P-Value of -0.00011919031815483877 is less than our Alpha of -0.05, so we reject null hypothesis\n"
     ]
    }
   ],
   "source": [
    "bank2 = \"128 127 118 115 144 142 133 140 132 131 111 132 149 122 139 119 136 129 126 128\".split(' ')\n",
    "sample = np.array(bank2, int)\n",
    "ttest_lside_1samp(.05, sample, 120)"
   ]
  },
  {
   "cell_type": "code",
   "execution_count": 76,
   "metadata": {},
   "outputs": [],
   "source": [
    "def ttest_rside_1samp(alpha, sample, pop_mean):\n",
    "    a = alpha\n",
    "    dof = 1-len(sample)\n",
    "    ci = 1-a\n",
    "    critical_stat = stats.t.ppf(ci, dof)\n",
    "    stat, pvalue = stats.ttest_1samp(sample, pop_mean)                                                 \n",
    "    true_p=pvalue/2\n",
    "    if true_p < a:\n",
    "        print(f\"Our P-Value of {true_p} is less than our Alpha of {a}, so we reject null hypothesis\")\n",
    "    else:\n",
    "        print(f\"Our P-Value of {true_p} is greater than or equal to our Alpha of {a}, so we fail to reject null hypothesis\")"
   ]
  },
  {
   "cell_type": "code",
   "execution_count": 77,
   "metadata": {},
   "outputs": [
    {
     "name": "stdout",
     "output_type": "stream",
     "text": [
      "Our P-Value of 0.00011919031815483877 is less than our Alpha of 0.05, so we reject null hypothesis\n"
     ]
    }
   ],
   "source": [
    "bank2 = \"128 127 118 115 144 142 133 140 132 131 111 132 149 122 139 119 136 129 126 128\".split(' ')\n",
    "sample = np.array(bank2, int)\n",
    "ttest_rside_1samp(.05, sample, 120)"
   ]
  },
  {
   "cell_type": "code",
   "execution_count": 112,
   "metadata": {},
   "outputs": [],
   "source": [
    "def ttest_2side_1samp(alpha, sample, pop_mean):\n",
    "    stat, pvalue = stats.ttest_1samp(a=sample, popmean=pop_mean)\n",
    "    if pvalue < alpha:\n",
    "        print(f\"Our P-Value of {pvalue} is less than our Alpha of {alpha}, so we reject null hypothesis\")\n",
    "    else:\n",
    "        print(f\"Our P-Value of {pvalue} is greater than or equal to our Alpha of {alpha}, so we fail to reject null hypothesis\")"
   ]
  },
  {
   "cell_type": "code",
   "execution_count": 113,
   "metadata": {},
   "outputs": [
    {
     "name": "stdout",
     "output_type": "stream",
     "text": [
      "Our P-Value of 0.0811068697473857 is greater than or equal to our Alpha of 0.05, so we fail to reject null hypothesis\n"
     ]
    }
   ],
   "source": [
    "samp = \"30 28 32 26 33 25 28 30\".split(' ')\n",
    "samp = np.array(samp, int)\n",
    "ttest_2side_1samp(.05, samp, 31)"
   ]
  },
  {
   "cell_type": "code",
   "execution_count": 11,
   "metadata": {},
   "outputs": [],
   "source": [
    "def ttest_lside_2samp(alpha, sample1, sample2):\n",
    "    \n",
    "    a = alpha\n",
    "    s1_mean = np.mean(sample1)\n",
    "    s2_mean = np.mean(sample2)\n",
    "    s1_var = np.var(sample1)\n",
    "    s2_var = np.var(sample2)\n",
    "    \n",
    "    #determines welch's t or not\n",
    "    if s1_var == s2_var:\n",
    "        statistics, pvalue = stats.ttest_ind(sample1, sample2, equal_var=False)\n",
    "    else:\n",
    "        statistics, pvalue = stats.ttest_ind(sample1, sample2, equal_var=True)\n",
    "        \n",
    "    #determines statistical significance\n",
    "    true_p = pvalue/2\n",
    "    if true_p < a:\n",
    "        print(f\"Our P-Value of -{true_p} is greater than our Alpha of -{a}, so we reject null hypothesis\")\n",
    "    else:\n",
    "        print(f\"Our P-Value of -{true_p} is less than or equal to our Alpha of -{a}, so we fail to reject null hypothesis\")"
   ]
  },
  {
   "cell_type": "code",
   "execution_count": 13,
   "metadata": {},
   "outputs": [
    {
     "name": "stdout",
     "output_type": "stream",
     "text": [
      "Our P-Value of -0.25756938035286653 is less than or equal to our Alpha of -0.05, so we fail to reject null hypothesis\n"
     ]
    }
   ],
   "source": [
    "samp1 = \"19.7475 19.8387 12.6873 17.6973 19.0878 30.5562 14.5291 14.7627 14.3439 12.5745 11.0734 19.4998 18.3869 10.7374 18.0030 18.1730 18.8374 17.9287 15.3563 18.6004 11.7280 12.2898 21.0552 21.4184 25.5953\".split(' ')\n",
    "samp2 = \"17.4715 20.0386 12.6012 20.4401 22.4969 9.8613 19.6289 9.7741 15.1119 17.4448 23.4827 24.9357 19.9265 7.9955 17.6675 13.6029 17.8812 16.4178 5.1385 7.0984 18.1181 20.2681 14.7372 22.5915 16.7546\".split(\" \")\n",
    "samp1 = np.array(samp1, float)\n",
    "samp2 = np.array(samp2, float)\n",
    "ttest_lside_2samp(.05, samp1, samp2)"
   ]
  },
  {
   "cell_type": "code",
   "execution_count": 80,
   "metadata": {},
   "outputs": [],
   "source": [
    "def ttest_rside_2samp(alpha, sample1, sample2):\n",
    "    \n",
    "    a = alpha\n",
    "    s1_mean = np.mean(sample1)\n",
    "    s2_mean = np.mean(sample2)\n",
    "    s1_var = np.var(sample1)\n",
    "    s2_var = np.var(sample2)\n",
    "    \n",
    "    #determines welch's t or not\n",
    "    if s1_var == s2_var:\n",
    "        statistics, pvalue = stats.ttest_ind(sample1, sample2, equal_var=False)\n",
    "    else:\n",
    "        statistics, pvalue = stats.ttest_ind(sample1, sample2, equal_var=True)\n",
    "        \n",
    "    #determines statistical significance\n",
    "    true_p = pvalue/2\n",
    "    if true_p < a:\n",
    "        print(f\"Our P-Value of {true_p} is less than our Alpha of {a}, so we reject null hypothesis\")\n",
    "    else:\n",
    "        print(f\"Our P-Value of {true_p} is greater than or equal to our Alpha of {a}, so we fail to reject null hypothesis\")"
   ]
  },
  {
   "cell_type": "code",
   "execution_count": 81,
   "metadata": {},
   "outputs": [
    {
     "name": "stdout",
     "output_type": "stream",
     "text": [
      "Our P-Value of 0.25756938035286653 is greater than or equal to our Alpha of 0.05, so we fail to reject null hypothesis\n"
     ]
    }
   ],
   "source": [
    "samp1 = \"19.7475 19.8387 12.6873 17.6973 19.0878 30.5562 14.5291 14.7627 14.3439 12.5745 11.0734 19.4998 18.3869 10.7374 18.0030 18.1730 18.8374 17.9287 15.3563 18.6004 11.7280 12.2898 21.0552 21.4184 25.5953\".split(' ')\n",
    "samp2 = \"17.4715 20.0386 12.6012 20.4401 22.4969 9.8613 19.6289 9.7741 15.1119 17.4448 23.4827 24.9357 19.9265 7.9955 17.6675 13.6029 17.8812 16.4178 5.1385 7.0984 18.1181 20.2681 14.7372 22.5915 16.7546\".split(\" \")\n",
    "samp1 = np.array(samp1, float)\n",
    "samp2 = np.array(samp2, float)\n",
    "ttest_rside_2samp(.05, samp1, samp2)"
   ]
  },
  {
   "cell_type": "code",
   "execution_count": 65,
   "metadata": {},
   "outputs": [],
   "source": [
    "def ttest_2side_2samp(alpha, sample1, sample2):\n",
    "    \n",
    "    a = alpha\n",
    "    s1_mean = np.mean(sample1)\n",
    "    s2_mean = np.mean(sample2)\n",
    "    s1_var = np.var(sample1)\n",
    "    s2_var = np.var(sample2)\n",
    "    \n",
    "    #determines welch's t or not\n",
    "    if s1_var == s2_var:\n",
    "        statistics, pvalue = stats.ttest_ind(sample1, sample2, equal_var=False)\n",
    "    else:\n",
    "        statistics, pvalue = stats.ttest_ind(sample1, sample2, equal_var=True)\n",
    "        \n",
    "    if pvalue < a:\n",
    "        print(f\"Our P-Value of {pvalue} is less than our Alpha of {a}, so we reject null hypothesis\")\n",
    "    else:\n",
    "        print(f\"Our P-Value of {pvalue} is greater than or equal to our Alpha of {a}, so we fail to reject null hypothesis\")"
   ]
  },
  {
   "cell_type": "code",
   "execution_count": 110,
   "metadata": {},
   "outputs": [
    {
     "name": "stdout",
     "output_type": "stream",
     "text": [
      "Our P-Value of 0.07573012895667763 is greater than or equal to our Alpha of 0.05, so we fail to reject null hypothesis\n"
     ]
    }
   ],
   "source": [
    "a = .05\n",
    "set1= \"134 146 104 119 124 161 107 83 113 129 97 123\".split(' ')\n",
    "set2= \"70 118 101 85 107 132 94\".split(' ')\n",
    "set1=np.array(set1, int)\n",
    "set2=np.array(set2, int)\n",
    "ttest_2side_2samp(.05, set1, set2)"
   ]
  },
  {
   "cell_type": "code",
   "execution_count": 104,
   "metadata": {},
   "outputs": [],
   "source": [
    "def z_test (alpha, array, pop_mean, pop_std):\n",
    "    a = alpha\n",
    "    crit_stat = 1-a\n",
    "    crit_statz = stats.norm.ppf(crit_stat)\n",
    "    test_stat = (np.mean(array) - pop_mean)/(pop_std/(len(array)**.5))\n",
    "    \n",
    "    if crit_statz < test_stat:\n",
    "        print(f\"Our Critical Statistic of {crit_statz} is less than our Test Statistic of {test_stat}, so we reject null hypothesis\")\n",
    "    else:\n",
    "        print(f\"Our Critical Statistic of {crit_statz} is greater than or equal to our Test Statistic of {test_stat}, so we fail to reject null hypothesis\")"
   ]
  },
  {
   "cell_type": "code",
   "execution_count": 105,
   "metadata": {},
   "outputs": [
    {
     "name": "stdout",
     "output_type": "stream",
     "text": [
      "Our Critical Statistic of 1.6448536269514722 is less than our Test Statistic of 2.00053548386981, so we reject null hypothesis\n"
     ]
    }
   ],
   "source": [
    "bank = \"434 694 457 534 720 400 484 478 610 641 425 636 454 514 563 370 499 640 501 625 519 471 598 509 531 511 675 450 485 507 550 512 542 633 575 595 508 499 490 597 522 504 550 430 400\".split(' ')\n",
    "bank2 = np.array(bank, int)\n",
    "z_test(.05, bank2, 500, 100)"
   ]
  },
  {
   "cell_type": "code",
   "execution_count": 103,
   "metadata": {},
   "outputs": [
    {
     "name": "stdout",
     "output_type": "stream",
     "text": [
      "2.00053548386981\n",
      "from z-table, z-score of 1.8 has distribution at or below of .9641\n",
      "0.9772787638661184\n",
      "0.02272123613388158\n"
     ]
    }
   ],
   "source": [
    "from scipy import stats\n",
    "import numpy as np\n",
    "\n",
    "data = '''434 694 457 534 720 400 484 478 610 641 \n",
    "425 636 454 514 563 370 499 640 501 625 \n",
    "519 471 598 509 531 511 675 450 485 507 \n",
    "550 512 542 633 575 595 508 499 490 597 \n",
    "522 504 550 430 400'''\n",
    "\n",
    "def parse_data(data_to_parse, splits=' '):\n",
    "    parsed = [float(val) for val in data_to_parse.split(splits)]\n",
    "    return parsed\n",
    "\n",
    "data = parse_data(data)\n",
    "\n",
    "mean = np.mean(data)\n",
    "std = np.std(data)\n",
    "\n",
    "denom = 100/np.sqrt(len(data))\n",
    "\n",
    "z = (mean - 500)/denom\n",
    "print(z)\n",
    "print(f'from z-table, z-score of 1.8 has distribution at or below of .9641')\n",
    "print(stats.norm.cdf(z))\n",
    "print(stats.norm.sf(z)) "
   ]
  },
  {
   "cell_type": "markdown",
   "metadata": {},
   "source": [
    "Do your best to have features meet the assumptions of a linear regression (no multicollinearity, linear with respect to the outcome variable, errors are normally distributed, etc.)."
   ]
  },
  {
   "cell_type": "markdown",
   "metadata": {},
   "source": [
    "Note: This is difficult! We will be looking most of all for improvement on this score. In order to demonstrate improvement, you should create a (not very good) model that will serve as a kind of baseline. Then you can compare future regression models that you build with that baseline."
   ]
  },
  {
   "cell_type": "markdown",
   "metadata": {},
   "source": [
    "ASSUMPTIONS:\n",
    "\n",
    "1null\n",
    "\n",
    "1alt\n",
    "\n",
    "2null\n",
    "\n",
    "2alt\n",
    "\n",
    "3null\n",
    "\n",
    "3alt"
   ]
  },
  {
   "cell_type": "markdown",
   "metadata": {},
   "source": [
    "Functions:\n",
    "\n",
    "Linearity:\n",
    "Rainbow Test: built - to be tested\n",
    "\n",
    "The null hypothesis is that the model is linearly predicted by the features, alternative hypothesis is that it is not. Thusreturning a low p-value means that the current model violates the linearity assumption.\n",
    "\n",
    "\n",
    "Normality: built - to be tested\n",
    "\n",
    "The Jarque-Bera test is performed automatically as part of the model summary output, labeled Jarque-Bera (JB) and Prob(JB).\n",
    "The null hypothesis is that the residuals are normally distributed, alternative hypothesis is that they are not. Thus returning a low p-value means that the current model violates the normality assumption.\n",
    "\n",
    "\n",
    "Homoscedasticity: built - to be tested\n",
    "\n",
    "Breusch-Pagan Test -\n",
    "The null hypothesis is homoscedasticity, alternative hypothesis is heteroscedasticity. Thus returning a low p-value means that the current model violates the homoscedasticity assumption"
   ]
  },
  {
   "cell_type": "markdown",
   "metadata": {},
   "source": [
    "WHERE:\n",
    "\n",
    "    fsm_df = df[[\"indep\", \"dep\"]].copy()\n",
    "\n",
    "    fsm = ols(formula=\"dep ~ indep\", data=fsm_df)\n",
    "    \n",
    "    fsm_results = fsm.fit()"
   ]
  },
  {
   "cell_type": "code",
   "execution_count": 2,
   "metadata": {},
   "outputs": [],
   "source": [
    "def lin_rainbow_test (fsm_results):\n",
    "    rainbow_statistic, rainbow_p_value = linear_rainbow(fsm_results)\n",
    "    print(\"Rainbow statistic:\", rainbow_statistic)\n",
    "    print(\"Rainbow p-value:\", rainbow_p_value)"
   ]
  },
  {
   "cell_type": "code",
   "execution_count": 38,
   "metadata": {},
   "outputs": [],
   "source": [
    "def norm_hist_qq_test(data, indep, nbins):\n",
    "    data = sm.datasets.longley.load(as_pandas=False)\n",
    "    exog = sm.add_constant(data.exog)\n",
    "    mod_fit = sm.OLS(data.endog, exog).fit()\n",
    "    res = mod_fit.resid # residuals\n",
    "    \n",
    "    #hist\n",
    "    plt.hist(indep, bins=nbins)\n",
    "    \n",
    "    #first QQ\n",
    "    sm.qqplot(res)\n",
    "    plt.show()\n",
    "    \n",
    "    #Probplot with line of best fit\n",
    "    measurements = np.random.normal(loc = 20, scale = 5, size=100)   \n",
    "    stats.probplot(res, dist=\"norm\", plot=pylab)\n",
    "    pylab.show()\n"
   ]
  },
  {
   "cell_type": "code",
   "execution_count": 42,
   "metadata": {},
   "outputs": [
    {
     "data": {
      "image/png": "[encoded data removed]",
      "text/plain": [
       "<Figure size 432x288 with 1 Axes>"
      ]
     },
     "metadata": {
      "needs_background": "light"
     },
     "output_type": "display_data"
    },
    {
     "data": {
      "image/png": "[encoded data removed]",
      "text/plain": [
       "<Figure size 432x288 with 1 Axes>"
      ]
     },
     "metadata": {
      "needs_background": "light"
     },
     "output_type": "display_data"
    },
    {
     "data": {
      "image/png": "[encoded data removed]",
      "text/plain": [
       "<Figure size 432x288 with 1 Axes>"
      ]
     },
     "metadata": {
      "needs_background": "light"
     },
     "output_type": "display_data"
    }
   ],
   "source": [
    "norm_hist_qq_test(parceldf, parceldf.Minor, 100)"
   ]
  },
  {
   "cell_type": "code",
   "execution_count": 5,
   "metadata": {},
   "outputs": [],
   "source": [
    "def hscdty_brpa_test (indep, dep, fsm_df, fsm_results):\n",
    "    \n",
    "    #Produces visual scatter graph\n",
    "    y = fsm_df[f\"Predicted {dep}\"]\n",
    "    y_hat = fsm_results.predict()\n",
    "    fig, ax = plt.subplots()\n",
    "    ax.set(xlabel=f\"{dep}\",\n",
    "        ylabel=f\"Residuals (Actual - Predicted {dep})\")\n",
    "    ax.scatter(x=y_hat, y=y-y_hat, color=\"blue\", alpha=0.2);\n",
    "    \n",
    "    #Breusch-Pagan Test:\n",
    "    lm, lm_p_value, fvalue, f_p_value = het_breuschpagan(y-y_hat, fsm_df[[f\"{indep}\"]])\n",
    "    print(\"Lagrange Multiplier p-value:\", lm_p_value)\n",
    "    print(\"F-statistic p-value:\", f_p_value) "
   ]
  },
  {
   "cell_type": "markdown",
   "metadata": {},
   "source": [
    "Find median for Price Sale in rpsdf\n",
    "\n",
    "use a n of 27000 roughly the size of our data\n",
    "\n",
    "find three stds away and what points those are on our min and max see if that would be a good indicator middle class"
   ]
  },
  {
   "cell_type": "code",
   "execution_count": 45,
   "metadata": {},
   "outputs": [
    {
     "data": {
      "text/plain": [
       "153000.0"
      ]
     },
     "execution_count": 45,
     "metadata": {},
     "output_type": "execute_result"
    }
   ],
   "source": [
    "rpsdf.SalePrice.median()"
   ]
  },
  {
   "cell_type": "code",
   "execution_count": 56,
   "metadata": {},
   "outputs": [],
   "source": [
    "itest=test.astype(int)"
   ]
  },
  {
   "cell_type": "code",
   "execution_count": 58,
   "metadata": {},
   "outputs": [],
   "source": [
    "def zscore(s):\n",
    "    return (s - np.mean(s)) / np.std(s)"
   ]
  },
  {
   "cell_type": "code",
   "execution_count": 68,
   "metadata": {},
   "outputs": [
    {
     "data": {
      "text/plain": [
       "27000"
      ]
     },
     "execution_count": 68,
     "metadata": {},
     "output_type": "execute_result"
    }
   ],
   "source": [
    "test_zscore = zscore(test)\n",
    "len(test_zscore)"
   ]
  },
  {
   "cell_type": "code",
   "execution_count": 74,
   "metadata": {},
   "outputs": [
    {
     "data": {
      "text/plain": [
       "25807"
      ]
     },
     "execution_count": 74,
     "metadata": {},
     "output_type": "execute_result"
    }
   ],
   "source": [
    "\n",
    "bank = []\n",
    "for x in test_zscore:\n",
    "    if 2>x>-2:\n",
    "        bank.append(x)\n",
    "len(bank)\n",
    "#1193 outliers"
   ]
  },
  {
   "cell_type": "code",
   "execution_count": 77,
   "metadata": {},
   "outputs": [
    {
     "name": "stderr",
     "output_type": "stream",
     "text": [
      "IOPub data rate exceeded.\n",
      "The notebook server will temporarily stop sending output\n",
      "to the client in order to avoid crashing it.\n",
      "To change this limit, set the config variable\n",
      "`--NotebookApp.iopub_data_rate_limit`.\n",
      "\n",
      "Current values:\n",
      "NotebookApp.iopub_data_rate_limit=1000000.0 (bytes/sec)\n",
      "NotebookApp.rate_limit_window=3.0 (secs)\n",
      "\n"
     ]
    }
   ],
   "source": [
    "mean = np.mean(rpsdf.SalePrice, axis=0)\n",
    "sd = np.std(rpsdf.SalePrice, axis=0)\n",
    "\n",
    "final_list = [x for x in rpsdf.SalePrice if (x > mean - 2 * sd)]\n",
    "final_list = [x for x in final_list if (x < mean + 2 * sd)]\n",
    "print(final_list)"
   ]
  },
  {
   "cell_type": "code",
   "execution_count": 50,
   "metadata": {},
   "outputs": [
    {
     "ename": "NameError",
     "evalue": "name 'show' is not defined",
     "output_type": "error",
     "traceback": [
      "\u001b[0;31m---------------------------------------------------------------------------\u001b[0m",
      "\u001b[0;31mNameError\u001b[0m                                 Traceback (most recent call last)",
      "\u001b[0;32m<ipython-input-50-b4eba272f059>\u001b[0m in \u001b[0;36m<module>\u001b[0;34m\u001b[0m\n\u001b[1;32m      1\u001b[0m \u001b[0mplt\u001b[0m\u001b[0;34m.\u001b[0m\u001b[0mhist\u001b[0m\u001b[0;34m(\u001b[0m\u001b[0mtest\u001b[0m\u001b[0;34m,\u001b[0m \u001b[0mbins\u001b[0m\u001b[0;34m=\u001b[0m\u001b[0;36m1000\u001b[0m\u001b[0;34m)\u001b[0m\u001b[0;34m\u001b[0m\u001b[0;34m\u001b[0m\u001b[0m\n\u001b[0;32m----> 2\u001b[0;31m \u001b[0mshow\u001b[0m\u001b[0;34m.\u001b[0m\u001b[0mplt\u001b[0m\u001b[0;34m(\u001b[0m\u001b[0;34m)\u001b[0m\u001b[0;34m\u001b[0m\u001b[0;34m\u001b[0m\u001b[0m\n\u001b[0m",
      "\u001b[0;31mNameError\u001b[0m: name 'show' is not defined"
     ]
    },
    {
     "data": {
      "image/png": "[encoded data removed]",
      "text/plain": [
       "<Figure size 432x288 with 1 Axes>"
      ]
     },
     "metadata": {
      "needs_background": "light"
     },
     "output_type": "display_data"
    }
   ],
   "source": [
    "plt.hist(test, bins=1000)\n",
    "show.plt()"
   ]
  },
  {
   "cell_type": "code",
   "execution_count": null,
   "metadata": {},
   "outputs": [],
   "source": [
    "mean = numpy.mean(elements, axis=0)\n",
    "sd = numpy.std(elements, axis=0)\n",
    "\n",
    "final_list = [x for x in arr if (x > mean - 2 * sd)]\n",
    "final_list = [x for x in final_list if (x < mean + 2 * sd)]"
   ]
  },
  {
   "cell_type": "code",
   "execution_count": 78,
   "metadata": {},
   "outputs": [
    {
     "data": {
      "text/html": [
       "<div>\n",
       "<style scoped>\n",
       "    .dataframe tbody tr th:only-of-type {\n",
       "        vertical-align: middle;\n",
       "    }\n",
       "\n",
       "    .dataframe tbody tr th {\n",
       "        vertical-align: top;\n",
       "    }\n",
       "\n",
       "    .dataframe thead th {\n",
       "        text-align: right;\n",
       "    }\n",
       "</style>\n",
       "<table border=\"1\" class=\"dataframe\">\n",
       "  <thead>\n",
       "    <tr style=\"text-align: right;\">\n",
       "      <th></th>\n",
       "      <th>Data</th>\n",
       "    </tr>\n",
       "  </thead>\n",
       "  <tbody>\n",
       "    <tr>\n",
       "      <th>0</th>\n",
       "      <td>0.143765</td>\n",
       "    </tr>\n",
       "    <tr>\n",
       "      <th>1</th>\n",
       "      <td>0.028389</td>\n",
       "    </tr>\n",
       "    <tr>\n",
       "      <th>2</th>\n",
       "      <td>-0.085735</td>\n",
       "    </tr>\n",
       "    <tr>\n",
       "      <th>3</th>\n",
       "      <td>0.880665</td>\n",
       "    </tr>\n",
       "    <tr>\n",
       "      <th>4</th>\n",
       "      <td>-1.728095</td>\n",
       "    </tr>\n",
       "    <tr>\n",
       "      <th>...</th>\n",
       "      <td>...</td>\n",
       "    </tr>\n",
       "    <tr>\n",
       "      <th>195</th>\n",
       "      <td>-2.054320</td>\n",
       "    </tr>\n",
       "    <tr>\n",
       "      <th>196</th>\n",
       "      <td>-0.994928</td>\n",
       "    </tr>\n",
       "    <tr>\n",
       "      <th>197</th>\n",
       "      <td>1.117950</td>\n",
       "    </tr>\n",
       "    <tr>\n",
       "      <th>198</th>\n",
       "      <td>0.743388</td>\n",
       "    </tr>\n",
       "    <tr>\n",
       "      <th>199</th>\n",
       "      <td>-1.808556</td>\n",
       "    </tr>\n",
       "  </tbody>\n",
       "</table>\n",
       "<p>200 rows × 1 columns</p>\n",
       "</div>"
      ],
      "text/plain": [
       "         Data\n",
       "0    0.143765\n",
       "1    0.028389\n",
       "2   -0.085735\n",
       "3    0.880665\n",
       "4   -1.728095\n",
       "..        ...\n",
       "195 -2.054320\n",
       "196 -0.994928\n",
       "197  1.117950\n",
       "198  0.743388\n",
       "199 -1.808556\n",
       "\n",
       "[200 rows x 1 columns]"
      ]
     },
     "execution_count": 78,
     "metadata": {},
     "output_type": "execute_result"
    }
   ],
   "source": [
    "def outlier_remover (dataframe, column, n):\n",
    "df=pd.DataFrame({'Data':np.random.normal(size=len(column))})  #example \n",
    "df[np.abs(df.Data-df.Data.mean())<=(3*df.Data.std())] #keep only the ones that are within +3 to -3 standarddeviations in the column 'Data'.\n",
    "df[~(np.abs(df.Data-df.Data.mean())>(3*df.Data.std()))] #or the other way around"
   ]
  },
  {
   "cell_type": "code",
   "execution_count": 86,
   "metadata": {},
   "outputs": [
    {
     "ename": "NameError",
     "evalue": "name 'all_residential' is not defined",
     "output_type": "error",
     "traceback": [
      "\u001b[0;31m---------------------------------------------------------------------------\u001b[0m",
      "\u001b[0;31mNameError\u001b[0m                                 Traceback (most recent call last)",
      "\u001b[0;32m<ipython-input-86-9f53cdea5b56>\u001b[0m in \u001b[0;36m<module>\u001b[0;34m\u001b[0m\n\u001b[1;32m      1\u001b[0m \u001b[0mf\u001b[0m \u001b[0;34m=\u001b[0m \u001b[0;34m'SalePrice~SqFtTotLiving'\u001b[0m\u001b[0;34m\u001b[0m\u001b[0;34m\u001b[0m\u001b[0m\n\u001b[0;32m----> 2\u001b[0;31m \u001b[0mmodel\u001b[0m \u001b[0;34m=\u001b[0m \u001b[0mols\u001b[0m\u001b[0;34m(\u001b[0m\u001b[0mformula\u001b[0m\u001b[0;34m=\u001b[0m\u001b[0mf\u001b[0m\u001b[0;34m,\u001b[0m \u001b[0mdata\u001b[0m\u001b[0;34m=\u001b[0m\u001b[0mall_residential\u001b[0m\u001b[0;34m)\u001b[0m\u001b[0;34m\u001b[0m\u001b[0;34m\u001b[0m\u001b[0m\n\u001b[0m\u001b[1;32m      3\u001b[0m \u001b[0mresults\u001b[0m \u001b[0;34m=\u001b[0m \u001b[0mmodel\u001b[0m\u001b[0;34m.\u001b[0m\u001b[0mfit\u001b[0m\u001b[0;34m(\u001b[0m\u001b[0;34m)\u001b[0m\u001b[0;34m\u001b[0m\u001b[0;34m\u001b[0m\u001b[0m\n\u001b[1;32m      4\u001b[0m \u001b[0;34m\u001b[0m\u001b[0m\n\u001b[1;32m      5\u001b[0m \u001b[0mresults\u001b[0m\u001b[0;34m.\u001b[0m\u001b[0msummary\u001b[0m\u001b[0;34m(\u001b[0m\u001b[0;34m)\u001b[0m\u001b[0;34m\u001b[0m\u001b[0;34m\u001b[0m\u001b[0m\n",
      "\u001b[0;31mNameError\u001b[0m: name 'all_residential' is not defined"
     ]
    }
   ],
   "source": [
    "f = 'SalePrice~SqFtTotLiving'\n",
    "model = ols(formula=f, data=all_residential)\n",
    "results = model.fit()\n",
    "\n",
    "results.summary()"
   ]
  },
  {
   "cell_type": "code",
   "execution_count": 30,
   "metadata": {},
   "outputs": [],
   "source": [
    "rps_parcel_dfmerge = pd.merge(rpsdf, parceldf,  how='left', left_on=['Major','Minor'], right_on = ['Major','Minor'])\n",
    "rps_parcel_resbld_dfmerge = pd.merge(rps_parcel_dfmerge, rbdf, how='left', left_on=['Major', 'Minor'], right_on=['Major','Minor'])"
   ]
  },
  {
   "cell_type": "code",
   "execution_count": 31,
   "metadata": {},
   "outputs": [
    {
     "data": {
      "text/html": [
       "<div>\n",
       "<style scoped>\n",
       "    .dataframe tbody tr th:only-of-type {\n",
       "        vertical-align: middle;\n",
       "    }\n",
       "\n",
       "    .dataframe tbody tr th {\n",
       "        vertical-align: top;\n",
       "    }\n",
       "\n",
       "    .dataframe thead th {\n",
       "        text-align: right;\n",
       "    }\n",
       "</style>\n",
       "<table border=\"1\" class=\"dataframe\">\n",
       "  <thead>\n",
       "    <tr style=\"text-align: right;\">\n",
       "      <th></th>\n",
       "      <th>ExciseTaxNbr</th>\n",
       "      <th>Major</th>\n",
       "      <th>Minor</th>\n",
       "      <th>DocumentDate</th>\n",
       "      <th>SalePrice</th>\n",
       "      <th>RecordingNbr</th>\n",
       "      <th>Volume</th>\n",
       "      <th>Page</th>\n",
       "      <th>PlatNbr</th>\n",
       "      <th>PlatType</th>\n",
       "      <th>...</th>\n",
       "      <th>FpMultiStory</th>\n",
       "      <th>FpFreestanding</th>\n",
       "      <th>FpAdditional</th>\n",
       "      <th>YrBuilt</th>\n",
       "      <th>YrRenovated</th>\n",
       "      <th>PcntComplete</th>\n",
       "      <th>Obsolescence</th>\n",
       "      <th>PcntNetCondition</th>\n",
       "      <th>Condition</th>\n",
       "      <th>AddnlCost</th>\n",
       "    </tr>\n",
       "  </thead>\n",
       "  <tbody>\n",
       "    <tr>\n",
       "      <th>0</th>\n",
       "      <td>2671216</td>\n",
       "      <td>98400</td>\n",
       "      <td>380</td>\n",
       "      <td>04/02/2014</td>\n",
       "      <td>0</td>\n",
       "      <td>20140602000186</td>\n",
       "      <td></td>\n",
       "      <td></td>\n",
       "      <td></td>\n",
       "      <td></td>\n",
       "      <td>...</td>\n",
       "      <td>1.0</td>\n",
       "      <td>0.0</td>\n",
       "      <td>1.0</td>\n",
       "      <td>1967.0</td>\n",
       "      <td>0.0</td>\n",
       "      <td>0.0</td>\n",
       "      <td>0.0</td>\n",
       "      <td>0.0</td>\n",
       "      <td>4.0</td>\n",
       "      <td>0.0</td>\n",
       "    </tr>\n",
       "    <tr>\n",
       "      <th>1</th>\n",
       "      <td>2201052</td>\n",
       "      <td>889980</td>\n",
       "      <td>280</td>\n",
       "      <td>03/03/2006</td>\n",
       "      <td>0</td>\n",
       "      <td>20060420001615</td>\n",
       "      <td></td>\n",
       "      <td></td>\n",
       "      <td></td>\n",
       "      <td></td>\n",
       "      <td>...</td>\n",
       "      <td>NaN</td>\n",
       "      <td>NaN</td>\n",
       "      <td>NaN</td>\n",
       "      <td>NaN</td>\n",
       "      <td>NaN</td>\n",
       "      <td>NaN</td>\n",
       "      <td>NaN</td>\n",
       "      <td>NaN</td>\n",
       "      <td>NaN</td>\n",
       "      <td>NaN</td>\n",
       "    </tr>\n",
       "    <tr>\n",
       "      <th>2</th>\n",
       "      <td>2548641</td>\n",
       "      <td>330395</td>\n",
       "      <td>1610</td>\n",
       "      <td>06/07/2012</td>\n",
       "      <td>335000</td>\n",
       "      <td>20120615000867</td>\n",
       "      <td></td>\n",
       "      <td></td>\n",
       "      <td></td>\n",
       "      <td></td>\n",
       "      <td>...</td>\n",
       "      <td>1.0</td>\n",
       "      <td>0.0</td>\n",
       "      <td>0.0</td>\n",
       "      <td>1994.0</td>\n",
       "      <td>0.0</td>\n",
       "      <td>0.0</td>\n",
       "      <td>0.0</td>\n",
       "      <td>0.0</td>\n",
       "      <td>3.0</td>\n",
       "      <td>4500.0</td>\n",
       "    </tr>\n",
       "    <tr>\n",
       "      <th>3</th>\n",
       "      <td>1598443</td>\n",
       "      <td>675260</td>\n",
       "      <td>940</td>\n",
       "      <td>03/06/1998</td>\n",
       "      <td>209950</td>\n",
       "      <td>199803122092</td>\n",
       "      <td>165</td>\n",
       "      <td>041</td>\n",
       "      <td>675260</td>\n",
       "      <td>P</td>\n",
       "      <td>...</td>\n",
       "      <td>0.0</td>\n",
       "      <td>0.0</td>\n",
       "      <td>0.0</td>\n",
       "      <td>1995.0</td>\n",
       "      <td>0.0</td>\n",
       "      <td>0.0</td>\n",
       "      <td>0.0</td>\n",
       "      <td>0.0</td>\n",
       "      <td>3.0</td>\n",
       "      <td>3260.0</td>\n",
       "    </tr>\n",
       "    <tr>\n",
       "      <th>4</th>\n",
       "      <td>2339550</td>\n",
       "      <td>795508</td>\n",
       "      <td>170</td>\n",
       "      <td>03/28/2008</td>\n",
       "      <td>0</td>\n",
       "      <td>20080331002272</td>\n",
       "      <td></td>\n",
       "      <td></td>\n",
       "      <td></td>\n",
       "      <td></td>\n",
       "      <td>...</td>\n",
       "      <td>0.0</td>\n",
       "      <td>0.0</td>\n",
       "      <td>0.0</td>\n",
       "      <td>1982.0</td>\n",
       "      <td>0.0</td>\n",
       "      <td>0.0</td>\n",
       "      <td>0.0</td>\n",
       "      <td>0.0</td>\n",
       "      <td>4.0</td>\n",
       "      <td>0.0</td>\n",
       "    </tr>\n",
       "  </tbody>\n",
       "</table>\n",
       "<p>5 rows × 151 columns</p>\n",
       "</div>"
      ],
      "text/plain": [
       "   ExciseTaxNbr   Major Minor DocumentDate  SalePrice    RecordingNbr Volume  \\\n",
       "0       2671216   98400   380   04/02/2014          0  20140602000186          \n",
       "1       2201052  889980   280   03/03/2006          0  20060420001615          \n",
       "2       2548641  330395  1610   06/07/2012     335000  20120615000867          \n",
       "3       1598443  675260   940   03/06/1998     209950  199803122092      165   \n",
       "4       2339550  795508   170   03/28/2008          0  20080331002272          \n",
       "\n",
       "  Page PlatNbr PlatType  ... FpMultiStory FpFreestanding FpAdditional YrBuilt  \\\n",
       "0                        ...          1.0            0.0          1.0  1967.0   \n",
       "1                        ...          NaN            NaN          NaN     NaN   \n",
       "2                        ...          1.0            0.0          0.0  1994.0   \n",
       "3  041  675260        P  ...          0.0            0.0          0.0  1995.0   \n",
       "4                        ...          0.0            0.0          0.0  1982.0   \n",
       "\n",
       "   YrRenovated  PcntComplete  Obsolescence PcntNetCondition Condition  \\\n",
       "0          0.0           0.0           0.0              0.0       4.0   \n",
       "1          NaN           NaN           NaN              NaN       NaN   \n",
       "2          0.0           0.0           0.0              0.0       3.0   \n",
       "3          0.0           0.0           0.0              0.0       3.0   \n",
       "4          0.0           0.0           0.0              0.0       4.0   \n",
       "\n",
       "  AddnlCost  \n",
       "0       0.0  \n",
       "1       NaN  \n",
       "2    4500.0  \n",
       "3    3260.0  \n",
       "4       0.0  \n",
       "\n",
       "[5 rows x 151 columns]"
      ]
     },
     "execution_count": 31,
     "metadata": {},
     "output_type": "execute_result"
    }
   ],
   "source": [
    "rps_parcel_resbld_dfmerge.head()"
   ]
  },
  {
   "cell_type": "code",
   "execution_count": 90,
   "metadata": {},
   "outputs": [
    {
     "ename": "NameError",
     "evalue": "name 'all_merge' is not defined",
     "output_type": "error",
     "traceback": [
      "\u001b[0;31m---------------------------------------------------------------------------\u001b[0m",
      "\u001b[0;31mNameError\u001b[0m                                 Traceback (most recent call last)",
      "\u001b[0;32m<ipython-input-90-dfc645fb107f>\u001b[0m in \u001b[0;36m<module>\u001b[0;34m\u001b[0m\n\u001b[0;32m----> 1\u001b[0;31m \u001b[0mall_sales_2019_merged\u001b[0m \u001b[0;34m=\u001b[0m \u001b[0mall_merge\u001b[0m\u001b[0;34m[\u001b[0m\u001b[0;34m(\u001b[0m\u001b[0mall_merge\u001b[0m\u001b[0;34m.\u001b[0m\u001b[0mSalePrice\u001b[0m \u001b[0;34m>\u001b[0m \u001b[0;36m50000\u001b[0m\u001b[0;34m)\u001b[0m \u001b[0;34m&\u001b[0m \u001b[0;34m(\u001b[0m\u001b[0mall_merge\u001b[0m\u001b[0;34m.\u001b[0m\u001b[0mDocumentDate\u001b[0m \u001b[0;34m>\u001b[0m \u001b[0;34m'2019'\u001b[0m\u001b[0;34m)\u001b[0m \u001b[0;34m&\u001b[0m \u001b[0;34m(\u001b[0m\u001b[0mall_merge\u001b[0m\u001b[0;34m.\u001b[0m\u001b[0mDocumentDate\u001b[0m \u001b[0;34m<\u001b[0m \u001b[0;34m'2020'\u001b[0m\u001b[0;34m)\u001b[0m\u001b[0;34m]\u001b[0m\u001b[0;34m.\u001b[0m\u001b[0msort_values\u001b[0m\u001b[0;34m(\u001b[0m\u001b[0;34m\"DocumentDate\"\u001b[0m\u001b[0;34m)\u001b[0m\u001b[0;34m\u001b[0m\u001b[0;34m\u001b[0m\u001b[0m\n\u001b[0m\u001b[1;32m      2\u001b[0m \u001b[0mall_sales_2019_merged\u001b[0m\u001b[0;34m.\u001b[0m\u001b[0mhead\u001b[0m\u001b[0;34m(\u001b[0m\u001b[0;34m)\u001b[0m\u001b[0;34m\u001b[0m\u001b[0;34m\u001b[0m\u001b[0m\n",
      "\u001b[0;31mNameError\u001b[0m: name 'all_merge' is not defined"
     ]
    }
   ],
   "source": [
    "all_sales_2019_merged = all_merge[(all_merge.SalePrice > 50000) & (all_merge.DocumentDate > '2019') & (all_merge.DocumentDate < '2020')].sort_values(\"DocumentDate\")\n",
    "all_sales_2019_merged.head()"
   ]
  },
  {
   "cell_type": "code",
   "execution_count": 103,
   "metadata": {},
   "outputs": [
    {
     "data": {
      "text/html": [
       "<div>\n",
       "<style scoped>\n",
       "    .dataframe tbody tr th:only-of-type {\n",
       "        vertical-align: middle;\n",
       "    }\n",
       "\n",
       "    .dataframe tbody tr th {\n",
       "        vertical-align: top;\n",
       "    }\n",
       "\n",
       "    .dataframe thead th {\n",
       "        text-align: right;\n",
       "    }\n",
       "</style>\n",
       "<table border=\"1\" class=\"dataframe\">\n",
       "  <thead>\n",
       "    <tr style=\"text-align: right;\">\n",
       "      <th></th>\n",
       "      <th>ExciseTaxNbr</th>\n",
       "      <th>Major</th>\n",
       "      <th>Minor</th>\n",
       "      <th>DocumentDate</th>\n",
       "      <th>SalePrice</th>\n",
       "      <th>RecordingNbr</th>\n",
       "      <th>Volume</th>\n",
       "      <th>Page</th>\n",
       "      <th>PlatNbr</th>\n",
       "      <th>PlatType</th>\n",
       "      <th>...</th>\n",
       "      <th>FpMultiStory</th>\n",
       "      <th>FpFreestanding</th>\n",
       "      <th>FpAdditional</th>\n",
       "      <th>YrBuilt</th>\n",
       "      <th>YrRenovated</th>\n",
       "      <th>PcntComplete</th>\n",
       "      <th>Obsolescence</th>\n",
       "      <th>PcntNetCondition</th>\n",
       "      <th>Condition</th>\n",
       "      <th>AddnlCost</th>\n",
       "    </tr>\n",
       "  </thead>\n",
       "  <tbody>\n",
       "  </tbody>\n",
       "</table>\n",
       "<p>0 rows × 151 columns</p>\n",
       "</div>"
      ],
      "text/plain": [
       "Empty DataFrame\n",
       "Columns: [ExciseTaxNbr, Major, Minor, DocumentDate, SalePrice, RecordingNbr, Volume, Page, PlatNbr, PlatType, PlatLot_x, PlatBlock_x, SellerName, BuyerName, PropertyType, PrincipalUse, SaleInstrument, AFForestLand, AFCurrentUseLand, AFNonProfitUse, AFHistoricProperty, SaleReason, PropertyClass, SaleWarning, PropName, PlatName, PlatLot_y, PlatBlock_y, Range, Township, Section, QuarterSection, PropType, Area, SubArea, SpecArea, SpecSubArea, DistrictName, LevyCode, CurrentZoning, HBUAsIfVacant, HBUAsImproved, PresentUse, SqFtLot, WaterSystem, SewerSystem, Access, Topography, StreetSurface, RestrictiveSzShape, InadequateParking, PcntUnusable, Unbuildable, MtRainier, Olympics, Cascades, Territorial, SeattleSkyline, PugetSound, LakeWashington, LakeSammamish, SmallLakeRiverCreek, OtherView, WfntLocation, WfntFootage, WfntBank, WfntPoorQuality, WfntRestrictedAccess, WfntAccessRights, WfntProximityInfluence, TidelandShoreland, LotDepthFactor, TrafficNoise, AirportNoise, PowerLines, OtherNuisances, NbrBldgSites, Contamination, DNRLease, AdjacentGolfFairway, AdjacentGreenbelt, HistoricSite, CurrentUseDesignation, NativeGrowthProtEsmt, Easements, OtherDesignation, DeedRestrictions, DevelopmentRightsPurch, CoalMineHazard, CriticalDrainage, ErosionHazard, LandfillBuffer, HundredYrFloodPlain, SeismicHazard, LandslideHazard, SteepSlopeHazard, Stream, Wetland, SpeciesOfConcern, SensitiveAreaTract, ...]\n",
       "Index: []\n",
       "\n",
       "[0 rows x 151 columns]"
      ]
     },
     "execution_count": 103,
     "metadata": {},
     "output_type": "execute_result"
    }
   ],
   "source": [
    "all_residential = all_sales_merged[(all_sales_merged.PropType == 'R')]\n",
    "all_residential[(all_residential.PrincipalUse == 0) & (all_residential.Bedrooms == 0)]\n",
    "all_residential[all_residential.SqFtTotLiving == 0]\n",
    "all_residential[(all_residential.PropertyType == 1)]\n"
   ]
  },
  {
   "cell_type": "code",
   "execution_count": 106,
   "metadata": {},
   "outputs": [
    {
     "data": {
      "text/plain": [
       "(0, 2)"
      ]
     },
     "execution_count": 106,
     "metadata": {},
     "output_type": "execute_result"
    }
   ],
   "source": [
    "q1testdf=all_sales_2019_merged[['SalePrice', 'SqFtTotLiving']]\n",
    "q1testdf.dropna()\n",
    "q1testdf.shape"
   ]
  },
  {
   "cell_type": "code",
   "execution_count": 97,
   "metadata": {},
   "outputs": [],
   "source": [
    "#df=pd.DataFrame({'Data':np.random.normal(size=len(column))})  #example \n",
    "wk = q1testdf[np.abs(q1testdf.SalePrice-q1testdf.SalePrice.mean())<=(2*q1testdf.SalePrice.std())] #keep only the ones that are within +3 to -3 standarddeviations in the column 'Data'.\n",
    "#df[~(np.abs(df.Data-df.Data.mean())>(3*df.Data.std()))] "
   ]
  },
  {
   "cell_type": "code",
   "execution_count": 98,
   "metadata": {},
   "outputs": [
    {
     "data": {
      "text/plain": [
       "(998192, 2)"
      ]
     },
     "execution_count": 98,
     "metadata": {},
     "output_type": "execute_result"
    }
   ],
   "source": [
    "wk.shape"
   ]
  },
  {
   "cell_type": "code",
   "execution_count": 99,
   "metadata": {},
   "outputs": [
    {
     "name": "stdout",
     "output_type": "stream",
     "text": [
      "3250000\n",
      "1\n"
     ]
    }
   ],
   "source": [
    "print(wk.SalePrice.max())\n",
    "print(wk.SalePrice.min())"
   ]
  },
  {
   "cell_type": "code",
   "execution_count": 126,
   "metadata": {},
   "outputs": [
    {
     "data": {
      "image/png": "[encoded data removed]",
      "text/plain": [
       "<Figure size 792x648 with 2 Axes>"
      ]
     },
     "metadata": {
      "needs_background": "light"
     },
     "output_type": "display_data"
    }
   ],
   "source": [
    "corr = all_merge.corr()\n",
    "# The mask is not necessary, but corr() has duplicate values on either side of the diagonal\n",
    "mask = np.triu(np.ones_like(corr, dtype=np.bool))\n",
    "\n",
    "fig1, ax1 = plt.subplots(figsize=(11, 9))\n",
    "sns.heatmap(corr, mask=mask, ax=ax1, cmap=\"viridis\");"
   ]
  },
  {
   "cell_type": "code",
   "execution_count": 124,
   "metadata": {},
   "outputs": [],
   "source": [
    "def correlation(dataset, threshold):\n",
    "    col_corr = set() # Set of all the names of deleted columns\n",
    "    corr_matrix = dataset.corr()\n",
    "    for i in range(len(corr_matrix.columns)):\n",
    "        for j in range(i):\n",
    "            if (corr_matrix.iloc[i, j] >= threshold) and (corr_matrix.columns[j] not in col_corr):\n",
    "                colname = corr_matrix.columns[i] # getting the name of column\n",
    "                col_corr.add(colname)\n",
    "                if colname in dataset.columns:\n",
    "                    del dataset[colname] # deleting the column from the dataset\n",
    "\n",
    "    print(dataset)"
   ]
  },
  {
   "cell_type": "code",
   "execution_count": 19,
   "metadata": {},
   "outputs": [],
   "source": [
    "# Create correlation matrix\n",
    "corr_matrix = rps_parcel_resbld_dfmerge.corr().abs()\n",
    "\n",
    "# Select upper triangle of correlation matrix\n",
    "upper = corr_matrix.where(np.triu(np.ones(corr_matrix.shape), k=1).astype(np.bool))\n",
    "\n",
    "# Find index of feature columns with correlation greater than 0.95\n",
    "#to_drop = [column for column in upper.columns if any(upper[column] > 0.95)]\n",
    "\n",
    "#Find index of feature columns with correlation less than 0.5\n",
    "to_drop = [column for column in upper.columns if any(upper[column] > 0.1)]"
   ]
  },
  {
   "cell_type": "code",
   "execution_count": 152,
   "metadata": {
    "collapsed": true,
    "jupyter": {
     "outputs_hidden": true
    }
   },
   "outputs": [
    {
     "data": {
      "text/plain": [
       "['PropertyType',\n",
       " 'PrincipalUse',\n",
       " 'SaleReason',\n",
       " 'PropertyClass',\n",
       " 'Area',\n",
       " 'SubArea',\n",
       " 'SpecArea',\n",
       " 'SpecSubArea',\n",
       " 'LevyCode',\n",
       " 'HBUAsIfVacant',\n",
       " 'HBUAsImproved',\n",
       " 'PresentUse',\n",
       " 'SqFtLot',\n",
       " 'WaterSystem',\n",
       " 'SewerSystem',\n",
       " 'Access',\n",
       " 'Topography',\n",
       " 'StreetSurface',\n",
       " 'RestrictiveSzShape',\n",
       " 'InadequateParking',\n",
       " 'PcntUnusable',\n",
       " 'Olympics',\n",
       " 'Cascades',\n",
       " 'Territorial',\n",
       " 'SeattleSkyline',\n",
       " 'PugetSound',\n",
       " 'LakeWashington',\n",
       " 'LakeSammamish',\n",
       " 'OtherView',\n",
       " 'WfntLocation',\n",
       " 'WfntFootage',\n",
       " 'WfntBank',\n",
       " 'WfntPoorQuality',\n",
       " 'WfntRestrictedAccess',\n",
       " 'TidelandShoreland',\n",
       " 'LotDepthFactor',\n",
       " 'TrafficNoise',\n",
       " 'AirportNoise',\n",
       " 'CurrentUseDesignation',\n",
       " 'BldgNbr',\n",
       " 'NbrLivingUnits',\n",
       " 'Stories',\n",
       " 'BldgGrade',\n",
       " 'SqFt1stFloor',\n",
       " 'SqFt2ndFloor',\n",
       " 'SqFtUpperFloor',\n",
       " 'SqFtUnfinHalf',\n",
       " 'SqFtTotLiving',\n",
       " 'SqFtTotBasement',\n",
       " 'SqFtFinBasement',\n",
       " 'FinBasementGrade',\n",
       " 'SqFtGarageBasement',\n",
       " 'SqFtGarageAttached',\n",
       " 'SqFtOpenPorch',\n",
       " 'SqFtDeck',\n",
       " 'HeatSystem',\n",
       " 'HeatSource',\n",
       " 'BrickStone',\n",
       " 'Bedrooms',\n",
       " 'BathHalfCount',\n",
       " 'Bath3qtrCount',\n",
       " 'BathFullCount',\n",
       " 'FpSingleStory',\n",
       " 'FpMultiStory',\n",
       " 'FpFreestanding',\n",
       " 'FpAdditional',\n",
       " 'YrBuilt',\n",
       " 'YrRenovated',\n",
       " 'PcntComplete',\n",
       " 'Obsolescence',\n",
       " 'Condition',\n",
       " 'AddnlCost']"
      ]
     },
     "execution_count": 152,
     "metadata": {},
     "output_type": "execute_result"
    }
   ],
   "source": [
    "to_drop"
   ]
  },
  {
   "cell_type": "code",
   "execution_count": 146,
   "metadata": {
    "jupyter": {
     "source_hidden": true
    }
   },
   "outputs": [
    {
     "ename": "MissingDataError",
     "evalue": "exog contains inf or nans",
     "output_type": "error",
     "traceback": [
      "\u001b[0;31m---------------------------------------------------------------------------\u001b[0m",
      "\u001b[0;31mMissingDataError\u001b[0m                          Traceback (most recent call last)",
      "\u001b[0;32m<ipython-input-146-4f854af56d18>\u001b[0m in \u001b[0;36m<module>\u001b[0;34m\u001b[0m\n\u001b[1;32m     87\u001b[0m  'AddnlCost']]\n\u001b[1;32m     88\u001b[0m \u001b[0;34m\u001b[0m\u001b[0m\n\u001b[0;32m---> 89\u001b[0;31m \u001b[0mmodel\u001b[0m \u001b[0;34m=\u001b[0m \u001b[0msm\u001b[0m\u001b[0;34m.\u001b[0m\u001b[0mOLS\u001b[0m\u001b[0;34m(\u001b[0m\u001b[0mall_merge\u001b[0m\u001b[0;34m.\u001b[0m\u001b[0mSalePrice\u001b[0m\u001b[0;34m,\u001b[0m \u001b[0msm\u001b[0m\u001b[0;34m.\u001b[0m\u001b[0madd_constant\u001b[0m\u001b[0;34m(\u001b[0m\u001b[0msale_preds\u001b[0m\u001b[0;34m)\u001b[0m\u001b[0;34m)\u001b[0m\u001b[0;34m\u001b[0m\u001b[0;34m\u001b[0m\u001b[0m\n\u001b[0m\u001b[1;32m     90\u001b[0m \u001b[0mresults\u001b[0m \u001b[0;34m=\u001b[0m \u001b[0mmodel\u001b[0m\u001b[0;34m.\u001b[0m\u001b[0mfit\u001b[0m\u001b[0;34m(\u001b[0m\u001b[0;34m)\u001b[0m\u001b[0;34m\u001b[0m\u001b[0;34m\u001b[0m\u001b[0m\n\u001b[1;32m     91\u001b[0m \u001b[0;34m\u001b[0m\u001b[0m\n",
      "\u001b[0;32m/opt/anaconda3/lib/python3.8/site-packages/statsmodels/regression/linear_model.py\u001b[0m in \u001b[0;36m__init__\u001b[0;34m(self, endog, exog, missing, hasconst, **kwargs)\u001b[0m\n\u001b[1;32m    856\u001b[0m     def __init__(self, endog, exog=None, missing='none', hasconst=None,\n\u001b[1;32m    857\u001b[0m                  **kwargs):\n\u001b[0;32m--> 858\u001b[0;31m         super(OLS, self).__init__(endog, exog, missing=missing,\n\u001b[0m\u001b[1;32m    859\u001b[0m                                   hasconst=hasconst, **kwargs)\n\u001b[1;32m    860\u001b[0m         \u001b[0;32mif\u001b[0m \u001b[0;34m\"weights\"\u001b[0m \u001b[0;32min\u001b[0m \u001b[0mself\u001b[0m\u001b[0;34m.\u001b[0m\u001b[0m_init_keys\u001b[0m\u001b[0;34m:\u001b[0m\u001b[0;34m\u001b[0m\u001b[0;34m\u001b[0m\u001b[0m\n",
      "\u001b[0;32m/opt/anaconda3/lib/python3.8/site-packages/statsmodels/regression/linear_model.py\u001b[0m in \u001b[0;36m__init__\u001b[0;34m(self, endog, exog, weights, missing, hasconst, **kwargs)\u001b[0m\n\u001b[1;32m    699\u001b[0m         \u001b[0;32melse\u001b[0m\u001b[0;34m:\u001b[0m\u001b[0;34m\u001b[0m\u001b[0;34m\u001b[0m\u001b[0m\n\u001b[1;32m    700\u001b[0m             \u001b[0mweights\u001b[0m \u001b[0;34m=\u001b[0m \u001b[0mweights\u001b[0m\u001b[0;34m.\u001b[0m\u001b[0msqueeze\u001b[0m\u001b[0;34m(\u001b[0m\u001b[0;34m)\u001b[0m\u001b[0;34m\u001b[0m\u001b[0;34m\u001b[0m\u001b[0m\n\u001b[0;32m--> 701\u001b[0;31m         super(WLS, self).__init__(endog, exog, missing=missing,\n\u001b[0m\u001b[1;32m    702\u001b[0m                                   weights=weights, hasconst=hasconst, **kwargs)\n\u001b[1;32m    703\u001b[0m         \u001b[0mnobs\u001b[0m \u001b[0;34m=\u001b[0m \u001b[0mself\u001b[0m\u001b[0;34m.\u001b[0m\u001b[0mexog\u001b[0m\u001b[0;34m.\u001b[0m\u001b[0mshape\u001b[0m\u001b[0;34m[\u001b[0m\u001b[0;36m0\u001b[0m\u001b[0;34m]\u001b[0m\u001b[0;34m\u001b[0m\u001b[0;34m\u001b[0m\u001b[0m\n",
      "\u001b[0;32m/opt/anaconda3/lib/python3.8/site-packages/statsmodels/regression/linear_model.py\u001b[0m in \u001b[0;36m__init__\u001b[0;34m(self, endog, exog, **kwargs)\u001b[0m\n\u001b[1;32m    188\u001b[0m     \"\"\"\n\u001b[1;32m    189\u001b[0m     \u001b[0;32mdef\u001b[0m \u001b[0m__init__\u001b[0m\u001b[0;34m(\u001b[0m\u001b[0mself\u001b[0m\u001b[0;34m,\u001b[0m \u001b[0mendog\u001b[0m\u001b[0;34m,\u001b[0m \u001b[0mexog\u001b[0m\u001b[0;34m,\u001b[0m \u001b[0;34m**\u001b[0m\u001b[0mkwargs\u001b[0m\u001b[0;34m)\u001b[0m\u001b[0;34m:\u001b[0m\u001b[0;34m\u001b[0m\u001b[0;34m\u001b[0m\u001b[0m\n\u001b[0;32m--> 190\u001b[0;31m         \u001b[0msuper\u001b[0m\u001b[0;34m(\u001b[0m\u001b[0mRegressionModel\u001b[0m\u001b[0;34m,\u001b[0m \u001b[0mself\u001b[0m\u001b[0;34m)\u001b[0m\u001b[0;34m.\u001b[0m\u001b[0m__init__\u001b[0m\u001b[0;34m(\u001b[0m\u001b[0mendog\u001b[0m\u001b[0;34m,\u001b[0m \u001b[0mexog\u001b[0m\u001b[0;34m,\u001b[0m \u001b[0;34m**\u001b[0m\u001b[0mkwargs\u001b[0m\u001b[0;34m)\u001b[0m\u001b[0;34m\u001b[0m\u001b[0;34m\u001b[0m\u001b[0m\n\u001b[0m\u001b[1;32m    191\u001b[0m         \u001b[0mself\u001b[0m\u001b[0;34m.\u001b[0m\u001b[0m_data_attr\u001b[0m\u001b[0;34m.\u001b[0m\u001b[0mextend\u001b[0m\u001b[0;34m(\u001b[0m\u001b[0;34m[\u001b[0m\u001b[0;34m'pinv_wexog'\u001b[0m\u001b[0;34m,\u001b[0m \u001b[0;34m'wendog'\u001b[0m\u001b[0;34m,\u001b[0m \u001b[0;34m'wexog'\u001b[0m\u001b[0;34m,\u001b[0m \u001b[0;34m'weights'\u001b[0m\u001b[0;34m]\u001b[0m\u001b[0;34m)\u001b[0m\u001b[0;34m\u001b[0m\u001b[0;34m\u001b[0m\u001b[0m\n\u001b[1;32m    192\u001b[0m \u001b[0;34m\u001b[0m\u001b[0m\n",
      "\u001b[0;32m/opt/anaconda3/lib/python3.8/site-packages/statsmodels/base/model.py\u001b[0m in \u001b[0;36m__init__\u001b[0;34m(self, endog, exog, **kwargs)\u001b[0m\n\u001b[1;32m    234\u001b[0m \u001b[0;34m\u001b[0m\u001b[0m\n\u001b[1;32m    235\u001b[0m     \u001b[0;32mdef\u001b[0m \u001b[0m__init__\u001b[0m\u001b[0;34m(\u001b[0m\u001b[0mself\u001b[0m\u001b[0;34m,\u001b[0m \u001b[0mendog\u001b[0m\u001b[0;34m,\u001b[0m \u001b[0mexog\u001b[0m\u001b[0;34m=\u001b[0m\u001b[0;32mNone\u001b[0m\u001b[0;34m,\u001b[0m \u001b[0;34m**\u001b[0m\u001b[0mkwargs\u001b[0m\u001b[0;34m)\u001b[0m\u001b[0;34m:\u001b[0m\u001b[0;34m\u001b[0m\u001b[0;34m\u001b[0m\u001b[0m\n\u001b[0;32m--> 236\u001b[0;31m         \u001b[0msuper\u001b[0m\u001b[0;34m(\u001b[0m\u001b[0mLikelihoodModel\u001b[0m\u001b[0;34m,\u001b[0m \u001b[0mself\u001b[0m\u001b[0;34m)\u001b[0m\u001b[0;34m.\u001b[0m\u001b[0m__init__\u001b[0m\u001b[0;34m(\u001b[0m\u001b[0mendog\u001b[0m\u001b[0;34m,\u001b[0m \u001b[0mexog\u001b[0m\u001b[0;34m,\u001b[0m \u001b[0;34m**\u001b[0m\u001b[0mkwargs\u001b[0m\u001b[0;34m)\u001b[0m\u001b[0;34m\u001b[0m\u001b[0;34m\u001b[0m\u001b[0m\n\u001b[0m\u001b[1;32m    237\u001b[0m         \u001b[0mself\u001b[0m\u001b[0;34m.\u001b[0m\u001b[0minitialize\u001b[0m\u001b[0;34m(\u001b[0m\u001b[0;34m)\u001b[0m\u001b[0;34m\u001b[0m\u001b[0;34m\u001b[0m\u001b[0m\n\u001b[1;32m    238\u001b[0m \u001b[0;34m\u001b[0m\u001b[0m\n",
      "\u001b[0;32m/opt/anaconda3/lib/python3.8/site-packages/statsmodels/base/model.py\u001b[0m in \u001b[0;36m__init__\u001b[0;34m(self, endog, exog, **kwargs)\u001b[0m\n\u001b[1;32m     74\u001b[0m         \u001b[0mmissing\u001b[0m \u001b[0;34m=\u001b[0m \u001b[0mkwargs\u001b[0m\u001b[0;34m.\u001b[0m\u001b[0mpop\u001b[0m\u001b[0;34m(\u001b[0m\u001b[0;34m'missing'\u001b[0m\u001b[0;34m,\u001b[0m \u001b[0;34m'none'\u001b[0m\u001b[0;34m)\u001b[0m\u001b[0;34m\u001b[0m\u001b[0;34m\u001b[0m\u001b[0m\n\u001b[1;32m     75\u001b[0m         \u001b[0mhasconst\u001b[0m \u001b[0;34m=\u001b[0m \u001b[0mkwargs\u001b[0m\u001b[0;34m.\u001b[0m\u001b[0mpop\u001b[0m\u001b[0;34m(\u001b[0m\u001b[0;34m'hasconst'\u001b[0m\u001b[0;34m,\u001b[0m \u001b[0;32mNone\u001b[0m\u001b[0;34m)\u001b[0m\u001b[0;34m\u001b[0m\u001b[0;34m\u001b[0m\u001b[0m\n\u001b[0;32m---> 76\u001b[0;31m         self.data = self._handle_data(endog, exog, missing, hasconst,\n\u001b[0m\u001b[1;32m     77\u001b[0m                                       **kwargs)\n\u001b[1;32m     78\u001b[0m         \u001b[0mself\u001b[0m\u001b[0;34m.\u001b[0m\u001b[0mk_constant\u001b[0m \u001b[0;34m=\u001b[0m \u001b[0mself\u001b[0m\u001b[0;34m.\u001b[0m\u001b[0mdata\u001b[0m\u001b[0;34m.\u001b[0m\u001b[0mk_constant\u001b[0m\u001b[0;34m\u001b[0m\u001b[0;34m\u001b[0m\u001b[0m\n",
      "\u001b[0;32m/opt/anaconda3/lib/python3.8/site-packages/statsmodels/base/model.py\u001b[0m in \u001b[0;36m_handle_data\u001b[0;34m(self, endog, exog, missing, hasconst, **kwargs)\u001b[0m\n\u001b[1;32m     98\u001b[0m \u001b[0;34m\u001b[0m\u001b[0m\n\u001b[1;32m     99\u001b[0m     \u001b[0;32mdef\u001b[0m \u001b[0m_handle_data\u001b[0m\u001b[0;34m(\u001b[0m\u001b[0mself\u001b[0m\u001b[0;34m,\u001b[0m \u001b[0mendog\u001b[0m\u001b[0;34m,\u001b[0m \u001b[0mexog\u001b[0m\u001b[0;34m,\u001b[0m \u001b[0mmissing\u001b[0m\u001b[0;34m,\u001b[0m \u001b[0mhasconst\u001b[0m\u001b[0;34m,\u001b[0m \u001b[0;34m**\u001b[0m\u001b[0mkwargs\u001b[0m\u001b[0;34m)\u001b[0m\u001b[0;34m:\u001b[0m\u001b[0;34m\u001b[0m\u001b[0;34m\u001b[0m\u001b[0m\n\u001b[0;32m--> 100\u001b[0;31m         \u001b[0mdata\u001b[0m \u001b[0;34m=\u001b[0m \u001b[0mhandle_data\u001b[0m\u001b[0;34m(\u001b[0m\u001b[0mendog\u001b[0m\u001b[0;34m,\u001b[0m \u001b[0mexog\u001b[0m\u001b[0;34m,\u001b[0m \u001b[0mmissing\u001b[0m\u001b[0;34m,\u001b[0m \u001b[0mhasconst\u001b[0m\u001b[0;34m,\u001b[0m \u001b[0;34m**\u001b[0m\u001b[0mkwargs\u001b[0m\u001b[0;34m)\u001b[0m\u001b[0;34m\u001b[0m\u001b[0;34m\u001b[0m\u001b[0m\n\u001b[0m\u001b[1;32m    101\u001b[0m         \u001b[0;31m# kwargs arrays could have changed, easier to just attach here\u001b[0m\u001b[0;34m\u001b[0m\u001b[0;34m\u001b[0m\u001b[0;34m\u001b[0m\u001b[0m\n\u001b[1;32m    102\u001b[0m         \u001b[0;32mfor\u001b[0m \u001b[0mkey\u001b[0m \u001b[0;32min\u001b[0m \u001b[0mkwargs\u001b[0m\u001b[0;34m:\u001b[0m\u001b[0;34m\u001b[0m\u001b[0;34m\u001b[0m\u001b[0m\n",
      "\u001b[0;32m/opt/anaconda3/lib/python3.8/site-packages/statsmodels/base/data.py\u001b[0m in \u001b[0;36mhandle_data\u001b[0;34m(endog, exog, missing, hasconst, **kwargs)\u001b[0m\n\u001b[1;32m    669\u001b[0m \u001b[0;34m\u001b[0m\u001b[0m\n\u001b[1;32m    670\u001b[0m     \u001b[0mklass\u001b[0m \u001b[0;34m=\u001b[0m \u001b[0mhandle_data_class_factory\u001b[0m\u001b[0;34m(\u001b[0m\u001b[0mendog\u001b[0m\u001b[0;34m,\u001b[0m \u001b[0mexog\u001b[0m\u001b[0;34m)\u001b[0m\u001b[0;34m\u001b[0m\u001b[0;34m\u001b[0m\u001b[0m\n\u001b[0;32m--> 671\u001b[0;31m     return klass(endog, exog=exog, missing=missing, hasconst=hasconst,\n\u001b[0m\u001b[1;32m    672\u001b[0m                  **kwargs)\n",
      "\u001b[0;32m/opt/anaconda3/lib/python3.8/site-packages/statsmodels/base/data.py\u001b[0m in \u001b[0;36m__init__\u001b[0;34m(self, endog, exog, missing, hasconst, **kwargs)\u001b[0m\n\u001b[1;32m     85\u001b[0m         \u001b[0mself\u001b[0m\u001b[0;34m.\u001b[0m\u001b[0mconst_idx\u001b[0m \u001b[0;34m=\u001b[0m \u001b[0;32mNone\u001b[0m\u001b[0;34m\u001b[0m\u001b[0;34m\u001b[0m\u001b[0m\n\u001b[1;32m     86\u001b[0m         \u001b[0mself\u001b[0m\u001b[0;34m.\u001b[0m\u001b[0mk_constant\u001b[0m \u001b[0;34m=\u001b[0m \u001b[0;36m0\u001b[0m\u001b[0;34m\u001b[0m\u001b[0;34m\u001b[0m\u001b[0m\n\u001b[0;32m---> 87\u001b[0;31m         \u001b[0mself\u001b[0m\u001b[0;34m.\u001b[0m\u001b[0m_handle_constant\u001b[0m\u001b[0;34m(\u001b[0m\u001b[0mhasconst\u001b[0m\u001b[0;34m)\u001b[0m\u001b[0;34m\u001b[0m\u001b[0;34m\u001b[0m\u001b[0m\n\u001b[0m\u001b[1;32m     88\u001b[0m         \u001b[0mself\u001b[0m\u001b[0;34m.\u001b[0m\u001b[0m_check_integrity\u001b[0m\u001b[0;34m(\u001b[0m\u001b[0;34m)\u001b[0m\u001b[0;34m\u001b[0m\u001b[0;34m\u001b[0m\u001b[0m\n\u001b[1;32m     89\u001b[0m         \u001b[0mself\u001b[0m\u001b[0;34m.\u001b[0m\u001b[0m_cache\u001b[0m \u001b[0;34m=\u001b[0m \u001b[0;34m{\u001b[0m\u001b[0;34m}\u001b[0m\u001b[0;34m\u001b[0m\u001b[0;34m\u001b[0m\u001b[0m\n",
      "\u001b[0;32m/opt/anaconda3/lib/python3.8/site-packages/statsmodels/base/data.py\u001b[0m in \u001b[0;36m_handle_constant\u001b[0;34m(self, hasconst)\u001b[0m\n\u001b[1;32m    131\u001b[0m             \u001b[0mexog_max\u001b[0m \u001b[0;34m=\u001b[0m \u001b[0mnp\u001b[0m\u001b[0;34m.\u001b[0m\u001b[0mmax\u001b[0m\u001b[0;34m(\u001b[0m\u001b[0mself\u001b[0m\u001b[0;34m.\u001b[0m\u001b[0mexog\u001b[0m\u001b[0;34m,\u001b[0m \u001b[0maxis\u001b[0m\u001b[0;34m=\u001b[0m\u001b[0;36m0\u001b[0m\u001b[0;34m)\u001b[0m\u001b[0;34m\u001b[0m\u001b[0;34m\u001b[0m\u001b[0m\n\u001b[1;32m    132\u001b[0m             \u001b[0;32mif\u001b[0m \u001b[0;32mnot\u001b[0m \u001b[0mnp\u001b[0m\u001b[0;34m.\u001b[0m\u001b[0misfinite\u001b[0m\u001b[0;34m(\u001b[0m\u001b[0mexog_max\u001b[0m\u001b[0;34m)\u001b[0m\u001b[0;34m.\u001b[0m\u001b[0mall\u001b[0m\u001b[0;34m(\u001b[0m\u001b[0;34m)\u001b[0m\u001b[0;34m:\u001b[0m\u001b[0;34m\u001b[0m\u001b[0;34m\u001b[0m\u001b[0m\n\u001b[0;32m--> 133\u001b[0;31m                 \u001b[0;32mraise\u001b[0m \u001b[0mMissingDataError\u001b[0m\u001b[0;34m(\u001b[0m\u001b[0;34m'exog contains inf or nans'\u001b[0m\u001b[0;34m)\u001b[0m\u001b[0;34m\u001b[0m\u001b[0;34m\u001b[0m\u001b[0m\n\u001b[0m\u001b[1;32m    134\u001b[0m             \u001b[0mexog_min\u001b[0m \u001b[0;34m=\u001b[0m \u001b[0mnp\u001b[0m\u001b[0;34m.\u001b[0m\u001b[0mmin\u001b[0m\u001b[0;34m(\u001b[0m\u001b[0mself\u001b[0m\u001b[0;34m.\u001b[0m\u001b[0mexog\u001b[0m\u001b[0;34m,\u001b[0m \u001b[0maxis\u001b[0m\u001b[0;34m=\u001b[0m\u001b[0;36m0\u001b[0m\u001b[0;34m)\u001b[0m\u001b[0;34m\u001b[0m\u001b[0;34m\u001b[0m\u001b[0m\n\u001b[1;32m    135\u001b[0m             \u001b[0mconst_idx\u001b[0m \u001b[0;34m=\u001b[0m \u001b[0mnp\u001b[0m\u001b[0;34m.\u001b[0m\u001b[0mwhere\u001b[0m\u001b[0;34m(\u001b[0m\u001b[0mexog_max\u001b[0m \u001b[0;34m==\u001b[0m \u001b[0mexog_min\u001b[0m\u001b[0;34m)\u001b[0m\u001b[0;34m[\u001b[0m\u001b[0;36m0\u001b[0m\u001b[0;34m]\u001b[0m\u001b[0;34m.\u001b[0m\u001b[0msqueeze\u001b[0m\u001b[0;34m(\u001b[0m\u001b[0;34m)\u001b[0m\u001b[0;34m\u001b[0m\u001b[0;34m\u001b[0m\u001b[0m\n",
      "\u001b[0;31mMissingDataError\u001b[0m: exog contains inf or nans"
     ]
    }
   ],
   "source": [
    "sale_preds = rps_parcel_resbld_dfmerge[['SqFtTotLiving',\n",
    "                        'PropertyType',\n",
    " 'PrincipalUse',\n",
    " 'SaleInstrument',\n",
    " 'SaleReason',\n",
    " 'PropertyClass',\n",
    " 'Range',\n",
    " 'Township',\n",
    " 'Section',\n",
    " 'Area',\n",
    " 'SubArea',\n",
    " 'SpecArea',\n",
    " 'SpecSubArea',\n",
    " 'LevyCode',\n",
    " 'HBUAsIfVacant',\n",
    " 'HBUAsImproved',\n",
    " 'PresentUse',\n",
    " 'SqFtLot',\n",
    " 'WaterSystem',\n",
    " 'SewerSystem',\n",
    " 'Access',\n",
    " 'Topography',\n",
    " 'StreetSurface',\n",
    " 'RestrictiveSzShape',\n",
    " 'InadequateParking',\n",
    " 'PcntUnusable',\n",
    " 'MtRainier',\n",
    " 'Olympics',\n",
    " 'Cascades',\n",
    " 'Territorial',\n",
    " 'SeattleSkyline',\n",
    " 'PugetSound',\n",
    " 'LakeWashington',\n",
    " 'LakeSammamish',\n",
    " 'SmallLakeRiverCreek',\n",
    " 'OtherView',\n",
    " 'WfntLocation',\n",
    " 'WfntFootage',\n",
    " 'WfntBank',\n",
    " 'WfntPoorQuality',\n",
    " 'WfntRestrictedAccess',\n",
    " 'TidelandShoreland',\n",
    " 'LotDepthFactor',\n",
    " 'TrafficNoise',\n",
    " 'AirportNoise',\n",
    " 'NbrBldgSites',\n",
    " 'Contamination',\n",
    " 'HistoricSite',\n",
    " 'CurrentUseDesignation',\n",
    " 'BldgNbr',\n",
    " 'NbrLivingUnits',\n",
    " 'Stories',\n",
    " 'BldgGrade',\n",
    " 'BldgGradeVar',\n",
    " 'SqFt1stFloor',\n",
    " 'SqFtHalfFloor',\n",
    " 'SqFt2ndFloor',\n",
    " 'SqFtUpperFloor',\n",
    " 'SqFtUnfinFull',\n",
    " 'SqFtUnfinHalf',\n",
    " 'SqFtTotLiving',\n",
    " 'SqFtTotBasement',\n",
    " 'SqFtFinBasement',\n",
    " 'FinBasementGrade',\n",
    " 'SqFtGarageBasement',\n",
    " 'SqFtGarageAttached',\n",
    " 'SqFtOpenPorch',\n",
    " 'SqFtEnclosedPorch',\n",
    " 'SqFtDeck',\n",
    " 'HeatSystem',\n",
    " 'HeatSource',\n",
    " 'BrickStone',\n",
    " 'Bedrooms',\n",
    " 'BathHalfCount',\n",
    " 'Bath3qtrCount',\n",
    " 'BathFullCount',\n",
    " 'FpSingleStory',\n",
    " 'FpMultiStory',\n",
    " 'FpFreestanding',\n",
    " 'FpAdditional',\n",
    " 'YrBuilt',\n",
    " 'YrRenovated',\n",
    " 'PcntComplete',\n",
    " 'Obsolescence',\n",
    " 'PcntNetCondition',\n",
    " 'Condition',\n",
    " 'AddnlCost']]\n",
    "\n",
    "model = sm.OLS(all_merge.SalePrice, sm.add_constant(sale_preds))\n",
    "results = model.fit()\n",
    "\n",
    "results.summary()"
   ]
  },
  {
   "cell_type": "code",
   "execution_count": 20,
   "metadata": {
    "jupyter": {
     "source_hidden": true
    }
   },
   "outputs": [],
   "source": [
    "dftest = rps_parcel_resbld_dfmerge[['SqFtTotLiving',\n",
    "                        'PropertyType',\n",
    " 'PrincipalUse',\n",
    " 'SaleInstrument',\n",
    " 'SaleReason',\n",
    " 'PropertyClass',\n",
    " 'Range',\n",
    " 'Township',\n",
    " 'Section',\n",
    " 'Area',\n",
    " 'SubArea',\n",
    " 'SpecArea',\n",
    " 'SpecSubArea',\n",
    " 'LevyCode',\n",
    " 'HBUAsIfVacant',\n",
    " 'HBUAsImproved',\n",
    " 'PresentUse',\n",
    " 'SqFtLot',\n",
    " 'WaterSystem',\n",
    " 'SewerSystem',\n",
    " 'Access',\n",
    " 'Topography',\n",
    " 'StreetSurface',\n",
    " 'RestrictiveSzShape',\n",
    " 'InadequateParking',\n",
    " 'PcntUnusable',\n",
    " 'MtRainier',\n",
    " 'Olympics',\n",
    " 'Cascades',\n",
    " 'Territorial',\n",
    " 'SeattleSkyline',\n",
    " 'PugetSound',\n",
    " 'LakeWashington',\n",
    " 'LakeSammamish',\n",
    " 'SmallLakeRiverCreek',\n",
    " 'OtherView',\n",
    " 'WfntLocation',\n",
    " 'WfntFootage',\n",
    " 'WfntBank',\n",
    " 'WfntPoorQuality',\n",
    " 'WfntRestrictedAccess',\n",
    " 'TidelandShoreland',\n",
    " 'LotDepthFactor',\n",
    " 'TrafficNoise',\n",
    " 'AirportNoise',\n",
    " 'NbrBldgSites',\n",
    " 'Contamination',\n",
    " 'HistoricSite',\n",
    " 'CurrentUseDesignation',\n",
    " 'BldgNbr',\n",
    " 'NbrLivingUnits',\n",
    " 'Stories',\n",
    " 'BldgGrade',\n",
    " 'BldgGradeVar',\n",
    " 'SqFt1stFloor',\n",
    " 'SqFtHalfFloor',\n",
    " 'SqFt2ndFloor',\n",
    " 'SqFtUpperFloor',\n",
    " 'SqFtUnfinFull',\n",
    " 'SqFtUnfinHalf',\n",
    " 'SqFtTotLiving',\n",
    " 'SqFtTotBasement',\n",
    " 'SqFtFinBasement',\n",
    " 'FinBasementGrade',\n",
    " 'SqFtGarageBasement',\n",
    " 'SqFtGarageAttached',\n",
    " 'SqFtOpenPorch',\n",
    " 'SqFtEnclosedPorch',\n",
    " 'SqFtDeck',\n",
    " 'HeatSystem',\n",
    " 'HeatSource',\n",
    " 'BrickStone',\n",
    " 'Bedrooms',\n",
    " 'BathHalfCount',\n",
    " 'Bath3qtrCount',\n",
    " 'BathFullCount',\n",
    " 'FpSingleStory',\n",
    " 'FpMultiStory',\n",
    " 'FpFreestanding',\n",
    " 'FpAdditional',\n",
    " 'YrBuilt',\n",
    " 'YrRenovated',\n",
    " 'PcntComplete',\n",
    " 'Obsolescence',\n",
    " 'PcntNetCondition',\n",
    " 'Condition',\n",
    " 'AddnlCost']]"
   ]
  },
  {
   "cell_type": "code",
   "execution_count": 22,
   "metadata": {},
   "outputs": [
    {
     "data": {
      "image/png": "[encoded data removed]",
      "text/plain": [
       "<Figure size 792x648 with 2 Axes>"
      ]
     },
     "metadata": {
      "needs_background": "light"
     },
     "output_type": "display_data"
    }
   ],
   "source": [
    "corr = rps_parcel_resbld_dfmerge.corr()\n",
    "# The mask is not necessary, but corr() has duplicate values on either side of the diagonal\n",
    "mask = np.triu(np.ones_like(corr, dtype=np.bool))\n",
    "\n",
    "fig1, ax1 = plt.subplots(figsize=(11, 9))\n",
    "sns.heatmap(corr, mask=mask, ax=ax1, cmap=\"viridis\");"
   ]
  },
  {
   "cell_type": "code",
   "execution_count": null,
   "metadata": {},
   "outputs": [],
   "source": [
    "def remove_outlier(df, col_name):\n",
    "    threshold = .1  # Anything that occurs abovethan this will be removed.\n",
    "    value_counts = corr.stack().value_counts()  # Entire DataFrame\n",
    "    to_remove = value_counts[value_counts <= threshold].index\n",
    "    if(len(to_remove) > 0):\n",
    "        df[col_name].replace(to_remove, np.nan)\n",
    "    return df\n",
    "\n",
    "df = df[df[col_name] < threshold]"
   ]
  },
  {
   "cell_type": "markdown",
   "metadata": {},
   "source": [
    "We need to find out what corralates with sales price, that doesnt corralate with each other"
   ]
  },
  {
   "cell_type": "code",
   "execution_count": 117,
   "metadata": {},
   "outputs": [],
   "source": [
    "newdf = rps_parcel_resbld_dfmerge[['DocumentDate','SalePrice','SaleInstrument','SubArea','HBUAsIfVacant','BldgNbr','Stories','BldgGrade','BldgGradeVar','SqFt1stFloor','SqFt2ndFloor','SqFtTotLiving',\n",
    " 'SqFtTotBasement','SqFtFinBasement','FinBasementGrade','Bedrooms','BathHalfCount','Bath3qtrCount','BathFullCount','WfntFootage','SqFtOpenPorch','SqFtEnclosedPorch','WfntLocation']]"
   ]
  },
  {
   "cell_type": "code",
   "execution_count": 118,
   "metadata": {},
   "outputs": [
    {
     "name": "stderr",
     "output_type": "stream",
     "text": [
      "<ipython-input-118-813650db42d3>:1: SettingWithCopyWarning: \n",
      "A value is trying to be set on a copy of a slice from a DataFrame.\n",
      "Try using .loc[row_indexer,col_indexer] = value instead\n",
      "\n",
      "See the caveats in the documentation: https://pandas.pydata.org/pandas-docs/stable/user_guide/indexing.html#returning-a-view-versus-a-copy\n",
      "  newdf['DocumentDate'] = pd.to_datetime(newdf.DocumentDate)\n"
     ]
    }
   ],
   "source": [
    "newdf['DocumentDate'] = pd.to_datetime(newdf.DocumentDate)\n",
    "newdf = newdf[(newdf.SalePrice > 50000) & (newdf.DocumentDate > '2019') & (newdf.DocumentDate < '2020') & (newdf.SalePrice < 1500000)]"
   ]
  },
  {
   "cell_type": "code",
   "execution_count": 125,
   "metadata": {},
   "outputs": [
    {
     "data": {
      "text/plain": [
       "DocumentDate         0\n",
       "SalePrice            0\n",
       "SaleInstrument       0\n",
       "SubArea              0\n",
       "HBUAsIfVacant        0\n",
       "BldgNbr              0\n",
       "Stories              0\n",
       "BldgGrade            0\n",
       "BldgGradeVar         0\n",
       "SqFt1stFloor         0\n",
       "SqFt2ndFloor         0\n",
       "SqFtTotLiving        0\n",
       "SqFtTotBasement      0\n",
       "SqFtFinBasement      0\n",
       "FinBasementGrade     0\n",
       "Bedrooms             0\n",
       "BathHalfCount        0\n",
       "Bath3qtrCount        0\n",
       "BathFullCount        0\n",
       "WfntFootage          0\n",
       "SqFtOpenPorch        0\n",
       "SqFtEnclosedPorch    0\n",
       "WfntLocation         0\n",
       "dtype: int64"
      ]
     },
     "execution_count": 125,
     "metadata": {},
     "output_type": "execute_result"
    }
   ],
   "source": [
    "#dropping SpecArea as it has 2079256 nans, it has a len of 2126260\n",
    "newdf.isna().sum()"
   ]
  },
  {
   "cell_type": "code",
   "execution_count": 122,
   "metadata": {},
   "outputs": [],
   "source": [
    "newdf.dropna(inplace=True)"
   ]
  },
  {
   "cell_type": "code",
   "execution_count": 124,
   "metadata": {},
   "outputs": [
    {
     "data": {
      "text/plain": [
       "26600"
      ]
     },
     "execution_count": 124,
     "metadata": {},
     "output_type": "execute_result"
    }
   ],
   "source": [
    "len(newdf)"
   ]
  },
  {
   "cell_type": "code",
   "execution_count": 46,
   "metadata": {},
   "outputs": [
    {
     "data": {
      "image/png": "[encoded data removed]",
      "text/plain": [
       "<Figure size 792x648 with 2 Axes>"
      ]
     },
     "metadata": {
      "needs_background": "light"
     },
     "output_type": "display_data"
    }
   ],
   "source": [
    "corr = newdf.corr()\n",
    "# The mask is not necessary, but corr() has duplicate values on either side of the diagonal\n",
    "mask = np.triu(np.ones_like(corr, dtype=np.bool))\n",
    "\n",
    "fig1, ax1 = plt.subplots(figsize=(11, 9))\n",
    "sns.heatmap(corr, mask=mask, ax=ax1, cmap=\"viridis\");"
   ]
  },
  {
   "cell_type": "code",
   "execution_count": 66,
   "metadata": {},
   "outputs": [],
   "source": [
    "# fsm = ols(formula=\"dep ~ indep\", data=newdf)\n",
    " #   fsm_results = fsm.fit()\n",
    "  #  return fsm_results.summary()\n",
    "\n",
    "model_3 = ols(formula=\"SalePrice ~ SaleInstrument + SubArea + HBUAsIfVacant + BldgNbr + Stories + BldgGrade + BldgGradeVar + SqFt1stFloor + SqFt2ndFloor + SqFtTotLiving + SqFtTotBasement + SqFtFinBasement + FinBasementGrade + SqFtOpenPorch + Bedrooms + BathHalfCount + Bath3qtrCount + BathFullCount\", data=newdf)\n",
    "model_3_results = model_3.fit()\n"
   ]
  },
  {
   "cell_type": "code",
   "execution_count": 67,
   "metadata": {},
   "outputs": [
    {
     "data": {
      "text/html": [
       "<table class=\"simpletable\">\n",
       "<caption>OLS Regression Results</caption>\n",
       "<tr>\n",
       "  <th>Dep. Variable:</th>        <td>SalePrice</td>    <th>  R-squared:         </th>  <td>   0.412</td>  \n",
       "</tr>\n",
       "<tr>\n",
       "  <th>Model:</th>                   <td>OLS</td>       <th>  Adj. R-squared:    </th>  <td>   0.412</td>  \n",
       "</tr>\n",
       "<tr>\n",
       "  <th>Method:</th>             <td>Least Squares</td>  <th>  F-statistic:       </th>  <td>   1107.</td>  \n",
       "</tr>\n",
       "<tr>\n",
       "  <th>Date:</th>             <td>Thu, 01 Oct 2020</td> <th>  Prob (F-statistic):</th>   <td>  0.00</td>   \n",
       "</tr>\n",
       "<tr>\n",
       "  <th>Time:</th>                 <td>13:12:19</td>     <th>  Log-Likelihood:    </th> <td>-3.6893e+05</td>\n",
       "</tr>\n",
       "<tr>\n",
       "  <th>No. Observations:</th>      <td> 26853</td>      <th>  AIC:               </th>  <td>7.379e+05</td> \n",
       "</tr>\n",
       "<tr>\n",
       "  <th>Df Residuals:</th>          <td> 26835</td>      <th>  BIC:               </th>  <td>7.380e+05</td> \n",
       "</tr>\n",
       "<tr>\n",
       "  <th>Df Model:</th>              <td>    17</td>      <th>                     </th>      <td> </td>     \n",
       "</tr>\n",
       "<tr>\n",
       "  <th>Covariance Type:</th>      <td>nonrobust</td>    <th>                     </th>      <td> </td>     \n",
       "</tr>\n",
       "</table>\n",
       "<table class=\"simpletable\">\n",
       "<tr>\n",
       "          <td></td>            <th>coef</th>     <th>std err</th>      <th>t</th>      <th>P>|t|</th>  <th>[0.025</th>    <th>0.975]</th>  \n",
       "</tr>\n",
       "<tr>\n",
       "  <th>Intercept</th>        <td>-2.112e+05</td> <td> 1.51e+04</td> <td>  -14.016</td> <td> 0.000</td> <td>-2.41e+05</td> <td>-1.82e+05</td>\n",
       "</tr>\n",
       "<tr>\n",
       "  <th>SaleInstrument</th>   <td>-1.372e+04</td> <td>  326.152</td> <td>  -42.054</td> <td> 0.000</td> <td>-1.44e+04</td> <td>-1.31e+04</td>\n",
       "</tr>\n",
       "<tr>\n",
       "  <th>SubArea</th>          <td>-3684.9589</td> <td>  336.142</td> <td>  -10.963</td> <td> 0.000</td> <td>-4343.814</td> <td>-3026.103</td>\n",
       "</tr>\n",
       "<tr>\n",
       "  <th>HBUAsIfVacant</th>    <td> 8849.5683</td> <td> 1502.505</td> <td>    5.890</td> <td> 0.000</td> <td> 5904.580</td> <td> 1.18e+04</td>\n",
       "</tr>\n",
       "<tr>\n",
       "  <th>BldgNbr</th>          <td> 1.869e+04</td> <td> 2338.896</td> <td>    7.990</td> <td> 0.000</td> <td> 1.41e+04</td> <td> 2.33e+04</td>\n",
       "</tr>\n",
       "<tr>\n",
       "  <th>Stories</th>          <td>-6588.6148</td> <td> 5810.930</td> <td>   -1.134</td> <td> 0.257</td> <td> -1.8e+04</td> <td> 4801.112</td>\n",
       "</tr>\n",
       "<tr>\n",
       "  <th>BldgGrade</th>        <td> 1.066e+05</td> <td> 2079.036</td> <td>   51.290</td> <td> 0.000</td> <td> 1.03e+05</td> <td> 1.11e+05</td>\n",
       "</tr>\n",
       "<tr>\n",
       "  <th>BldgGradeVar</th>     <td> 4.562e-10</td> <td> 3.28e-11</td> <td>   13.920</td> <td> 0.000</td> <td> 3.92e-10</td> <td>  5.2e-10</td>\n",
       "</tr>\n",
       "<tr>\n",
       "  <th>SqFt1stFloor</th>     <td> -181.8140</td> <td>   10.864</td> <td>  -16.735</td> <td> 0.000</td> <td> -203.108</td> <td> -160.520</td>\n",
       "</tr>\n",
       "<tr>\n",
       "  <th>SqFt2ndFloor</th>     <td> -131.1615</td> <td>    8.185</td> <td>  -16.025</td> <td> 0.000</td> <td> -147.204</td> <td> -115.119</td>\n",
       "</tr>\n",
       "<tr>\n",
       "  <th>SqFtTotLiving</th>    <td>  259.6886</td> <td>    9.709</td> <td>   26.747</td> <td> 0.000</td> <td>  240.659</td> <td>  278.719</td>\n",
       "</tr>\n",
       "<tr>\n",
       "  <th>SqFtTotBasement</th>  <td>   90.2435</td> <td>    5.199</td> <td>   17.359</td> <td> 0.000</td> <td>   80.054</td> <td>  100.433</td>\n",
       "</tr>\n",
       "<tr>\n",
       "  <th>SqFtFinBasement</th>  <td> -205.4043</td> <td>   11.899</td> <td>  -17.262</td> <td> 0.000</td> <td> -228.727</td> <td> -182.081</td>\n",
       "</tr>\n",
       "<tr>\n",
       "  <th>FinBasementGrade</th> <td> 2967.6180</td> <td>  828.834</td> <td>    3.580</td> <td> 0.000</td> <td> 1343.060</td> <td> 4592.176</td>\n",
       "</tr>\n",
       "<tr>\n",
       "  <th>SqFtOpenPorch</th>    <td>   38.9314</td> <td>   13.843</td> <td>    2.812</td> <td> 0.005</td> <td>   11.798</td> <td>   66.065</td>\n",
       "</tr>\n",
       "<tr>\n",
       "  <th>Bedrooms</th>         <td>-2.694e+04</td> <td> 2014.905</td> <td>  -13.373</td> <td> 0.000</td> <td>-3.09e+04</td> <td> -2.3e+04</td>\n",
       "</tr>\n",
       "<tr>\n",
       "  <th>BathHalfCount</th>    <td>-3.548e+04</td> <td> 3241.723</td> <td>  -10.944</td> <td> 0.000</td> <td>-4.18e+04</td> <td>-2.91e+04</td>\n",
       "</tr>\n",
       "<tr>\n",
       "  <th>Bath3qtrCount</th>    <td> 7803.8216</td> <td> 3116.571</td> <td>    2.504</td> <td> 0.012</td> <td> 1695.179</td> <td> 1.39e+04</td>\n",
       "</tr>\n",
       "<tr>\n",
       "  <th>BathFullCount</th>    <td>-5156.4078</td> <td> 3325.624</td> <td>   -1.551</td> <td> 0.121</td> <td>-1.17e+04</td> <td> 1361.989</td>\n",
       "</tr>\n",
       "</table>\n",
       "<table class=\"simpletable\">\n",
       "<tr>\n",
       "  <th>Omnibus:</th>       <td>1230.423</td> <th>  Durbin-Watson:     </th> <td>   1.930</td>\n",
       "</tr>\n",
       "<tr>\n",
       "  <th>Prob(Omnibus):</th>  <td> 0.000</td>  <th>  Jarque-Bera (JB):  </th> <td>2175.598</td>\n",
       "</tr>\n",
       "<tr>\n",
       "  <th>Skew:</th>           <td> 0.371</td>  <th>  Prob(JB):          </th> <td>    0.00</td>\n",
       "</tr>\n",
       "<tr>\n",
       "  <th>Kurtosis:</th>       <td> 4.180</td>  <th>  Cond. No.          </th> <td>1.78e+19</td>\n",
       "</tr>\n",
       "</table><br/><br/>Warnings:<br/>[1] Standard Errors assume that the covariance matrix of the errors is correctly specified.<br/>[2] The smallest eigenvalue is 6.11e-28. This might indicate that there are<br/>strong multicollinearity problems or that the design matrix is singular."
      ],
      "text/plain": [
       "<class 'statsmodels.iolib.summary.Summary'>\n",
       "\"\"\"\n",
       "                            OLS Regression Results                            \n",
       "==============================================================================\n",
       "Dep. Variable:              SalePrice   R-squared:                       0.412\n",
       "Model:                            OLS   Adj. R-squared:                  0.412\n",
       "Method:                 Least Squares   F-statistic:                     1107.\n",
       "Date:                Thu, 01 Oct 2020   Prob (F-statistic):               0.00\n",
       "Time:                        13:12:19   Log-Likelihood:            -3.6893e+05\n",
       "No. Observations:               26853   AIC:                         7.379e+05\n",
       "Df Residuals:                   26835   BIC:                         7.380e+05\n",
       "Df Model:                          17                                         \n",
       "Covariance Type:            nonrobust                                         \n",
       "====================================================================================\n",
       "                       coef    std err          t      P>|t|      [0.025      0.975]\n",
       "------------------------------------------------------------------------------------\n",
       "Intercept        -2.112e+05   1.51e+04    -14.016      0.000   -2.41e+05   -1.82e+05\n",
       "SaleInstrument   -1.372e+04    326.152    -42.054      0.000   -1.44e+04   -1.31e+04\n",
       "SubArea          -3684.9589    336.142    -10.963      0.000   -4343.814   -3026.103\n",
       "HBUAsIfVacant     8849.5683   1502.505      5.890      0.000    5904.580    1.18e+04\n",
       "BldgNbr           1.869e+04   2338.896      7.990      0.000    1.41e+04    2.33e+04\n",
       "Stories          -6588.6148   5810.930     -1.134      0.257    -1.8e+04    4801.112\n",
       "BldgGrade         1.066e+05   2079.036     51.290      0.000    1.03e+05    1.11e+05\n",
       "BldgGradeVar      4.562e-10   3.28e-11     13.920      0.000    3.92e-10     5.2e-10\n",
       "SqFt1stFloor      -181.8140     10.864    -16.735      0.000    -203.108    -160.520\n",
       "SqFt2ndFloor      -131.1615      8.185    -16.025      0.000    -147.204    -115.119\n",
       "SqFtTotLiving      259.6886      9.709     26.747      0.000     240.659     278.719\n",
       "SqFtTotBasement     90.2435      5.199     17.359      0.000      80.054     100.433\n",
       "SqFtFinBasement   -205.4043     11.899    -17.262      0.000    -228.727    -182.081\n",
       "FinBasementGrade  2967.6180    828.834      3.580      0.000    1343.060    4592.176\n",
       "SqFtOpenPorch       38.9314     13.843      2.812      0.005      11.798      66.065\n",
       "Bedrooms         -2.694e+04   2014.905    -13.373      0.000   -3.09e+04    -2.3e+04\n",
       "BathHalfCount    -3.548e+04   3241.723    -10.944      0.000   -4.18e+04   -2.91e+04\n",
       "Bath3qtrCount     7803.8216   3116.571      2.504      0.012    1695.179    1.39e+04\n",
       "BathFullCount    -5156.4078   3325.624     -1.551      0.121   -1.17e+04    1361.989\n",
       "==============================================================================\n",
       "Omnibus:                     1230.423   Durbin-Watson:                   1.930\n",
       "Prob(Omnibus):                  0.000   Jarque-Bera (JB):             2175.598\n",
       "Skew:                           0.371   Prob(JB):                         0.00\n",
       "Kurtosis:                       4.180   Cond. No.                     1.78e+19\n",
       "==============================================================================\n",
       "\n",
       "Warnings:\n",
       "[1] Standard Errors assume that the covariance matrix of the errors is correctly specified.\n",
       "[2] The smallest eigenvalue is 6.11e-28. This might indicate that there are\n",
       "strong multicollinearity problems or that the design matrix is singular.\n",
       "\"\"\""
      ]
     },
     "execution_count": 67,
     "metadata": {},
     "output_type": "execute_result"
    }
   ],
   "source": [
    "model_3_results.summary()"
   ]
  },
  {
   "cell_type": "code",
   "execution_count": 68,
   "metadata": {},
   "outputs": [
    {
     "data": {
      "text/html": [
       "<div>\n",
       "<style scoped>\n",
       "    .dataframe tbody tr th:only-of-type {\n",
       "        vertical-align: middle;\n",
       "    }\n",
       "\n",
       "    .dataframe tbody tr th {\n",
       "        vertical-align: top;\n",
       "    }\n",
       "\n",
       "    .dataframe thead th {\n",
       "        text-align: right;\n",
       "    }\n",
       "</style>\n",
       "<table border=\"1\" class=\"dataframe\">\n",
       "  <thead>\n",
       "    <tr style=\"text-align: right;\">\n",
       "      <th></th>\n",
       "      <th>SalePrice</th>\n",
       "      <th>SaleInstrument</th>\n",
       "      <th>SubArea</th>\n",
       "      <th>HBUAsIfVacant</th>\n",
       "      <th>BldgNbr</th>\n",
       "      <th>Stories</th>\n",
       "      <th>BldgGrade</th>\n",
       "      <th>BldgGradeVar</th>\n",
       "      <th>SqFt1stFloor</th>\n",
       "      <th>SqFt2ndFloor</th>\n",
       "      <th>SqFtTotLiving</th>\n",
       "      <th>SqFtTotBasement</th>\n",
       "      <th>SqFtFinBasement</th>\n",
       "      <th>FinBasementGrade</th>\n",
       "      <th>SqFtOpenPorch</th>\n",
       "      <th>Bedrooms</th>\n",
       "      <th>BathHalfCount</th>\n",
       "      <th>Bath3qtrCount</th>\n",
       "      <th>BathFullCount</th>\n",
       "    </tr>\n",
       "  </thead>\n",
       "  <tbody>\n",
       "    <tr>\n",
       "      <th>SalePrice</th>\n",
       "      <td>1.000000</td>\n",
       "      <td>-0.227351</td>\n",
       "      <td>-0.036395</td>\n",
       "      <td>-0.000105</td>\n",
       "      <td>-0.074017</td>\n",
       "      <td>0.286924</td>\n",
       "      <td>0.547517</td>\n",
       "      <td>NaN</td>\n",
       "      <td>0.225681</td>\n",
       "      <td>0.338236</td>\n",
       "      <td>0.499517</td>\n",
       "      <td>0.188068</td>\n",
       "      <td>0.190175</td>\n",
       "      <td>0.182170</td>\n",
       "      <td>0.198987</td>\n",
       "      <td>0.265101</td>\n",
       "      <td>0.148593</td>\n",
       "      <td>0.166166</td>\n",
       "      <td>0.283488</td>\n",
       "    </tr>\n",
       "    <tr>\n",
       "      <th>SaleInstrument</th>\n",
       "      <td>-0.227351</td>\n",
       "      <td>1.000000</td>\n",
       "      <td>0.007088</td>\n",
       "      <td>-0.009351</td>\n",
       "      <td>0.195236</td>\n",
       "      <td>-0.039195</td>\n",
       "      <td>-0.084721</td>\n",
       "      <td>NaN</td>\n",
       "      <td>0.015167</td>\n",
       "      <td>-0.012972</td>\n",
       "      <td>-0.011163</td>\n",
       "      <td>-0.006743</td>\n",
       "      <td>-0.016994</td>\n",
       "      <td>-0.032265</td>\n",
       "      <td>0.010535</td>\n",
       "      <td>-0.033247</td>\n",
       "      <td>-0.036637</td>\n",
       "      <td>-0.025409</td>\n",
       "      <td>-0.029626</td>\n",
       "    </tr>\n",
       "    <tr>\n",
       "      <th>SubArea</th>\n",
       "      <td>-0.036395</td>\n",
       "      <td>0.007088</td>\n",
       "      <td>1.000000</td>\n",
       "      <td>-0.011457</td>\n",
       "      <td>-0.026527</td>\n",
       "      <td>-0.022245</td>\n",
       "      <td>0.044534</td>\n",
       "      <td>NaN</td>\n",
       "      <td>0.064099</td>\n",
       "      <td>0.008805</td>\n",
       "      <td>0.038342</td>\n",
       "      <td>-0.003936</td>\n",
       "      <td>0.001984</td>\n",
       "      <td>-0.014403</td>\n",
       "      <td>0.002196</td>\n",
       "      <td>0.028750</td>\n",
       "      <td>0.042011</td>\n",
       "      <td>-0.004783</td>\n",
       "      <td>0.019006</td>\n",
       "    </tr>\n",
       "    <tr>\n",
       "      <th>HBUAsIfVacant</th>\n",
       "      <td>-0.000105</td>\n",
       "      <td>-0.009351</td>\n",
       "      <td>-0.011457</td>\n",
       "      <td>1.000000</td>\n",
       "      <td>0.004746</td>\n",
       "      <td>0.013602</td>\n",
       "      <td>-0.070212</td>\n",
       "      <td>NaN</td>\n",
       "      <td>-0.061880</td>\n",
       "      <td>-0.041781</td>\n",
       "      <td>-0.054931</td>\n",
       "      <td>0.023730</td>\n",
       "      <td>0.001286</td>\n",
       "      <td>0.011763</td>\n",
       "      <td>-0.020930</td>\n",
       "      <td>-0.011041</td>\n",
       "      <td>-0.048250</td>\n",
       "      <td>-0.009598</td>\n",
       "      <td>-0.006824</td>\n",
       "    </tr>\n",
       "    <tr>\n",
       "      <th>BldgNbr</th>\n",
       "      <td>-0.074017</td>\n",
       "      <td>0.195236</td>\n",
       "      <td>-0.026527</td>\n",
       "      <td>0.004746</td>\n",
       "      <td>1.000000</td>\n",
       "      <td>-0.017583</td>\n",
       "      <td>-0.158777</td>\n",
       "      <td>NaN</td>\n",
       "      <td>-0.105971</td>\n",
       "      <td>-0.039018</td>\n",
       "      <td>-0.104508</td>\n",
       "      <td>-0.038356</td>\n",
       "      <td>-0.035828</td>\n",
       "      <td>-0.027136</td>\n",
       "      <td>-0.022356</td>\n",
       "      <td>-0.179062</td>\n",
       "      <td>-0.041141</td>\n",
       "      <td>-0.039546</td>\n",
       "      <td>-0.093053</td>\n",
       "    </tr>\n",
       "    <tr>\n",
       "      <th>Stories</th>\n",
       "      <td>0.286924</td>\n",
       "      <td>-0.039195</td>\n",
       "      <td>-0.022245</td>\n",
       "      <td>0.013602</td>\n",
       "      <td>-0.017583</td>\n",
       "      <td>1.000000</td>\n",
       "      <td>0.502699</td>\n",
       "      <td>NaN</td>\n",
       "      <td>-0.253132</td>\n",
       "      <td>0.754871</td>\n",
       "      <td>0.360585</td>\n",
       "      <td>-0.310107</td>\n",
       "      <td>-0.277800</td>\n",
       "      <td>-0.151873</td>\n",
       "      <td>0.200820</td>\n",
       "      <td>0.189064</td>\n",
       "      <td>0.414831</td>\n",
       "      <td>-0.014068</td>\n",
       "      <td>0.378777</td>\n",
       "    </tr>\n",
       "    <tr>\n",
       "      <th>BldgGrade</th>\n",
       "      <td>0.547517</td>\n",
       "      <td>-0.084721</td>\n",
       "      <td>0.044534</td>\n",
       "      <td>-0.070212</td>\n",
       "      <td>-0.158777</td>\n",
       "      <td>0.502699</td>\n",
       "      <td>1.000000</td>\n",
       "      <td>NaN</td>\n",
       "      <td>0.341749</td>\n",
       "      <td>0.584562</td>\n",
       "      <td>0.670705</td>\n",
       "      <td>0.027199</td>\n",
       "      <td>0.068385</td>\n",
       "      <td>0.104697</td>\n",
       "      <td>0.271320</td>\n",
       "      <td>0.385232</td>\n",
       "      <td>0.357497</td>\n",
       "      <td>0.155003</td>\n",
       "      <td>0.442210</td>\n",
       "    </tr>\n",
       "    <tr>\n",
       "      <th>BldgGradeVar</th>\n",
       "      <td>NaN</td>\n",
       "      <td>NaN</td>\n",
       "      <td>NaN</td>\n",
       "      <td>NaN</td>\n",
       "      <td>NaN</td>\n",
       "      <td>NaN</td>\n",
       "      <td>NaN</td>\n",
       "      <td>NaN</td>\n",
       "      <td>NaN</td>\n",
       "      <td>NaN</td>\n",
       "      <td>NaN</td>\n",
       "      <td>NaN</td>\n",
       "      <td>NaN</td>\n",
       "      <td>NaN</td>\n",
       "      <td>NaN</td>\n",
       "      <td>NaN</td>\n",
       "      <td>NaN</td>\n",
       "      <td>NaN</td>\n",
       "      <td>NaN</td>\n",
       "    </tr>\n",
       "    <tr>\n",
       "      <th>SqFt1stFloor</th>\n",
       "      <td>0.225681</td>\n",
       "      <td>0.015167</td>\n",
       "      <td>0.064099</td>\n",
       "      <td>-0.061880</td>\n",
       "      <td>-0.105971</td>\n",
       "      <td>-0.253132</td>\n",
       "      <td>0.341749</td>\n",
       "      <td>NaN</td>\n",
       "      <td>1.000000</td>\n",
       "      <td>0.077409</td>\n",
       "      <td>0.615098</td>\n",
       "      <td>0.076260</td>\n",
       "      <td>0.081405</td>\n",
       "      <td>-0.116597</td>\n",
       "      <td>0.259090</td>\n",
       "      <td>0.404568</td>\n",
       "      <td>0.023382</td>\n",
       "      <td>0.146163</td>\n",
       "      <td>0.242568</td>\n",
       "    </tr>\n",
       "    <tr>\n",
       "      <th>SqFt2ndFloor</th>\n",
       "      <td>0.338236</td>\n",
       "      <td>-0.012972</td>\n",
       "      <td>0.008805</td>\n",
       "      <td>-0.041781</td>\n",
       "      <td>-0.039018</td>\n",
       "      <td>0.754871</td>\n",
       "      <td>0.584562</td>\n",
       "      <td>NaN</td>\n",
       "      <td>0.077409</td>\n",
       "      <td>1.000000</td>\n",
       "      <td>0.654860</td>\n",
       "      <td>-0.325422</td>\n",
       "      <td>-0.264078</td>\n",
       "      <td>-0.240477</td>\n",
       "      <td>0.378396</td>\n",
       "      <td>0.402828</td>\n",
       "      <td>0.418917</td>\n",
       "      <td>-0.026396</td>\n",
       "      <td>0.540431</td>\n",
       "    </tr>\n",
       "    <tr>\n",
       "      <th>SqFtTotLiving</th>\n",
       "      <td>0.499517</td>\n",
       "      <td>-0.011163</td>\n",
       "      <td>0.038342</td>\n",
       "      <td>-0.054931</td>\n",
       "      <td>-0.104508</td>\n",
       "      <td>0.360585</td>\n",
       "      <td>0.670705</td>\n",
       "      <td>NaN</td>\n",
       "      <td>0.615098</td>\n",
       "      <td>0.654860</td>\n",
       "      <td>1.000000</td>\n",
       "      <td>0.208131</td>\n",
       "      <td>0.320475</td>\n",
       "      <td>0.143426</td>\n",
       "      <td>0.403628</td>\n",
       "      <td>0.658709</td>\n",
       "      <td>0.293793</td>\n",
       "      <td>0.203817</td>\n",
       "      <td>0.579045</td>\n",
       "    </tr>\n",
       "    <tr>\n",
       "      <th>SqFtTotBasement</th>\n",
       "      <td>0.188068</td>\n",
       "      <td>-0.006743</td>\n",
       "      <td>-0.003936</td>\n",
       "      <td>0.023730</td>\n",
       "      <td>-0.038356</td>\n",
       "      <td>-0.310107</td>\n",
       "      <td>0.027199</td>\n",
       "      <td>NaN</td>\n",
       "      <td>0.076260</td>\n",
       "      <td>-0.325422</td>\n",
       "      <td>0.208131</td>\n",
       "      <td>1.000000</td>\n",
       "      <td>0.843310</td>\n",
       "      <td>0.790271</td>\n",
       "      <td>-0.091218</td>\n",
       "      <td>0.176482</td>\n",
       "      <td>-0.098484</td>\n",
       "      <td>0.256481</td>\n",
       "      <td>-0.004826</td>\n",
       "    </tr>\n",
       "    <tr>\n",
       "      <th>SqFtFinBasement</th>\n",
       "      <td>0.190175</td>\n",
       "      <td>-0.016994</td>\n",
       "      <td>0.001984</td>\n",
       "      <td>0.001286</td>\n",
       "      <td>-0.035828</td>\n",
       "      <td>-0.277800</td>\n",
       "      <td>0.068385</td>\n",
       "      <td>NaN</td>\n",
       "      <td>0.081405</td>\n",
       "      <td>-0.264078</td>\n",
       "      <td>0.320475</td>\n",
       "      <td>0.843310</td>\n",
       "      <td>1.000000</td>\n",
       "      <td>0.818210</td>\n",
       "      <td>-0.065064</td>\n",
       "      <td>0.252152</td>\n",
       "      <td>-0.074101</td>\n",
       "      <td>0.288912</td>\n",
       "      <td>0.070060</td>\n",
       "    </tr>\n",
       "    <tr>\n",
       "      <th>FinBasementGrade</th>\n",
       "      <td>0.182170</td>\n",
       "      <td>-0.032265</td>\n",
       "      <td>-0.014403</td>\n",
       "      <td>0.011763</td>\n",
       "      <td>-0.027136</td>\n",
       "      <td>-0.151873</td>\n",
       "      <td>0.104697</td>\n",
       "      <td>NaN</td>\n",
       "      <td>-0.116597</td>\n",
       "      <td>-0.240477</td>\n",
       "      <td>0.143426</td>\n",
       "      <td>0.790271</td>\n",
       "      <td>0.818210</td>\n",
       "      <td>1.000000</td>\n",
       "      <td>-0.121578</td>\n",
       "      <td>0.109889</td>\n",
       "      <td>-0.004452</td>\n",
       "      <td>0.282218</td>\n",
       "      <td>0.021981</td>\n",
       "    </tr>\n",
       "    <tr>\n",
       "      <th>SqFtOpenPorch</th>\n",
       "      <td>0.198987</td>\n",
       "      <td>0.010535</td>\n",
       "      <td>0.002196</td>\n",
       "      <td>-0.020930</td>\n",
       "      <td>-0.022356</td>\n",
       "      <td>0.200820</td>\n",
       "      <td>0.271320</td>\n",
       "      <td>NaN</td>\n",
       "      <td>0.259090</td>\n",
       "      <td>0.378396</td>\n",
       "      <td>0.403628</td>\n",
       "      <td>-0.091218</td>\n",
       "      <td>-0.065064</td>\n",
       "      <td>-0.121578</td>\n",
       "      <td>1.000000</td>\n",
       "      <td>0.219951</td>\n",
       "      <td>0.122191</td>\n",
       "      <td>0.026553</td>\n",
       "      <td>0.262077</td>\n",
       "    </tr>\n",
       "    <tr>\n",
       "      <th>Bedrooms</th>\n",
       "      <td>0.265101</td>\n",
       "      <td>-0.033247</td>\n",
       "      <td>0.028750</td>\n",
       "      <td>-0.011041</td>\n",
       "      <td>-0.179062</td>\n",
       "      <td>0.189064</td>\n",
       "      <td>0.385232</td>\n",
       "      <td>NaN</td>\n",
       "      <td>0.404568</td>\n",
       "      <td>0.402828</td>\n",
       "      <td>0.658709</td>\n",
       "      <td>0.176482</td>\n",
       "      <td>0.252152</td>\n",
       "      <td>0.109889</td>\n",
       "      <td>0.219951</td>\n",
       "      <td>1.000000</td>\n",
       "      <td>0.153409</td>\n",
       "      <td>0.189698</td>\n",
       "      <td>0.464949</td>\n",
       "    </tr>\n",
       "    <tr>\n",
       "      <th>BathHalfCount</th>\n",
       "      <td>0.148593</td>\n",
       "      <td>-0.036637</td>\n",
       "      <td>0.042011</td>\n",
       "      <td>-0.048250</td>\n",
       "      <td>-0.041141</td>\n",
       "      <td>0.414831</td>\n",
       "      <td>0.357497</td>\n",
       "      <td>NaN</td>\n",
       "      <td>0.023382</td>\n",
       "      <td>0.418917</td>\n",
       "      <td>0.293793</td>\n",
       "      <td>-0.098484</td>\n",
       "      <td>-0.074101</td>\n",
       "      <td>-0.004452</td>\n",
       "      <td>0.122191</td>\n",
       "      <td>0.153409</td>\n",
       "      <td>1.000000</td>\n",
       "      <td>-0.180615</td>\n",
       "      <td>0.191071</td>\n",
       "    </tr>\n",
       "    <tr>\n",
       "      <th>Bath3qtrCount</th>\n",
       "      <td>0.166166</td>\n",
       "      <td>-0.025409</td>\n",
       "      <td>-0.004783</td>\n",
       "      <td>-0.009598</td>\n",
       "      <td>-0.039546</td>\n",
       "      <td>-0.014068</td>\n",
       "      <td>0.155003</td>\n",
       "      <td>NaN</td>\n",
       "      <td>0.146163</td>\n",
       "      <td>-0.026396</td>\n",
       "      <td>0.203817</td>\n",
       "      <td>0.256481</td>\n",
       "      <td>0.288912</td>\n",
       "      <td>0.282218</td>\n",
       "      <td>0.026553</td>\n",
       "      <td>0.189698</td>\n",
       "      <td>-0.180615</td>\n",
       "      <td>1.000000</td>\n",
       "      <td>-0.334205</td>\n",
       "    </tr>\n",
       "    <tr>\n",
       "      <th>BathFullCount</th>\n",
       "      <td>0.283488</td>\n",
       "      <td>-0.029626</td>\n",
       "      <td>0.019006</td>\n",
       "      <td>-0.006824</td>\n",
       "      <td>-0.093053</td>\n",
       "      <td>0.378777</td>\n",
       "      <td>0.442210</td>\n",
       "      <td>NaN</td>\n",
       "      <td>0.242568</td>\n",
       "      <td>0.540431</td>\n",
       "      <td>0.579045</td>\n",
       "      <td>-0.004826</td>\n",
       "      <td>0.070060</td>\n",
       "      <td>0.021981</td>\n",
       "      <td>0.262077</td>\n",
       "      <td>0.464949</td>\n",
       "      <td>0.191071</td>\n",
       "      <td>-0.334205</td>\n",
       "      <td>1.000000</td>\n",
       "    </tr>\n",
       "  </tbody>\n",
       "</table>\n",
       "</div>"
      ],
      "text/plain": [
       "                  SalePrice  SaleInstrument   SubArea  HBUAsIfVacant  \\\n",
       "SalePrice          1.000000       -0.227351 -0.036395      -0.000105   \n",
       "SaleInstrument    -0.227351        1.000000  0.007088      -0.009351   \n",
       "SubArea           -0.036395        0.007088  1.000000      -0.011457   \n",
       "HBUAsIfVacant     -0.000105       -0.009351 -0.011457       1.000000   \n",
       "BldgNbr           -0.074017        0.195236 -0.026527       0.004746   \n",
       "Stories            0.286924       -0.039195 -0.022245       0.013602   \n",
       "BldgGrade          0.547517       -0.084721  0.044534      -0.070212   \n",
       "BldgGradeVar            NaN             NaN       NaN            NaN   \n",
       "SqFt1stFloor       0.225681        0.015167  0.064099      -0.061880   \n",
       "SqFt2ndFloor       0.338236       -0.012972  0.008805      -0.041781   \n",
       "SqFtTotLiving      0.499517       -0.011163  0.038342      -0.054931   \n",
       "SqFtTotBasement    0.188068       -0.006743 -0.003936       0.023730   \n",
       "SqFtFinBasement    0.190175       -0.016994  0.001984       0.001286   \n",
       "FinBasementGrade   0.182170       -0.032265 -0.014403       0.011763   \n",
       "SqFtOpenPorch      0.198987        0.010535  0.002196      -0.020930   \n",
       "Bedrooms           0.265101       -0.033247  0.028750      -0.011041   \n",
       "BathHalfCount      0.148593       -0.036637  0.042011      -0.048250   \n",
       "Bath3qtrCount      0.166166       -0.025409 -0.004783      -0.009598   \n",
       "BathFullCount      0.283488       -0.029626  0.019006      -0.006824   \n",
       "\n",
       "                   BldgNbr   Stories  BldgGrade  BldgGradeVar  SqFt1stFloor  \\\n",
       "SalePrice        -0.074017  0.286924   0.547517           NaN      0.225681   \n",
       "SaleInstrument    0.195236 -0.039195  -0.084721           NaN      0.015167   \n",
       "SubArea          -0.026527 -0.022245   0.044534           NaN      0.064099   \n",
       "HBUAsIfVacant     0.004746  0.013602  -0.070212           NaN     -0.061880   \n",
       "BldgNbr           1.000000 -0.017583  -0.158777           NaN     -0.105971   \n",
       "Stories          -0.017583  1.000000   0.502699           NaN     -0.253132   \n",
       "BldgGrade        -0.158777  0.502699   1.000000           NaN      0.341749   \n",
       "BldgGradeVar           NaN       NaN        NaN           NaN           NaN   \n",
       "SqFt1stFloor     -0.105971 -0.253132   0.341749           NaN      1.000000   \n",
       "SqFt2ndFloor     -0.039018  0.754871   0.584562           NaN      0.077409   \n",
       "SqFtTotLiving    -0.104508  0.360585   0.670705           NaN      0.615098   \n",
       "SqFtTotBasement  -0.038356 -0.310107   0.027199           NaN      0.076260   \n",
       "SqFtFinBasement  -0.035828 -0.277800   0.068385           NaN      0.081405   \n",
       "FinBasementGrade -0.027136 -0.151873   0.104697           NaN     -0.116597   \n",
       "SqFtOpenPorch    -0.022356  0.200820   0.271320           NaN      0.259090   \n",
       "Bedrooms         -0.179062  0.189064   0.385232           NaN      0.404568   \n",
       "BathHalfCount    -0.041141  0.414831   0.357497           NaN      0.023382   \n",
       "Bath3qtrCount    -0.039546 -0.014068   0.155003           NaN      0.146163   \n",
       "BathFullCount    -0.093053  0.378777   0.442210           NaN      0.242568   \n",
       "\n",
       "                  SqFt2ndFloor  SqFtTotLiving  SqFtTotBasement  \\\n",
       "SalePrice             0.338236       0.499517         0.188068   \n",
       "SaleInstrument       -0.012972      -0.011163        -0.006743   \n",
       "SubArea               0.008805       0.038342        -0.003936   \n",
       "HBUAsIfVacant        -0.041781      -0.054931         0.023730   \n",
       "BldgNbr              -0.039018      -0.104508        -0.038356   \n",
       "Stories               0.754871       0.360585        -0.310107   \n",
       "BldgGrade             0.584562       0.670705         0.027199   \n",
       "BldgGradeVar               NaN            NaN              NaN   \n",
       "SqFt1stFloor          0.077409       0.615098         0.076260   \n",
       "SqFt2ndFloor          1.000000       0.654860        -0.325422   \n",
       "SqFtTotLiving         0.654860       1.000000         0.208131   \n",
       "SqFtTotBasement      -0.325422       0.208131         1.000000   \n",
       "SqFtFinBasement      -0.264078       0.320475         0.843310   \n",
       "FinBasementGrade     -0.240477       0.143426         0.790271   \n",
       "SqFtOpenPorch         0.378396       0.403628        -0.091218   \n",
       "Bedrooms              0.402828       0.658709         0.176482   \n",
       "BathHalfCount         0.418917       0.293793        -0.098484   \n",
       "Bath3qtrCount        -0.026396       0.203817         0.256481   \n",
       "BathFullCount         0.540431       0.579045        -0.004826   \n",
       "\n",
       "                  SqFtFinBasement  FinBasementGrade  SqFtOpenPorch  Bedrooms  \\\n",
       "SalePrice                0.190175          0.182170       0.198987  0.265101   \n",
       "SaleInstrument          -0.016994         -0.032265       0.010535 -0.033247   \n",
       "SubArea                  0.001984         -0.014403       0.002196  0.028750   \n",
       "HBUAsIfVacant            0.001286          0.011763      -0.020930 -0.011041   \n",
       "BldgNbr                 -0.035828         -0.027136      -0.022356 -0.179062   \n",
       "Stories                 -0.277800         -0.151873       0.200820  0.189064   \n",
       "BldgGrade                0.068385          0.104697       0.271320  0.385232   \n",
       "BldgGradeVar                  NaN               NaN            NaN       NaN   \n",
       "SqFt1stFloor             0.081405         -0.116597       0.259090  0.404568   \n",
       "SqFt2ndFloor            -0.264078         -0.240477       0.378396  0.402828   \n",
       "SqFtTotLiving            0.320475          0.143426       0.403628  0.658709   \n",
       "SqFtTotBasement          0.843310          0.790271      -0.091218  0.176482   \n",
       "SqFtFinBasement          1.000000          0.818210      -0.065064  0.252152   \n",
       "FinBasementGrade         0.818210          1.000000      -0.121578  0.109889   \n",
       "SqFtOpenPorch           -0.065064         -0.121578       1.000000  0.219951   \n",
       "Bedrooms                 0.252152          0.109889       0.219951  1.000000   \n",
       "BathHalfCount           -0.074101         -0.004452       0.122191  0.153409   \n",
       "Bath3qtrCount            0.288912          0.282218       0.026553  0.189698   \n",
       "BathFullCount            0.070060          0.021981       0.262077  0.464949   \n",
       "\n",
       "                  BathHalfCount  Bath3qtrCount  BathFullCount  \n",
       "SalePrice              0.148593       0.166166       0.283488  \n",
       "SaleInstrument        -0.036637      -0.025409      -0.029626  \n",
       "SubArea                0.042011      -0.004783       0.019006  \n",
       "HBUAsIfVacant         -0.048250      -0.009598      -0.006824  \n",
       "BldgNbr               -0.041141      -0.039546      -0.093053  \n",
       "Stories                0.414831      -0.014068       0.378777  \n",
       "BldgGrade              0.357497       0.155003       0.442210  \n",
       "BldgGradeVar                NaN            NaN            NaN  \n",
       "SqFt1stFloor           0.023382       0.146163       0.242568  \n",
       "SqFt2ndFloor           0.418917      -0.026396       0.540431  \n",
       "SqFtTotLiving          0.293793       0.203817       0.579045  \n",
       "SqFtTotBasement       -0.098484       0.256481      -0.004826  \n",
       "SqFtFinBasement       -0.074101       0.288912       0.070060  \n",
       "FinBasementGrade      -0.004452       0.282218       0.021981  \n",
       "SqFtOpenPorch          0.122191       0.026553       0.262077  \n",
       "Bedrooms               0.153409       0.189698       0.464949  \n",
       "BathHalfCount          1.000000      -0.180615       0.191071  \n",
       "Bath3qtrCount         -0.180615       1.000000      -0.334205  \n",
       "BathFullCount          0.191071      -0.334205       1.000000  "
      ]
     },
     "execution_count": 68,
     "metadata": {},
     "output_type": "execute_result"
    }
   ],
   "source": [
    "newdf.corr()\n",
    "#stories and builidng grade, sqft 1st floor, sqft2nd floor, sqft total living, bathhalfcount, bathfullcount\n",
    "#bldg grade and sqft 1st floor, sqft 2nd floor, sqft total living, sqftopenporcch, bedrooms, half bath count, bath 3qtr count, bath full count"
   ]
  },
  {
   "cell_type": "code",
   "execution_count": 126,
   "metadata": {},
   "outputs": [],
   "source": [
    "model_3 = ols(formula=\"SalePrice ~ BldgGrade + SubArea + HBUAsIfVacant + SqFtTotLiving + SqFtTotBasement + FinBasementGrade + SqFtOpenPorch + Bath3qtrCount + BathFullCount + WfntFootage + SqFtOpenPorch + SqFtEnclosedPorch + WfntLocation\", data=newdf)\n",
    "model_3_results = model_3.fit()"
   ]
  },
  {
   "cell_type": "code",
   "execution_count": 127,
   "metadata": {},
   "outputs": [
    {
     "data": {
      "text/html": [
       "<table class=\"simpletable\">\n",
       "<caption>OLS Regression Results</caption>\n",
       "<tr>\n",
       "  <th>Dep. Variable:</th>        <td>SalePrice</td>    <th>  R-squared:         </th>  <td>   0.378</td>  \n",
       "</tr>\n",
       "<tr>\n",
       "  <th>Model:</th>                   <td>OLS</td>       <th>  Adj. R-squared:    </th>  <td>   0.377</td>  \n",
       "</tr>\n",
       "<tr>\n",
       "  <th>Method:</th>             <td>Least Squares</td>  <th>  F-statistic:       </th>  <td>   1344.</td>  \n",
       "</tr>\n",
       "<tr>\n",
       "  <th>Date:</th>             <td>Thu, 01 Oct 2020</td> <th>  Prob (F-statistic):</th>   <td>  0.00</td>   \n",
       "</tr>\n",
       "<tr>\n",
       "  <th>Time:</th>                 <td>14:53:59</td>     <th>  Log-Likelihood:    </th> <td>-3.6570e+05</td>\n",
       "</tr>\n",
       "<tr>\n",
       "  <th>No. Observations:</th>      <td> 26600</td>      <th>  AIC:               </th>  <td>7.314e+05</td> \n",
       "</tr>\n",
       "<tr>\n",
       "  <th>Df Residuals:</th>          <td> 26587</td>      <th>  BIC:               </th>  <td>7.315e+05</td> \n",
       "</tr>\n",
       "<tr>\n",
       "  <th>Df Model:</th>              <td>    12</td>      <th>                     </th>      <td> </td>     \n",
       "</tr>\n",
       "<tr>\n",
       "  <th>Covariance Type:</th>      <td>nonrobust</td>    <th>                     </th>      <td> </td>     \n",
       "</tr>\n",
       "</table>\n",
       "<table class=\"simpletable\">\n",
       "<tr>\n",
       "          <td></td>             <th>coef</th>     <th>std err</th>      <th>t</th>      <th>P>|t|</th>  <th>[0.025</th>    <th>0.975]</th>  \n",
       "</tr>\n",
       "<tr>\n",
       "  <th>Intercept</th>         <td>-3.824e+05</td> <td> 1.22e+04</td> <td>  -31.342</td> <td> 0.000</td> <td>-4.06e+05</td> <td>-3.58e+05</td>\n",
       "</tr>\n",
       "<tr>\n",
       "  <th>BldgGrade</th>         <td> 1.179e+05</td> <td> 1904.199</td> <td>   61.916</td> <td> 0.000</td> <td> 1.14e+05</td> <td> 1.22e+05</td>\n",
       "</tr>\n",
       "<tr>\n",
       "  <th>SubArea</th>           <td>-4572.3326</td> <td>  339.714</td> <td>  -13.459</td> <td> 0.000</td> <td>-5238.189</td> <td>-3906.476</td>\n",
       "</tr>\n",
       "<tr>\n",
       "  <th>HBUAsIfVacant</th>     <td> 1.135e+04</td> <td> 1513.979</td> <td>    7.496</td> <td> 0.000</td> <td> 8380.968</td> <td> 1.43e+04</td>\n",
       "</tr>\n",
       "<tr>\n",
       "  <th>SqFtTotLiving</th>     <td>   65.5576</td> <td>    2.980</td> <td>   21.999</td> <td> 0.000</td> <td>   59.717</td> <td>   71.399</td>\n",
       "</tr>\n",
       "<tr>\n",
       "  <th>SqFtTotBasement</th>   <td>   75.5741</td> <td>    4.451</td> <td>   16.980</td> <td> 0.000</td> <td>   66.850</td> <td>   84.298</td>\n",
       "</tr>\n",
       "<tr>\n",
       "  <th>FinBasementGrade</th>  <td> -552.9546</td> <td>  677.705</td> <td>   -0.816</td> <td> 0.415</td> <td>-1881.293</td> <td>  775.384</td>\n",
       "</tr>\n",
       "<tr>\n",
       "  <th>SqFtOpenPorch</th>     <td>   72.2024</td> <td>   13.936</td> <td>    5.181</td> <td> 0.000</td> <td>   44.887</td> <td>   99.518</td>\n",
       "</tr>\n",
       "<tr>\n",
       "  <th>Bath3qtrCount</th>     <td> 1.405e+04</td> <td> 2862.678</td> <td>    4.908</td> <td> 0.000</td> <td> 8439.523</td> <td> 1.97e+04</td>\n",
       "</tr>\n",
       "<tr>\n",
       "  <th>BathFullCount</th>     <td>-2078.0085</td> <td> 3095.102</td> <td>   -0.671</td> <td> 0.502</td> <td>-8144.573</td> <td> 3988.557</td>\n",
       "</tr>\n",
       "<tr>\n",
       "  <th>WfntFootage</th>       <td>  -15.2393</td> <td>    6.489</td> <td>   -2.348</td> <td> 0.019</td> <td>  -27.959</td> <td>   -2.520</td>\n",
       "</tr>\n",
       "<tr>\n",
       "  <th>SqFtEnclosedPorch</th> <td>  111.0324</td> <td>   43.572</td> <td>    2.548</td> <td> 0.011</td> <td>   25.629</td> <td>  196.436</td>\n",
       "</tr>\n",
       "<tr>\n",
       "  <th>WfntLocation</th>      <td> 9033.7118</td> <td> 1939.869</td> <td>    4.657</td> <td> 0.000</td> <td> 5231.465</td> <td> 1.28e+04</td>\n",
       "</tr>\n",
       "</table>\n",
       "<table class=\"simpletable\">\n",
       "<tr>\n",
       "  <th>Omnibus:</th>       <td>1254.959</td> <th>  Durbin-Watson:     </th> <td>   1.936</td>\n",
       "</tr>\n",
       "<tr>\n",
       "  <th>Prob(Omnibus):</th>  <td> 0.000</td>  <th>  Jarque-Bera (JB):  </th> <td>1834.562</td>\n",
       "</tr>\n",
       "<tr>\n",
       "  <th>Skew:</th>           <td> 0.438</td>  <th>  Prob(JB):          </th> <td>    0.00</td>\n",
       "</tr>\n",
       "<tr>\n",
       "  <th>Kurtosis:</th>       <td> 3.941</td>  <th>  Cond. No.          </th> <td>2.02e+04</td>\n",
       "</tr>\n",
       "</table><br/><br/>Warnings:<br/>[1] Standard Errors assume that the covariance matrix of the errors is correctly specified.<br/>[2] The condition number is large, 2.02e+04. This might indicate that there are<br/>strong multicollinearity or other numerical problems."
      ],
      "text/plain": [
       "<class 'statsmodels.iolib.summary.Summary'>\n",
       "\"\"\"\n",
       "                            OLS Regression Results                            \n",
       "==============================================================================\n",
       "Dep. Variable:              SalePrice   R-squared:                       0.378\n",
       "Model:                            OLS   Adj. R-squared:                  0.377\n",
       "Method:                 Least Squares   F-statistic:                     1344.\n",
       "Date:                Thu, 01 Oct 2020   Prob (F-statistic):               0.00\n",
       "Time:                        14:53:59   Log-Likelihood:            -3.6570e+05\n",
       "No. Observations:               26600   AIC:                         7.314e+05\n",
       "Df Residuals:                   26587   BIC:                         7.315e+05\n",
       "Df Model:                          12                                         \n",
       "Covariance Type:            nonrobust                                         \n",
       "=====================================================================================\n",
       "                        coef    std err          t      P>|t|      [0.025      0.975]\n",
       "-------------------------------------------------------------------------------------\n",
       "Intercept         -3.824e+05   1.22e+04    -31.342      0.000   -4.06e+05   -3.58e+05\n",
       "BldgGrade          1.179e+05   1904.199     61.916      0.000    1.14e+05    1.22e+05\n",
       "SubArea           -4572.3326    339.714    -13.459      0.000   -5238.189   -3906.476\n",
       "HBUAsIfVacant      1.135e+04   1513.979      7.496      0.000    8380.968    1.43e+04\n",
       "SqFtTotLiving        65.5576      2.980     21.999      0.000      59.717      71.399\n",
       "SqFtTotBasement      75.5741      4.451     16.980      0.000      66.850      84.298\n",
       "FinBasementGrade   -552.9546    677.705     -0.816      0.415   -1881.293     775.384\n",
       "SqFtOpenPorch        72.2024     13.936      5.181      0.000      44.887      99.518\n",
       "Bath3qtrCount      1.405e+04   2862.678      4.908      0.000    8439.523    1.97e+04\n",
       "BathFullCount     -2078.0085   3095.102     -0.671      0.502   -8144.573    3988.557\n",
       "WfntFootage         -15.2393      6.489     -2.348      0.019     -27.959      -2.520\n",
       "SqFtEnclosedPorch   111.0324     43.572      2.548      0.011      25.629     196.436\n",
       "WfntLocation       9033.7118   1939.869      4.657      0.000    5231.465    1.28e+04\n",
       "==============================================================================\n",
       "Omnibus:                     1254.959   Durbin-Watson:                   1.936\n",
       "Prob(Omnibus):                  0.000   Jarque-Bera (JB):             1834.562\n",
       "Skew:                           0.438   Prob(JB):                         0.00\n",
       "Kurtosis:                       3.941   Cond. No.                     2.02e+04\n",
       "==============================================================================\n",
       "\n",
       "Warnings:\n",
       "[1] Standard Errors assume that the covariance matrix of the errors is correctly specified.\n",
       "[2] The condition number is large, 2.02e+04. This might indicate that there are\n",
       "strong multicollinearity or other numerical problems.\n",
       "\"\"\""
      ]
     },
     "execution_count": 127,
     "metadata": {},
     "output_type": "execute_result"
    }
   ],
   "source": [
    "model_3.fit().summary()"
   ]
  },
  {
   "cell_type": "code",
   "execution_count": 129,
   "metadata": {},
   "outputs": [
    {
     "name": "stdout",
     "output_type": "stream",
     "text": [
      "Rainbow statistic: 0.9484839946626334\n",
      "Rainbow p-value: 0.9988513753055951\n"
     ]
    }
   ],
   "source": [
    "rainbow_statistic, rainbow_p_value = linear_rainbow(model_3_results)\n",
    "print(\"Rainbow statistic:\", rainbow_statistic)\n",
    "print(\"Rainbow p-value:\", rainbow_p_value)"
   ]
  },
  {
   "cell_type": "code",
   "execution_count": null,
   "metadata": {},
   "outputs": [],
   "source": [
    "testskl = sklearn.preprocessing.OneHotEncoder()"
   ]
  },
  {
   "cell_type": "code",
   "execution_count": 139,
   "metadata": {},
   "outputs": [
    {
     "ename": "TypeError",
     "evalue": "ufunc 'isfinite' not supported for the input types, and the inputs could not be safely coerced to any supported types according to the casting rule ''safe''",
     "output_type": "error",
     "traceback": [
      "\u001b[0;31m---------------------------------------------------------------------------\u001b[0m",
      "\u001b[0;31mTypeError\u001b[0m                                 Traceback (most recent call last)",
      "\u001b[0;32m<ipython-input-139-d473bbb63183>\u001b[0m in \u001b[0;36m<module>\u001b[0;34m\u001b[0m\n\u001b[1;32m      2\u001b[0m \u001b[0;34m\u001b[0m\u001b[0m\n\u001b[1;32m      3\u001b[0m \u001b[0mvif_df\u001b[0m \u001b[0;34m=\u001b[0m \u001b[0mpd\u001b[0m\u001b[0;34m.\u001b[0m\u001b[0mDataFrame\u001b[0m\u001b[0;34m(\u001b[0m\u001b[0;34m)\u001b[0m\u001b[0;34m\u001b[0m\u001b[0;34m\u001b[0m\u001b[0m\n\u001b[0;32m----> 4\u001b[0;31m \u001b[0mvif_df\u001b[0m\u001b[0;34m[\u001b[0m\u001b[0;34m\"VIF\"\u001b[0m\u001b[0;34m]\u001b[0m \u001b[0;34m=\u001b[0m \u001b[0;34m[\u001b[0m\u001b[0mvariance_inflation_factor\u001b[0m\u001b[0;34m(\u001b[0m\u001b[0mrows\u001b[0m\u001b[0;34m,\u001b[0m \u001b[0mi\u001b[0m\u001b[0;34m)\u001b[0m \u001b[0;32mfor\u001b[0m \u001b[0mi\u001b[0m \u001b[0;32min\u001b[0m \u001b[0mrange\u001b[0m\u001b[0;34m(\u001b[0m\u001b[0;36m23\u001b[0m\u001b[0;34m)\u001b[0m\u001b[0;34m]\u001b[0m\u001b[0;34m\u001b[0m\u001b[0;34m\u001b[0m\u001b[0m\n\u001b[0m\u001b[1;32m      5\u001b[0m \u001b[0mvif_df\u001b[0m\u001b[0;34m[\u001b[0m\u001b[0;34m\"feature\"\u001b[0m\u001b[0;34m]\u001b[0m \u001b[0;34m=\u001b[0m \u001b[0;34m[\u001b[0m\u001b[0;34m'DocumentDate'\u001b[0m\u001b[0;34m,\u001b[0m\u001b[0;34m'SalePrice'\u001b[0m\u001b[0;34m,\u001b[0m\u001b[0;34m'SaleInstrument'\u001b[0m\u001b[0;34m,\u001b[0m\u001b[0;34m'SubArea'\u001b[0m\u001b[0;34m,\u001b[0m\u001b[0;34m'HBUAsIfVacant'\u001b[0m\u001b[0;34m,\u001b[0m\u001b[0;34m'BldgNbr'\u001b[0m\u001b[0;34m,\u001b[0m\u001b[0;34m'Stories'\u001b[0m\u001b[0;34m,\u001b[0m\u001b[0;34m'BldgGrade'\u001b[0m\u001b[0;34m,\u001b[0m\u001b[0;34m'BldgGradeVar'\u001b[0m\u001b[0;34m,\u001b[0m\u001b[0;34m'SqFt1stFloor'\u001b[0m\u001b[0;34m,\u001b[0m\u001b[0;34m'SqFt2ndFloor'\u001b[0m\u001b[0;34m,\u001b[0m\u001b[0;34m'SqFtTotLiving'\u001b[0m\u001b[0;34m,\u001b[0m\u001b[0;34m'SqFtTotBasement'\u001b[0m\u001b[0;34m,\u001b[0m\u001b[0;34m'SqFtFinBasement'\u001b[0m\u001b[0;34m,\u001b[0m\u001b[0;34m'FinBasementGrade'\u001b[0m\u001b[0;34m,\u001b[0m\u001b[0;34m'Bedrooms'\u001b[0m\u001b[0;34m,\u001b[0m\u001b[0;34m'BathHalfCount'\u001b[0m\u001b[0;34m,\u001b[0m\u001b[0;34m'Bath3qtrCount'\u001b[0m\u001b[0;34m,\u001b[0m\u001b[0;34m'BathFullCount'\u001b[0m\u001b[0;34m,\u001b[0m\u001b[0;34m'WfntFootage'\u001b[0m\u001b[0;34m,\u001b[0m\u001b[0;34m'SqFtOpenPorch'\u001b[0m\u001b[0;34m,\u001b[0m\u001b[0;34m'SqFtEnclosedPorch'\u001b[0m\u001b[0;34m,\u001b[0m\u001b[0;34m'WfntLocation'\u001b[0m\u001b[0;34m]\u001b[0m\u001b[0;34m\u001b[0m\u001b[0;34m\u001b[0m\u001b[0m\n\u001b[1;32m      6\u001b[0m \u001b[0mvif_df\u001b[0m\u001b[0;34m\u001b[0m\u001b[0;34m\u001b[0m\u001b[0m\n",
      "\u001b[0;32m<ipython-input-139-d473bbb63183>\u001b[0m in \u001b[0;36m<listcomp>\u001b[0;34m(.0)\u001b[0m\n\u001b[1;32m      2\u001b[0m \u001b[0;34m\u001b[0m\u001b[0m\n\u001b[1;32m      3\u001b[0m \u001b[0mvif_df\u001b[0m \u001b[0;34m=\u001b[0m \u001b[0mpd\u001b[0m\u001b[0;34m.\u001b[0m\u001b[0mDataFrame\u001b[0m\u001b[0;34m(\u001b[0m\u001b[0;34m)\u001b[0m\u001b[0;34m\u001b[0m\u001b[0;34m\u001b[0m\u001b[0m\n\u001b[0;32m----> 4\u001b[0;31m \u001b[0mvif_df\u001b[0m\u001b[0;34m[\u001b[0m\u001b[0;34m\"VIF\"\u001b[0m\u001b[0;34m]\u001b[0m \u001b[0;34m=\u001b[0m \u001b[0;34m[\u001b[0m\u001b[0mvariance_inflation_factor\u001b[0m\u001b[0;34m(\u001b[0m\u001b[0mrows\u001b[0m\u001b[0;34m,\u001b[0m \u001b[0mi\u001b[0m\u001b[0;34m)\u001b[0m \u001b[0;32mfor\u001b[0m \u001b[0mi\u001b[0m \u001b[0;32min\u001b[0m \u001b[0mrange\u001b[0m\u001b[0;34m(\u001b[0m\u001b[0;36m23\u001b[0m\u001b[0;34m)\u001b[0m\u001b[0;34m]\u001b[0m\u001b[0;34m\u001b[0m\u001b[0;34m\u001b[0m\u001b[0m\n\u001b[0m\u001b[1;32m      5\u001b[0m \u001b[0mvif_df\u001b[0m\u001b[0;34m[\u001b[0m\u001b[0;34m\"feature\"\u001b[0m\u001b[0;34m]\u001b[0m \u001b[0;34m=\u001b[0m \u001b[0;34m[\u001b[0m\u001b[0;34m'DocumentDate'\u001b[0m\u001b[0;34m,\u001b[0m\u001b[0;34m'SalePrice'\u001b[0m\u001b[0;34m,\u001b[0m\u001b[0;34m'SaleInstrument'\u001b[0m\u001b[0;34m,\u001b[0m\u001b[0;34m'SubArea'\u001b[0m\u001b[0;34m,\u001b[0m\u001b[0;34m'HBUAsIfVacant'\u001b[0m\u001b[0;34m,\u001b[0m\u001b[0;34m'BldgNbr'\u001b[0m\u001b[0;34m,\u001b[0m\u001b[0;34m'Stories'\u001b[0m\u001b[0;34m,\u001b[0m\u001b[0;34m'BldgGrade'\u001b[0m\u001b[0;34m,\u001b[0m\u001b[0;34m'BldgGradeVar'\u001b[0m\u001b[0;34m,\u001b[0m\u001b[0;34m'SqFt1stFloor'\u001b[0m\u001b[0;34m,\u001b[0m\u001b[0;34m'SqFt2ndFloor'\u001b[0m\u001b[0;34m,\u001b[0m\u001b[0;34m'SqFtTotLiving'\u001b[0m\u001b[0;34m,\u001b[0m\u001b[0;34m'SqFtTotBasement'\u001b[0m\u001b[0;34m,\u001b[0m\u001b[0;34m'SqFtFinBasement'\u001b[0m\u001b[0;34m,\u001b[0m\u001b[0;34m'FinBasementGrade'\u001b[0m\u001b[0;34m,\u001b[0m\u001b[0;34m'Bedrooms'\u001b[0m\u001b[0;34m,\u001b[0m\u001b[0;34m'BathHalfCount'\u001b[0m\u001b[0;34m,\u001b[0m\u001b[0;34m'Bath3qtrCount'\u001b[0m\u001b[0;34m,\u001b[0m\u001b[0;34m'BathFullCount'\u001b[0m\u001b[0;34m,\u001b[0m\u001b[0;34m'WfntFootage'\u001b[0m\u001b[0;34m,\u001b[0m\u001b[0;34m'SqFtOpenPorch'\u001b[0m\u001b[0;34m,\u001b[0m\u001b[0;34m'SqFtEnclosedPorch'\u001b[0m\u001b[0;34m,\u001b[0m\u001b[0;34m'WfntLocation'\u001b[0m\u001b[0;34m]\u001b[0m\u001b[0;34m\u001b[0m\u001b[0;34m\u001b[0m\u001b[0m\n\u001b[1;32m      6\u001b[0m \u001b[0mvif_df\u001b[0m\u001b[0;34m\u001b[0m\u001b[0;34m\u001b[0m\u001b[0m\n",
      "\u001b[0;32m/opt/anaconda3/lib/python3.8/site-packages/statsmodels/stats/outliers_influence.py\u001b[0m in \u001b[0;36mvariance_inflation_factor\u001b[0;34m(exog, exog_idx)\u001b[0m\n\u001b[1;32m    190\u001b[0m     \u001b[0mmask\u001b[0m \u001b[0;34m=\u001b[0m \u001b[0mnp\u001b[0m\u001b[0;34m.\u001b[0m\u001b[0marange\u001b[0m\u001b[0;34m(\u001b[0m\u001b[0mk_vars\u001b[0m\u001b[0;34m)\u001b[0m \u001b[0;34m!=\u001b[0m \u001b[0mexog_idx\u001b[0m\u001b[0;34m\u001b[0m\u001b[0;34m\u001b[0m\u001b[0m\n\u001b[1;32m    191\u001b[0m     \u001b[0mx_noti\u001b[0m \u001b[0;34m=\u001b[0m \u001b[0mexog\u001b[0m\u001b[0;34m[\u001b[0m\u001b[0;34m:\u001b[0m\u001b[0;34m,\u001b[0m \u001b[0mmask\u001b[0m\u001b[0;34m]\u001b[0m\u001b[0;34m\u001b[0m\u001b[0;34m\u001b[0m\u001b[0m\n\u001b[0;32m--> 192\u001b[0;31m     \u001b[0mr_squared_i\u001b[0m \u001b[0;34m=\u001b[0m \u001b[0mOLS\u001b[0m\u001b[0;34m(\u001b[0m\u001b[0mx_i\u001b[0m\u001b[0;34m,\u001b[0m \u001b[0mx_noti\u001b[0m\u001b[0;34m)\u001b[0m\u001b[0;34m.\u001b[0m\u001b[0mfit\u001b[0m\u001b[0;34m(\u001b[0m\u001b[0;34m)\u001b[0m\u001b[0;34m.\u001b[0m\u001b[0mrsquared\u001b[0m\u001b[0;34m\u001b[0m\u001b[0;34m\u001b[0m\u001b[0m\n\u001b[0m\u001b[1;32m    193\u001b[0m     \u001b[0mvif\u001b[0m \u001b[0;34m=\u001b[0m \u001b[0;36m1.\u001b[0m \u001b[0;34m/\u001b[0m \u001b[0;34m(\u001b[0m\u001b[0;36m1.\u001b[0m \u001b[0;34m-\u001b[0m \u001b[0mr_squared_i\u001b[0m\u001b[0;34m)\u001b[0m\u001b[0;34m\u001b[0m\u001b[0;34m\u001b[0m\u001b[0m\n\u001b[1;32m    194\u001b[0m     \u001b[0;32mreturn\u001b[0m \u001b[0mvif\u001b[0m\u001b[0;34m\u001b[0m\u001b[0;34m\u001b[0m\u001b[0m\n",
      "\u001b[0;32m/opt/anaconda3/lib/python3.8/site-packages/statsmodels/regression/linear_model.py\u001b[0m in \u001b[0;36m__init__\u001b[0;34m(self, endog, exog, missing, hasconst, **kwargs)\u001b[0m\n\u001b[1;32m    856\u001b[0m     def __init__(self, endog, exog=None, missing='none', hasconst=None,\n\u001b[1;32m    857\u001b[0m                  **kwargs):\n\u001b[0;32m--> 858\u001b[0;31m         super(OLS, self).__init__(endog, exog, missing=missing,\n\u001b[0m\u001b[1;32m    859\u001b[0m                                   hasconst=hasconst, **kwargs)\n\u001b[1;32m    860\u001b[0m         \u001b[0;32mif\u001b[0m \u001b[0;34m\"weights\"\u001b[0m \u001b[0;32min\u001b[0m \u001b[0mself\u001b[0m\u001b[0;34m.\u001b[0m\u001b[0m_init_keys\u001b[0m\u001b[0;34m:\u001b[0m\u001b[0;34m\u001b[0m\u001b[0;34m\u001b[0m\u001b[0m\n",
      "\u001b[0;32m/opt/anaconda3/lib/python3.8/site-packages/statsmodels/regression/linear_model.py\u001b[0m in \u001b[0;36m__init__\u001b[0;34m(self, endog, exog, weights, missing, hasconst, **kwargs)\u001b[0m\n\u001b[1;32m    699\u001b[0m         \u001b[0;32melse\u001b[0m\u001b[0;34m:\u001b[0m\u001b[0;34m\u001b[0m\u001b[0;34m\u001b[0m\u001b[0m\n\u001b[1;32m    700\u001b[0m             \u001b[0mweights\u001b[0m \u001b[0;34m=\u001b[0m \u001b[0mweights\u001b[0m\u001b[0;34m.\u001b[0m\u001b[0msqueeze\u001b[0m\u001b[0;34m(\u001b[0m\u001b[0;34m)\u001b[0m\u001b[0;34m\u001b[0m\u001b[0;34m\u001b[0m\u001b[0m\n\u001b[0;32m--> 701\u001b[0;31m         super(WLS, self).__init__(endog, exog, missing=missing,\n\u001b[0m\u001b[1;32m    702\u001b[0m                                   weights=weights, hasconst=hasconst, **kwargs)\n\u001b[1;32m    703\u001b[0m         \u001b[0mnobs\u001b[0m \u001b[0;34m=\u001b[0m \u001b[0mself\u001b[0m\u001b[0;34m.\u001b[0m\u001b[0mexog\u001b[0m\u001b[0;34m.\u001b[0m\u001b[0mshape\u001b[0m\u001b[0;34m[\u001b[0m\u001b[0;36m0\u001b[0m\u001b[0;34m]\u001b[0m\u001b[0;34m\u001b[0m\u001b[0;34m\u001b[0m\u001b[0m\n",
      "\u001b[0;32m/opt/anaconda3/lib/python3.8/site-packages/statsmodels/regression/linear_model.py\u001b[0m in \u001b[0;36m__init__\u001b[0;34m(self, endog, exog, **kwargs)\u001b[0m\n\u001b[1;32m    188\u001b[0m     \"\"\"\n\u001b[1;32m    189\u001b[0m     \u001b[0;32mdef\u001b[0m \u001b[0m__init__\u001b[0m\u001b[0;34m(\u001b[0m\u001b[0mself\u001b[0m\u001b[0;34m,\u001b[0m \u001b[0mendog\u001b[0m\u001b[0;34m,\u001b[0m \u001b[0mexog\u001b[0m\u001b[0;34m,\u001b[0m \u001b[0;34m**\u001b[0m\u001b[0mkwargs\u001b[0m\u001b[0;34m)\u001b[0m\u001b[0;34m:\u001b[0m\u001b[0;34m\u001b[0m\u001b[0;34m\u001b[0m\u001b[0m\n\u001b[0;32m--> 190\u001b[0;31m         \u001b[0msuper\u001b[0m\u001b[0;34m(\u001b[0m\u001b[0mRegressionModel\u001b[0m\u001b[0;34m,\u001b[0m \u001b[0mself\u001b[0m\u001b[0;34m)\u001b[0m\u001b[0;34m.\u001b[0m\u001b[0m__init__\u001b[0m\u001b[0;34m(\u001b[0m\u001b[0mendog\u001b[0m\u001b[0;34m,\u001b[0m \u001b[0mexog\u001b[0m\u001b[0;34m,\u001b[0m \u001b[0;34m**\u001b[0m\u001b[0mkwargs\u001b[0m\u001b[0;34m)\u001b[0m\u001b[0;34m\u001b[0m\u001b[0;34m\u001b[0m\u001b[0m\n\u001b[0m\u001b[1;32m    191\u001b[0m         \u001b[0mself\u001b[0m\u001b[0;34m.\u001b[0m\u001b[0m_data_attr\u001b[0m\u001b[0;34m.\u001b[0m\u001b[0mextend\u001b[0m\u001b[0;34m(\u001b[0m\u001b[0;34m[\u001b[0m\u001b[0;34m'pinv_wexog'\u001b[0m\u001b[0;34m,\u001b[0m \u001b[0;34m'wendog'\u001b[0m\u001b[0;34m,\u001b[0m \u001b[0;34m'wexog'\u001b[0m\u001b[0;34m,\u001b[0m \u001b[0;34m'weights'\u001b[0m\u001b[0;34m]\u001b[0m\u001b[0;34m)\u001b[0m\u001b[0;34m\u001b[0m\u001b[0;34m\u001b[0m\u001b[0m\n\u001b[1;32m    192\u001b[0m \u001b[0;34m\u001b[0m\u001b[0m\n",
      "\u001b[0;32m/opt/anaconda3/lib/python3.8/site-packages/statsmodels/base/model.py\u001b[0m in \u001b[0;36m__init__\u001b[0;34m(self, endog, exog, **kwargs)\u001b[0m\n\u001b[1;32m    234\u001b[0m \u001b[0;34m\u001b[0m\u001b[0m\n\u001b[1;32m    235\u001b[0m     \u001b[0;32mdef\u001b[0m \u001b[0m__init__\u001b[0m\u001b[0;34m(\u001b[0m\u001b[0mself\u001b[0m\u001b[0;34m,\u001b[0m \u001b[0mendog\u001b[0m\u001b[0;34m,\u001b[0m \u001b[0mexog\u001b[0m\u001b[0;34m=\u001b[0m\u001b[0;32mNone\u001b[0m\u001b[0;34m,\u001b[0m \u001b[0;34m**\u001b[0m\u001b[0mkwargs\u001b[0m\u001b[0;34m)\u001b[0m\u001b[0;34m:\u001b[0m\u001b[0;34m\u001b[0m\u001b[0;34m\u001b[0m\u001b[0m\n\u001b[0;32m--> 236\u001b[0;31m         \u001b[0msuper\u001b[0m\u001b[0;34m(\u001b[0m\u001b[0mLikelihoodModel\u001b[0m\u001b[0;34m,\u001b[0m \u001b[0mself\u001b[0m\u001b[0;34m)\u001b[0m\u001b[0;34m.\u001b[0m\u001b[0m__init__\u001b[0m\u001b[0;34m(\u001b[0m\u001b[0mendog\u001b[0m\u001b[0;34m,\u001b[0m \u001b[0mexog\u001b[0m\u001b[0;34m,\u001b[0m \u001b[0;34m**\u001b[0m\u001b[0mkwargs\u001b[0m\u001b[0;34m)\u001b[0m\u001b[0;34m\u001b[0m\u001b[0;34m\u001b[0m\u001b[0m\n\u001b[0m\u001b[1;32m    237\u001b[0m         \u001b[0mself\u001b[0m\u001b[0;34m.\u001b[0m\u001b[0minitialize\u001b[0m\u001b[0;34m(\u001b[0m\u001b[0;34m)\u001b[0m\u001b[0;34m\u001b[0m\u001b[0;34m\u001b[0m\u001b[0m\n\u001b[1;32m    238\u001b[0m \u001b[0;34m\u001b[0m\u001b[0m\n",
      "\u001b[0;32m/opt/anaconda3/lib/python3.8/site-packages/statsmodels/base/model.py\u001b[0m in \u001b[0;36m__init__\u001b[0;34m(self, endog, exog, **kwargs)\u001b[0m\n\u001b[1;32m     74\u001b[0m         \u001b[0mmissing\u001b[0m \u001b[0;34m=\u001b[0m \u001b[0mkwargs\u001b[0m\u001b[0;34m.\u001b[0m\u001b[0mpop\u001b[0m\u001b[0;34m(\u001b[0m\u001b[0;34m'missing'\u001b[0m\u001b[0;34m,\u001b[0m \u001b[0;34m'none'\u001b[0m\u001b[0;34m)\u001b[0m\u001b[0;34m\u001b[0m\u001b[0;34m\u001b[0m\u001b[0m\n\u001b[1;32m     75\u001b[0m         \u001b[0mhasconst\u001b[0m \u001b[0;34m=\u001b[0m \u001b[0mkwargs\u001b[0m\u001b[0;34m.\u001b[0m\u001b[0mpop\u001b[0m\u001b[0;34m(\u001b[0m\u001b[0;34m'hasconst'\u001b[0m\u001b[0;34m,\u001b[0m \u001b[0;32mNone\u001b[0m\u001b[0;34m)\u001b[0m\u001b[0;34m\u001b[0m\u001b[0;34m\u001b[0m\u001b[0m\n\u001b[0;32m---> 76\u001b[0;31m         self.data = self._handle_data(endog, exog, missing, hasconst,\n\u001b[0m\u001b[1;32m     77\u001b[0m                                       **kwargs)\n\u001b[1;32m     78\u001b[0m         \u001b[0mself\u001b[0m\u001b[0;34m.\u001b[0m\u001b[0mk_constant\u001b[0m \u001b[0;34m=\u001b[0m \u001b[0mself\u001b[0m\u001b[0;34m.\u001b[0m\u001b[0mdata\u001b[0m\u001b[0;34m.\u001b[0m\u001b[0mk_constant\u001b[0m\u001b[0;34m\u001b[0m\u001b[0;34m\u001b[0m\u001b[0m\n",
      "\u001b[0;32m/opt/anaconda3/lib/python3.8/site-packages/statsmodels/base/model.py\u001b[0m in \u001b[0;36m_handle_data\u001b[0;34m(self, endog, exog, missing, hasconst, **kwargs)\u001b[0m\n\u001b[1;32m     98\u001b[0m \u001b[0;34m\u001b[0m\u001b[0m\n\u001b[1;32m     99\u001b[0m     \u001b[0;32mdef\u001b[0m \u001b[0m_handle_data\u001b[0m\u001b[0;34m(\u001b[0m\u001b[0mself\u001b[0m\u001b[0;34m,\u001b[0m \u001b[0mendog\u001b[0m\u001b[0;34m,\u001b[0m \u001b[0mexog\u001b[0m\u001b[0;34m,\u001b[0m \u001b[0mmissing\u001b[0m\u001b[0;34m,\u001b[0m \u001b[0mhasconst\u001b[0m\u001b[0;34m,\u001b[0m \u001b[0;34m**\u001b[0m\u001b[0mkwargs\u001b[0m\u001b[0;34m)\u001b[0m\u001b[0;34m:\u001b[0m\u001b[0;34m\u001b[0m\u001b[0;34m\u001b[0m\u001b[0m\n\u001b[0;32m--> 100\u001b[0;31m         \u001b[0mdata\u001b[0m \u001b[0;34m=\u001b[0m \u001b[0mhandle_data\u001b[0m\u001b[0;34m(\u001b[0m\u001b[0mendog\u001b[0m\u001b[0;34m,\u001b[0m \u001b[0mexog\u001b[0m\u001b[0;34m,\u001b[0m \u001b[0mmissing\u001b[0m\u001b[0;34m,\u001b[0m \u001b[0mhasconst\u001b[0m\u001b[0;34m,\u001b[0m \u001b[0;34m**\u001b[0m\u001b[0mkwargs\u001b[0m\u001b[0;34m)\u001b[0m\u001b[0;34m\u001b[0m\u001b[0;34m\u001b[0m\u001b[0m\n\u001b[0m\u001b[1;32m    101\u001b[0m         \u001b[0;31m# kwargs arrays could have changed, easier to just attach here\u001b[0m\u001b[0;34m\u001b[0m\u001b[0;34m\u001b[0m\u001b[0;34m\u001b[0m\u001b[0m\n\u001b[1;32m    102\u001b[0m         \u001b[0;32mfor\u001b[0m \u001b[0mkey\u001b[0m \u001b[0;32min\u001b[0m \u001b[0mkwargs\u001b[0m\u001b[0;34m:\u001b[0m\u001b[0;34m\u001b[0m\u001b[0;34m\u001b[0m\u001b[0m\n",
      "\u001b[0;32m/opt/anaconda3/lib/python3.8/site-packages/statsmodels/base/data.py\u001b[0m in \u001b[0;36mhandle_data\u001b[0;34m(endog, exog, missing, hasconst, **kwargs)\u001b[0m\n\u001b[1;32m    669\u001b[0m \u001b[0;34m\u001b[0m\u001b[0m\n\u001b[1;32m    670\u001b[0m     \u001b[0mklass\u001b[0m \u001b[0;34m=\u001b[0m \u001b[0mhandle_data_class_factory\u001b[0m\u001b[0;34m(\u001b[0m\u001b[0mendog\u001b[0m\u001b[0;34m,\u001b[0m \u001b[0mexog\u001b[0m\u001b[0;34m)\u001b[0m\u001b[0;34m\u001b[0m\u001b[0;34m\u001b[0m\u001b[0m\n\u001b[0;32m--> 671\u001b[0;31m     return klass(endog, exog=exog, missing=missing, hasconst=hasconst,\n\u001b[0m\u001b[1;32m    672\u001b[0m                  **kwargs)\n",
      "\u001b[0;32m/opt/anaconda3/lib/python3.8/site-packages/statsmodels/base/data.py\u001b[0m in \u001b[0;36m__init__\u001b[0;34m(self, endog, exog, missing, hasconst, **kwargs)\u001b[0m\n\u001b[1;32m     85\u001b[0m         \u001b[0mself\u001b[0m\u001b[0;34m.\u001b[0m\u001b[0mconst_idx\u001b[0m \u001b[0;34m=\u001b[0m \u001b[0;32mNone\u001b[0m\u001b[0;34m\u001b[0m\u001b[0;34m\u001b[0m\u001b[0m\n\u001b[1;32m     86\u001b[0m         \u001b[0mself\u001b[0m\u001b[0;34m.\u001b[0m\u001b[0mk_constant\u001b[0m \u001b[0;34m=\u001b[0m \u001b[0;36m0\u001b[0m\u001b[0;34m\u001b[0m\u001b[0;34m\u001b[0m\u001b[0m\n\u001b[0;32m---> 87\u001b[0;31m         \u001b[0mself\u001b[0m\u001b[0;34m.\u001b[0m\u001b[0m_handle_constant\u001b[0m\u001b[0;34m(\u001b[0m\u001b[0mhasconst\u001b[0m\u001b[0;34m)\u001b[0m\u001b[0;34m\u001b[0m\u001b[0;34m\u001b[0m\u001b[0m\n\u001b[0m\u001b[1;32m     88\u001b[0m         \u001b[0mself\u001b[0m\u001b[0;34m.\u001b[0m\u001b[0m_check_integrity\u001b[0m\u001b[0;34m(\u001b[0m\u001b[0;34m)\u001b[0m\u001b[0;34m\u001b[0m\u001b[0;34m\u001b[0m\u001b[0m\n\u001b[1;32m     89\u001b[0m         \u001b[0mself\u001b[0m\u001b[0;34m.\u001b[0m\u001b[0m_cache\u001b[0m \u001b[0;34m=\u001b[0m \u001b[0;34m{\u001b[0m\u001b[0;34m}\u001b[0m\u001b[0;34m\u001b[0m\u001b[0;34m\u001b[0m\u001b[0m\n",
      "\u001b[0;32m/opt/anaconda3/lib/python3.8/site-packages/statsmodels/base/data.py\u001b[0m in \u001b[0;36m_handle_constant\u001b[0;34m(self, hasconst)\u001b[0m\n\u001b[1;32m    130\u001b[0m             \u001b[0mcheck_implicit\u001b[0m \u001b[0;34m=\u001b[0m \u001b[0;32mFalse\u001b[0m\u001b[0;34m\u001b[0m\u001b[0;34m\u001b[0m\u001b[0m\n\u001b[1;32m    131\u001b[0m             \u001b[0mexog_max\u001b[0m \u001b[0;34m=\u001b[0m \u001b[0mnp\u001b[0m\u001b[0;34m.\u001b[0m\u001b[0mmax\u001b[0m\u001b[0;34m(\u001b[0m\u001b[0mself\u001b[0m\u001b[0;34m.\u001b[0m\u001b[0mexog\u001b[0m\u001b[0;34m,\u001b[0m \u001b[0maxis\u001b[0m\u001b[0;34m=\u001b[0m\u001b[0;36m0\u001b[0m\u001b[0;34m)\u001b[0m\u001b[0;34m\u001b[0m\u001b[0;34m\u001b[0m\u001b[0m\n\u001b[0;32m--> 132\u001b[0;31m             \u001b[0;32mif\u001b[0m \u001b[0;32mnot\u001b[0m \u001b[0mnp\u001b[0m\u001b[0;34m.\u001b[0m\u001b[0misfinite\u001b[0m\u001b[0;34m(\u001b[0m\u001b[0mexog_max\u001b[0m\u001b[0;34m)\u001b[0m\u001b[0;34m.\u001b[0m\u001b[0mall\u001b[0m\u001b[0;34m(\u001b[0m\u001b[0;34m)\u001b[0m\u001b[0;34m:\u001b[0m\u001b[0;34m\u001b[0m\u001b[0;34m\u001b[0m\u001b[0m\n\u001b[0m\u001b[1;32m    133\u001b[0m                 \u001b[0;32mraise\u001b[0m \u001b[0mMissingDataError\u001b[0m\u001b[0;34m(\u001b[0m\u001b[0;34m'exog contains inf or nans'\u001b[0m\u001b[0;34m)\u001b[0m\u001b[0;34m\u001b[0m\u001b[0;34m\u001b[0m\u001b[0m\n\u001b[1;32m    134\u001b[0m             \u001b[0mexog_min\u001b[0m \u001b[0;34m=\u001b[0m \u001b[0mnp\u001b[0m\u001b[0;34m.\u001b[0m\u001b[0mmin\u001b[0m\u001b[0;34m(\u001b[0m\u001b[0mself\u001b[0m\u001b[0;34m.\u001b[0m\u001b[0mexog\u001b[0m\u001b[0;34m,\u001b[0m \u001b[0maxis\u001b[0m\u001b[0;34m=\u001b[0m\u001b[0;36m0\u001b[0m\u001b[0;34m)\u001b[0m\u001b[0;34m\u001b[0m\u001b[0;34m\u001b[0m\u001b[0m\n",
      "\u001b[0;31mTypeError\u001b[0m: ufunc 'isfinite' not supported for the input types, and the inputs could not be safely coerced to any supported types according to the casting rule ''safe''"
     ]
    }
   ],
   "source": [
    "rows = newdf[['DocumentDate','SalePrice','SaleInstrument','SubArea','HBUAsIfVacant','BldgNbr','Stories','BldgGrade','BldgGradeVar','SqFt1stFloor','SqFt2ndFloor','SqFtTotLiving','SqFtTotBasement','SqFtFinBasement','FinBasementGrade','Bedrooms','BathHalfCount','Bath3qtrCount','BathFullCount','WfntFootage','SqFtOpenPorch','SqFtEnclosedPorch','WfntLocation']].values\n",
    "\n",
    "vif_df = pd.DataFrame()\n",
    "vif_df[\"VIF\"] = [variance_inflation_factor(rows, i) for i in range(23)]\n",
    "vif_df[\"feature\"] = ['DocumentDate','SalePrice','SaleInstrument','SubArea','HBUAsIfVacant','BldgNbr','Stories','BldgGrade','BldgGradeVar','SqFt1stFloor','SqFt2ndFloor','SqFtTotLiving','SqFtTotBasement','SqFtFinBasement','FinBasementGrade','Bedrooms','BathHalfCount','Bath3qtrCount','BathFullCount','WfntFootage','SqFtOpenPorch','SqFtEnclosedPorch','WfntLocation']\n",
    "vif_df"
   ]
  },
  {
   "cell_type": "code",
   "execution_count": 134,
   "metadata": {},
   "outputs": [],
   "source": [
    "bank = ['DocumentDate','SalePrice','SaleInstrument','SubArea','HBUAsIfVacant','BldgNbr','Stories','BldgGrade','BldgGradeVar','SqFt1stFloor','SqFt2ndFloor','SqFtTotLiving',\n",
    " 'SqFtTotBasement','SqFtFinBasement','FinBasementGrade','Bedrooms','BathHalfCount','Bath3qtrCount','BathFullCount','WfntFootage','SqFtOpenPorch','SqFtEnclosedPorch','WfntLocation']"
   ]
  },
  {
   "cell_type": "code",
   "execution_count": 135,
   "metadata": {},
   "outputs": [
    {
     "data": {
      "text/plain": [
       "23"
      ]
     },
     "execution_count": 135,
     "metadata": {},
     "output_type": "execute_result"
    }
   ],
   "source": [
    "len(bank)"
   ]
  },
  {
   "cell_type": "markdown",
   "metadata": {},
   "source": [
    "ONE HOT ENCODER\n",
    "\n",
    "Building Grade 82\n",
    "\n",
    "Finished Basement Grade 82\n",
    "\n",
    "HBUasavacant 103\n",
    "\n",
    "Waterfront Location 50 - done"
   ]
  },
  {
   "cell_type": "code",
   "execution_count": 196,
   "metadata": {},
   "outputs": [
    {
     "data": {
      "text/html": [
       "<div>\n",
       "<style scoped>\n",
       "    .dataframe tbody tr th:only-of-type {\n",
       "        vertical-align: middle;\n",
       "    }\n",
       "\n",
       "    .dataframe tbody tr th {\n",
       "        vertical-align: top;\n",
       "    }\n",
       "\n",
       "    .dataframe thead th {\n",
       "        text-align: right;\n",
       "    }\n",
       "</style>\n",
       "<table border=\"1\" class=\"dataframe\">\n",
       "  <thead>\n",
       "    <tr style=\"text-align: right;\">\n",
       "      <th></th>\n",
       "      <th>LUType</th>\n",
       "      <th>LUItem</th>\n",
       "      <th>LUDescription</th>\n",
       "    </tr>\n",
       "  </thead>\n",
       "  <tbody>\n",
       "    <tr>\n",
       "      <th>964</th>\n",
       "      <td>50</td>\n",
       "      <td>1</td>\n",
       "      <td>DUWAMISH                                      ...</td>\n",
       "    </tr>\n",
       "    <tr>\n",
       "      <th>965</th>\n",
       "      <td>50</td>\n",
       "      <td>2</td>\n",
       "      <td>ELLIOTT BAY                                   ...</td>\n",
       "    </tr>\n",
       "    <tr>\n",
       "      <th>966</th>\n",
       "      <td>50</td>\n",
       "      <td>3</td>\n",
       "      <td>PUGET SOUND                                   ...</td>\n",
       "    </tr>\n",
       "    <tr>\n",
       "      <th>967</th>\n",
       "      <td>50</td>\n",
       "      <td>4</td>\n",
       "      <td>LAKE UNION                                    ...</td>\n",
       "    </tr>\n",
       "    <tr>\n",
       "      <th>968</th>\n",
       "      <td>50</td>\n",
       "      <td>5</td>\n",
       "      <td>SHIP CANAL                                    ...</td>\n",
       "    </tr>\n",
       "    <tr>\n",
       "      <th>969</th>\n",
       "      <td>50</td>\n",
       "      <td>6</td>\n",
       "      <td>LAKE WASH                                     ...</td>\n",
       "    </tr>\n",
       "    <tr>\n",
       "      <th>970</th>\n",
       "      <td>50</td>\n",
       "      <td>7</td>\n",
       "      <td>LAKE SAMM                                     ...</td>\n",
       "    </tr>\n",
       "    <tr>\n",
       "      <th>971</th>\n",
       "      <td>50</td>\n",
       "      <td>8</td>\n",
       "      <td>OTHER LAKE                                    ...</td>\n",
       "    </tr>\n",
       "    <tr>\n",
       "      <th>972</th>\n",
       "      <td>50</td>\n",
       "      <td>9</td>\n",
       "      <td>RIVER/SLOUGH                                  ...</td>\n",
       "    </tr>\n",
       "  </tbody>\n",
       "</table>\n",
       "</div>"
      ],
      "text/plain": [
       "     LUType  LUItem                                      LUDescription\n",
       "964      50       1  DUWAMISH                                      ...\n",
       "965      50       2  ELLIOTT BAY                                   ...\n",
       "966      50       3  PUGET SOUND                                   ...\n",
       "967      50       4  LAKE UNION                                    ...\n",
       "968      50       5  SHIP CANAL                                    ...\n",
       "969      50       6  LAKE WASH                                     ...\n",
       "970      50       7  LAKE SAMM                                     ...\n",
       "971      50       8  OTHER LAKE                                    ...\n",
       "972      50       9  RIVER/SLOUGH                                  ..."
      ]
     },
     "execution_count": 196,
     "metadata": {},
     "output_type": "execute_result"
    }
   ],
   "source": [
    "lookup(50)"
   ]
  },
  {
   "cell_type": "code",
   "execution_count": 197,
   "metadata": {},
   "outputs": [],
   "source": [
    "from sklearn.preprocessing import OneHotEncoder\n",
    "\n",
    "ohe = OneHotEncoder(sparse=False)\n",
    "\n",
    "ohe_wfnt = pd.DataFrame(ohe.fit_transform(newdf[['WfntLocation']]), index=newdf.index, columns=['Duwamish','Elliot Bay','Puget Sound','Lake Union','Ship Canal','Lake Washington','Lake Sammamish','Other Lakes','River/Slough'])"
   ]
  },
  {
   "cell_type": "code",
   "execution_count": 198,
   "metadata": {},
   "outputs": [],
   "source": [
    "ohe_wfnt.columns = list(ohe.categories_[0])"
   ]
  },
  {
   "cell_type": "code",
   "execution_count": 199,
   "metadata": {},
   "outputs": [],
   "source": [
    "ohe_wfnt.drop(0.0, axis=1, inplace=True)"
   ]
  },
  {
   "cell_type": "code",
   "execution_count": 148,
   "metadata": {},
   "outputs": [],
   "source": [
    "ohe_bldgr = pd.DataFrame(ohe.fit_transform(newdf[['BldgGrade']]), index=newdf.index)"
   ]
  },
  {
   "cell_type": "code",
   "execution_count": 149,
   "metadata": {},
   "outputs": [],
   "source": [
    "ohe_bldgr.columns = list(ohe.categories_[0])"
   ]
  },
  {
   "cell_type": "code",
   "execution_count": 150,
   "metadata": {},
   "outputs": [
    {
     "ename": "KeyError",
     "evalue": "'[0.] not found in axis'",
     "output_type": "error",
     "traceback": [
      "\u001b[0;31m---------------------------------------------------------------------------\u001b[0m",
      "\u001b[0;31mKeyError\u001b[0m                                  Traceback (most recent call last)",
      "\u001b[0;32m<ipython-input-150-c6cb5b83ec23>\u001b[0m in \u001b[0;36m<module>\u001b[0;34m\u001b[0m\n\u001b[0;32m----> 1\u001b[0;31m \u001b[0mohe_bldgr\u001b[0m\u001b[0;34m.\u001b[0m\u001b[0mdrop\u001b[0m\u001b[0;34m(\u001b[0m\u001b[0;36m0.0\u001b[0m\u001b[0;34m,\u001b[0m \u001b[0maxis\u001b[0m\u001b[0;34m=\u001b[0m\u001b[0;36m1\u001b[0m\u001b[0;34m,\u001b[0m \u001b[0minplace\u001b[0m\u001b[0;34m=\u001b[0m\u001b[0;32mTrue\u001b[0m\u001b[0;34m)\u001b[0m\u001b[0;34m\u001b[0m\u001b[0;34m\u001b[0m\u001b[0m\n\u001b[0m",
      "\u001b[0;32m/opt/anaconda3/lib/python3.8/site-packages/pandas/core/frame.py\u001b[0m in \u001b[0;36mdrop\u001b[0;34m(self, labels, axis, index, columns, level, inplace, errors)\u001b[0m\n\u001b[1;32m   4158\u001b[0m                 \u001b[0mweight\u001b[0m  \u001b[0;36m1.0\u001b[0m     \u001b[0;36m0.8\u001b[0m\u001b[0;34m\u001b[0m\u001b[0;34m\u001b[0m\u001b[0m\n\u001b[1;32m   4159\u001b[0m         \"\"\"\n\u001b[0;32m-> 4160\u001b[0;31m         return super().drop(\n\u001b[0m\u001b[1;32m   4161\u001b[0m             \u001b[0mlabels\u001b[0m\u001b[0;34m=\u001b[0m\u001b[0mlabels\u001b[0m\u001b[0;34m,\u001b[0m\u001b[0;34m\u001b[0m\u001b[0;34m\u001b[0m\u001b[0m\n\u001b[1;32m   4162\u001b[0m             \u001b[0maxis\u001b[0m\u001b[0;34m=\u001b[0m\u001b[0maxis\u001b[0m\u001b[0;34m,\u001b[0m\u001b[0;34m\u001b[0m\u001b[0;34m\u001b[0m\u001b[0m\n",
      "\u001b[0;32m/opt/anaconda3/lib/python3.8/site-packages/pandas/core/generic.py\u001b[0m in \u001b[0;36mdrop\u001b[0;34m(self, labels, axis, index, columns, level, inplace, errors)\u001b[0m\n\u001b[1;32m   3876\u001b[0m         \u001b[0;32mfor\u001b[0m \u001b[0maxis\u001b[0m\u001b[0;34m,\u001b[0m \u001b[0mlabels\u001b[0m \u001b[0;32min\u001b[0m \u001b[0maxes\u001b[0m\u001b[0;34m.\u001b[0m\u001b[0mitems\u001b[0m\u001b[0;34m(\u001b[0m\u001b[0;34m)\u001b[0m\u001b[0;34m:\u001b[0m\u001b[0;34m\u001b[0m\u001b[0;34m\u001b[0m\u001b[0m\n\u001b[1;32m   3877\u001b[0m             \u001b[0;32mif\u001b[0m \u001b[0mlabels\u001b[0m \u001b[0;32mis\u001b[0m \u001b[0;32mnot\u001b[0m \u001b[0;32mNone\u001b[0m\u001b[0;34m:\u001b[0m\u001b[0;34m\u001b[0m\u001b[0;34m\u001b[0m\u001b[0m\n\u001b[0;32m-> 3878\u001b[0;31m                 \u001b[0mobj\u001b[0m \u001b[0;34m=\u001b[0m \u001b[0mobj\u001b[0m\u001b[0;34m.\u001b[0m\u001b[0m_drop_axis\u001b[0m\u001b[0;34m(\u001b[0m\u001b[0mlabels\u001b[0m\u001b[0;34m,\u001b[0m \u001b[0maxis\u001b[0m\u001b[0;34m,\u001b[0m \u001b[0mlevel\u001b[0m\u001b[0;34m=\u001b[0m\u001b[0mlevel\u001b[0m\u001b[0;34m,\u001b[0m \u001b[0merrors\u001b[0m\u001b[0;34m=\u001b[0m\u001b[0merrors\u001b[0m\u001b[0;34m)\u001b[0m\u001b[0;34m\u001b[0m\u001b[0;34m\u001b[0m\u001b[0m\n\u001b[0m\u001b[1;32m   3879\u001b[0m \u001b[0;34m\u001b[0m\u001b[0m\n\u001b[1;32m   3880\u001b[0m         \u001b[0;32mif\u001b[0m \u001b[0minplace\u001b[0m\u001b[0;34m:\u001b[0m\u001b[0;34m\u001b[0m\u001b[0;34m\u001b[0m\u001b[0m\n",
      "\u001b[0;32m/opt/anaconda3/lib/python3.8/site-packages/pandas/core/generic.py\u001b[0m in \u001b[0;36m_drop_axis\u001b[0;34m(self, labels, axis, level, errors)\u001b[0m\n\u001b[1;32m   3910\u001b[0m                 \u001b[0mnew_axis\u001b[0m \u001b[0;34m=\u001b[0m \u001b[0maxis\u001b[0m\u001b[0;34m.\u001b[0m\u001b[0mdrop\u001b[0m\u001b[0;34m(\u001b[0m\u001b[0mlabels\u001b[0m\u001b[0;34m,\u001b[0m \u001b[0mlevel\u001b[0m\u001b[0;34m=\u001b[0m\u001b[0mlevel\u001b[0m\u001b[0;34m,\u001b[0m \u001b[0merrors\u001b[0m\u001b[0;34m=\u001b[0m\u001b[0merrors\u001b[0m\u001b[0;34m)\u001b[0m\u001b[0;34m\u001b[0m\u001b[0;34m\u001b[0m\u001b[0m\n\u001b[1;32m   3911\u001b[0m             \u001b[0;32melse\u001b[0m\u001b[0;34m:\u001b[0m\u001b[0;34m\u001b[0m\u001b[0;34m\u001b[0m\u001b[0m\n\u001b[0;32m-> 3912\u001b[0;31m                 \u001b[0mnew_axis\u001b[0m \u001b[0;34m=\u001b[0m \u001b[0maxis\u001b[0m\u001b[0;34m.\u001b[0m\u001b[0mdrop\u001b[0m\u001b[0;34m(\u001b[0m\u001b[0mlabels\u001b[0m\u001b[0;34m,\u001b[0m \u001b[0merrors\u001b[0m\u001b[0;34m=\u001b[0m\u001b[0merrors\u001b[0m\u001b[0;34m)\u001b[0m\u001b[0;34m\u001b[0m\u001b[0;34m\u001b[0m\u001b[0m\n\u001b[0m\u001b[1;32m   3913\u001b[0m             \u001b[0mresult\u001b[0m \u001b[0;34m=\u001b[0m \u001b[0mself\u001b[0m\u001b[0;34m.\u001b[0m\u001b[0mreindex\u001b[0m\u001b[0;34m(\u001b[0m\u001b[0;34m**\u001b[0m\u001b[0;34m{\u001b[0m\u001b[0maxis_name\u001b[0m\u001b[0;34m:\u001b[0m \u001b[0mnew_axis\u001b[0m\u001b[0;34m}\u001b[0m\u001b[0;34m)\u001b[0m\u001b[0;34m\u001b[0m\u001b[0;34m\u001b[0m\u001b[0m\n\u001b[1;32m   3914\u001b[0m \u001b[0;34m\u001b[0m\u001b[0m\n",
      "\u001b[0;32m/opt/anaconda3/lib/python3.8/site-packages/pandas/core/indexes/base.py\u001b[0m in \u001b[0;36mdrop\u001b[0;34m(self, labels, errors)\u001b[0m\n\u001b[1;32m   5274\u001b[0m         \u001b[0;32mif\u001b[0m \u001b[0mmask\u001b[0m\u001b[0;34m.\u001b[0m\u001b[0many\u001b[0m\u001b[0;34m(\u001b[0m\u001b[0;34m)\u001b[0m\u001b[0;34m:\u001b[0m\u001b[0;34m\u001b[0m\u001b[0;34m\u001b[0m\u001b[0m\n\u001b[1;32m   5275\u001b[0m             \u001b[0;32mif\u001b[0m \u001b[0merrors\u001b[0m \u001b[0;34m!=\u001b[0m \u001b[0;34m\"ignore\"\u001b[0m\u001b[0;34m:\u001b[0m\u001b[0;34m\u001b[0m\u001b[0;34m\u001b[0m\u001b[0m\n\u001b[0;32m-> 5276\u001b[0;31m                 \u001b[0;32mraise\u001b[0m \u001b[0mKeyError\u001b[0m\u001b[0;34m(\u001b[0m\u001b[0;34mf\"{labels[mask]} not found in axis\"\u001b[0m\u001b[0;34m)\u001b[0m\u001b[0;34m\u001b[0m\u001b[0;34m\u001b[0m\u001b[0m\n\u001b[0m\u001b[1;32m   5277\u001b[0m             \u001b[0mindexer\u001b[0m \u001b[0;34m=\u001b[0m \u001b[0mindexer\u001b[0m\u001b[0;34m[\u001b[0m\u001b[0;34m~\u001b[0m\u001b[0mmask\u001b[0m\u001b[0;34m]\u001b[0m\u001b[0;34m\u001b[0m\u001b[0;34m\u001b[0m\u001b[0m\n\u001b[1;32m   5278\u001b[0m         \u001b[0;32mreturn\u001b[0m \u001b[0mself\u001b[0m\u001b[0;34m.\u001b[0m\u001b[0mdelete\u001b[0m\u001b[0;34m(\u001b[0m\u001b[0mindexer\u001b[0m\u001b[0;34m)\u001b[0m\u001b[0;34m\u001b[0m\u001b[0;34m\u001b[0m\u001b[0m\n",
      "\u001b[0;31mKeyError\u001b[0m: '[0.] not found in axis'"
     ]
    }
   ],
   "source": [
    "ohe_bldgr.drop(0.0, axis=1, inplace=True)"
   ]
  },
  {
   "cell_type": "code",
   "execution_count": 151,
   "metadata": {},
   "outputs": [],
   "source": [
    "ohe_finbsgr = pd.DataFrame(ohe.fit_transform(newdf[['FinBasementGrade']]), index=newdf.index)"
   ]
  },
  {
   "cell_type": "code",
   "execution_count": 154,
   "metadata": {},
   "outputs": [],
   "source": [
    "ohe_finbsgr.columns = list(ohe.categories_[0])"
   ]
  },
  {
   "cell_type": "code",
   "execution_count": 155,
   "metadata": {},
   "outputs": [],
   "source": [
    "ohe_finbsgr.drop(0.0, axis=1, inplace=True)"
   ]
  },
  {
   "cell_type": "code",
   "execution_count": 158,
   "metadata": {},
   "outputs": [],
   "source": [
    "ohe_hbuva = pd.DataFrame(ohe.fit_transform(newdf[['HBUAsIfVacant']]), index=newdf.index)"
   ]
  },
  {
   "cell_type": "code",
   "execution_count": 159,
   "metadata": {},
   "outputs": [],
   "source": [
    "ohe_hbuva.columns = list(ohe.categories_[0])"
   ]
  },
  {
   "cell_type": "code",
   "execution_count": 160,
   "metadata": {},
   "outputs": [],
   "source": [
    "ohe_hbuva.drop(0.0, axis=1, inplace=True)"
   ]
  },
  {
   "cell_type": "code",
   "execution_count": 191,
   "metadata": {},
   "outputs": [
    {
     "data": {
      "text/html": [
       "<div>\n",
       "<style scoped>\n",
       "    .dataframe tbody tr th:only-of-type {\n",
       "        vertical-align: middle;\n",
       "    }\n",
       "\n",
       "    .dataframe tbody tr th {\n",
       "        vertical-align: top;\n",
       "    }\n",
       "\n",
       "    .dataframe thead th {\n",
       "        text-align: right;\n",
       "    }\n",
       "</style>\n",
       "<table border=\"1\" class=\"dataframe\">\n",
       "  <thead>\n",
       "    <tr style=\"text-align: right;\">\n",
       "      <th></th>\n",
       "      <th>LUType</th>\n",
       "      <th>LUItem</th>\n",
       "      <th>LUDescription</th>\n",
       "    </tr>\n",
       "  </thead>\n",
       "  <tbody>\n",
       "    <tr>\n",
       "      <th>213</th>\n",
       "      <td>103</td>\n",
       "      <td>1</td>\n",
       "      <td>SINGLE FAMILY                                 ...</td>\n",
       "    </tr>\n",
       "    <tr>\n",
       "      <th>214</th>\n",
       "      <td>103</td>\n",
       "      <td>10</td>\n",
       "      <td>AMUSEMENT/ENTERTAINMENT                       ...</td>\n",
       "    </tr>\n",
       "    <tr>\n",
       "      <th>215</th>\n",
       "      <td>103</td>\n",
       "      <td>11</td>\n",
       "      <td>CULTURAL                                      ...</td>\n",
       "    </tr>\n",
       "    <tr>\n",
       "      <th>216</th>\n",
       "      <td>103</td>\n",
       "      <td>12</td>\n",
       "      <td>EDUCATIONAL SERVICE                           ...</td>\n",
       "    </tr>\n",
       "    <tr>\n",
       "      <th>217</th>\n",
       "      <td>103</td>\n",
       "      <td>13</td>\n",
       "      <td>COMMERCIAL SERVICE                            ...</td>\n",
       "    </tr>\n",
       "    <tr>\n",
       "      <th>218</th>\n",
       "      <td>103</td>\n",
       "      <td>14</td>\n",
       "      <td>RETAIL/WHOLESALE                              ...</td>\n",
       "    </tr>\n",
       "    <tr>\n",
       "      <th>219</th>\n",
       "      <td>103</td>\n",
       "      <td>15</td>\n",
       "      <td>MANUFACTURING                                 ...</td>\n",
       "    </tr>\n",
       "    <tr>\n",
       "      <th>220</th>\n",
       "      <td>103</td>\n",
       "      <td>16</td>\n",
       "      <td>AGRICULTURAL                                  ...</td>\n",
       "    </tr>\n",
       "    <tr>\n",
       "      <th>221</th>\n",
       "      <td>103</td>\n",
       "      <td>17</td>\n",
       "      <td>FORESTRY                                      ...</td>\n",
       "    </tr>\n",
       "    <tr>\n",
       "      <th>222</th>\n",
       "      <td>103</td>\n",
       "      <td>18</td>\n",
       "      <td>FISH &amp; WILDLIFE MGMT                          ...</td>\n",
       "    </tr>\n",
       "    <tr>\n",
       "      <th>223</th>\n",
       "      <td>103</td>\n",
       "      <td>19</td>\n",
       "      <td>MINERAL                                       ...</td>\n",
       "    </tr>\n",
       "    <tr>\n",
       "      <th>224</th>\n",
       "      <td>103</td>\n",
       "      <td>2</td>\n",
       "      <td>DUPLEX                                        ...</td>\n",
       "    </tr>\n",
       "    <tr>\n",
       "      <th>225</th>\n",
       "      <td>103</td>\n",
       "      <td>20</td>\n",
       "      <td>REGIONAL LAND USE                             ...</td>\n",
       "    </tr>\n",
       "    <tr>\n",
       "      <th>226</th>\n",
       "      <td>103</td>\n",
       "      <td>21</td>\n",
       "      <td>MIXED USE                                     ...</td>\n",
       "    </tr>\n",
       "    <tr>\n",
       "      <th>227</th>\n",
       "      <td>103</td>\n",
       "      <td>3</td>\n",
       "      <td>TRIPLEX                                       ...</td>\n",
       "    </tr>\n",
       "    <tr>\n",
       "      <th>228</th>\n",
       "      <td>103</td>\n",
       "      <td>4</td>\n",
       "      <td>MOBILE HOME                                   ...</td>\n",
       "    </tr>\n",
       "    <tr>\n",
       "      <th>229</th>\n",
       "      <td>103</td>\n",
       "      <td>5</td>\n",
       "      <td>OTHER SF DWELLING                             ...</td>\n",
       "    </tr>\n",
       "    <tr>\n",
       "      <th>230</th>\n",
       "      <td>103</td>\n",
       "      <td>6</td>\n",
       "      <td>MULTI-FAMILY DWELLING                         ...</td>\n",
       "    </tr>\n",
       "    <tr>\n",
       "      <th>231</th>\n",
       "      <td>103</td>\n",
       "      <td>7</td>\n",
       "      <td>GROUP RESIDENCE                               ...</td>\n",
       "    </tr>\n",
       "    <tr>\n",
       "      <th>232</th>\n",
       "      <td>103</td>\n",
       "      <td>8</td>\n",
       "      <td>TEMPORARY LODGING                             ...</td>\n",
       "    </tr>\n",
       "    <tr>\n",
       "      <th>233</th>\n",
       "      <td>103</td>\n",
       "      <td>9</td>\n",
       "      <td>PARK/RECREATION                               ...</td>\n",
       "    </tr>\n",
       "  </tbody>\n",
       "</table>\n",
       "</div>"
      ],
      "text/plain": [
       "     LUType  LUItem                                      LUDescription\n",
       "213     103       1  SINGLE FAMILY                                 ...\n",
       "214     103      10  AMUSEMENT/ENTERTAINMENT                       ...\n",
       "215     103      11  CULTURAL                                      ...\n",
       "216     103      12  EDUCATIONAL SERVICE                           ...\n",
       "217     103      13  COMMERCIAL SERVICE                            ...\n",
       "218     103      14  RETAIL/WHOLESALE                              ...\n",
       "219     103      15  MANUFACTURING                                 ...\n",
       "220     103      16  AGRICULTURAL                                  ...\n",
       "221     103      17  FORESTRY                                      ...\n",
       "222     103      18  FISH & WILDLIFE MGMT                          ...\n",
       "223     103      19  MINERAL                                       ...\n",
       "224     103       2  DUPLEX                                        ...\n",
       "225     103      20  REGIONAL LAND USE                             ...\n",
       "226     103      21  MIXED USE                                     ...\n",
       "227     103       3  TRIPLEX                                       ...\n",
       "228     103       4  MOBILE HOME                                   ...\n",
       "229     103       5  OTHER SF DWELLING                             ...\n",
       "230     103       6  MULTI-FAMILY DWELLING                         ...\n",
       "231     103       7  GROUP RESIDENCE                               ...\n",
       "232     103       8  TEMPORARY LODGING                             ...\n",
       "233     103       9  PARK/RECREATION                               ..."
      ]
     },
     "execution_count": 191,
     "metadata": {},
     "output_type": "execute_result"
    }
   ],
   "source": [
    "lookup(103)"
   ]
  },
  {
   "cell_type": "code",
   "execution_count": 192,
   "metadata": {},
   "outputs": [],
   "source": [
    "ohe_hbuva = ohe_hbuva.rename(columns={\n",
    "    '1.0': 'HBUV_Single_Family_Home',\n",
    "    '6.0': 'HBUV_Multi_Family_Dwelling',\n",
    "    '9.0': 'HBUV_Park_Rec',\n",
    "    '13.0': 'HBUV_Commercial_Services',\n",
    "    '15.0': 'HBUV_Manufacturing',\n",
    "    '16.0': 'HBUV_Agricultural',\n",
    "    '21.0': 'HBUV_Mixed_Use',\n",
    "}, inplace=True)"
   ]
  },
  {
   "cell_type": "markdown",
   "metadata": {},
   "source": [
    "SCALING"
   ]
  },
  {
   "cell_type": "code",
   "execution_count": 166,
   "metadata": {},
   "outputs": [],
   "source": [
    "ss = StandardScaler()\n",
    "# do this with continous variables\n",
    "ss_df = pd.DataFrame(ss.fit_transform(newdf[['SqFt1stFloor','SqFt2ndFloor','SqFtTotLiving','SqFtTotBasement','SqFtFinBasement','WfntFootage','SqFtOpenPorch','SqFtEnclosedPorch']]),index=newdf.index, columns=['SqFt1stFloor','SqFt2ndFloor','SqFtTotLiving','SqFtTotBasement','SqFtFinBasement','WfntFootage','SqFtOpenPorch','SqFtEnclosedPorch'])"
   ]
  },
  {
   "cell_type": "code",
   "execution_count": 167,
   "metadata": {},
   "outputs": [
    {
     "data": {
      "text/html": [
       "<div>\n",
       "<style scoped>\n",
       "    .dataframe tbody tr th:only-of-type {\n",
       "        vertical-align: middle;\n",
       "    }\n",
       "\n",
       "    .dataframe tbody tr th {\n",
       "        vertical-align: top;\n",
       "    }\n",
       "\n",
       "    .dataframe thead th {\n",
       "        text-align: right;\n",
       "    }\n",
       "</style>\n",
       "<table border=\"1\" class=\"dataframe\">\n",
       "  <thead>\n",
       "    <tr style=\"text-align: right;\">\n",
       "      <th></th>\n",
       "      <th>SqFt1stFloor</th>\n",
       "      <th>SqFt2ndFloor</th>\n",
       "      <th>SqFtTotLiving</th>\n",
       "      <th>SqFtTotBasement</th>\n",
       "      <th>SqFtFinBasement</th>\n",
       "      <th>WfntFootage</th>\n",
       "      <th>SqFtOpenPorch</th>\n",
       "      <th>SqFtEnclosedPorch</th>\n",
       "    </tr>\n",
       "  </thead>\n",
       "  <tbody>\n",
       "    <tr>\n",
       "      <th>86</th>\n",
       "      <td>-0.157158</td>\n",
       "      <td>-0.805600</td>\n",
       "      <td>-0.359199</td>\n",
       "      <td>1.092450</td>\n",
       "      <td>0.847533</td>\n",
       "      <td>-0.052929</td>\n",
       "      <td>-0.638419</td>\n",
       "      <td>-0.1702</td>\n",
       "    </tr>\n",
       "    <tr>\n",
       "      <th>216</th>\n",
       "      <td>-1.860248</td>\n",
       "      <td>0.028956</td>\n",
       "      <td>-0.598429</td>\n",
       "      <td>-0.806506</td>\n",
       "      <td>-0.659293</td>\n",
       "      <td>-0.052929</td>\n",
       "      <td>-0.638419</td>\n",
       "      <td>-0.1702</td>\n",
       "    </tr>\n",
       "    <tr>\n",
       "      <th>354</th>\n",
       "      <td>0.395794</td>\n",
       "      <td>2.146256</td>\n",
       "      <td>1.482868</td>\n",
       "      <td>-0.806506</td>\n",
       "      <td>-0.659293</td>\n",
       "      <td>-0.052929</td>\n",
       "      <td>-0.638419</td>\n",
       "      <td>-0.1702</td>\n",
       "    </tr>\n",
       "    <tr>\n",
       "      <th>499</th>\n",
       "      <td>2.076766</td>\n",
       "      <td>3.475364</td>\n",
       "      <td>3.420627</td>\n",
       "      <td>-0.806506</td>\n",
       "      <td>-0.659293</td>\n",
       "      <td>-0.052929</td>\n",
       "      <td>2.054630</td>\n",
       "      <td>-0.1702</td>\n",
       "    </tr>\n",
       "    <tr>\n",
       "      <th>554</th>\n",
       "      <td>-1.395769</td>\n",
       "      <td>0.137139</td>\n",
       "      <td>-0.622352</td>\n",
       "      <td>0.225936</td>\n",
       "      <td>0.191335</td>\n",
       "      <td>-0.052929</td>\n",
       "      <td>-0.638419</td>\n",
       "      <td>-0.1702</td>\n",
       "    </tr>\n",
       "    <tr>\n",
       "      <th>...</th>\n",
       "      <td>...</td>\n",
       "      <td>...</td>\n",
       "      <td>...</td>\n",
       "      <td>...</td>\n",
       "      <td>...</td>\n",
       "      <td>...</td>\n",
       "      <td>...</td>\n",
       "      <td>...</td>\n",
       "    </tr>\n",
       "    <tr>\n",
       "      <th>2126029</th>\n",
       "      <td>0.285203</td>\n",
       "      <td>-0.805600</td>\n",
       "      <td>1.016371</td>\n",
       "      <td>0.760594</td>\n",
       "      <td>1.406517</td>\n",
       "      <td>-0.052929</td>\n",
       "      <td>-0.638419</td>\n",
       "      <td>-0.1702</td>\n",
       "    </tr>\n",
       "    <tr>\n",
       "      <th>2126202</th>\n",
       "      <td>1.169926</td>\n",
       "      <td>-0.805600</td>\n",
       "      <td>1.004409</td>\n",
       "      <td>1.332124</td>\n",
       "      <td>2.159930</td>\n",
       "      <td>-0.052929</td>\n",
       "      <td>1.426252</td>\n",
       "      <td>-0.1702</td>\n",
       "    </tr>\n",
       "    <tr>\n",
       "      <th>2126206</th>\n",
       "      <td>-1.086116</td>\n",
       "      <td>-0.805600</td>\n",
       "      <td>-1.005119</td>\n",
       "      <td>0.520920</td>\n",
       "      <td>0.555889</td>\n",
       "      <td>-0.052929</td>\n",
       "      <td>-0.638419</td>\n",
       "      <td>-0.1702</td>\n",
       "    </tr>\n",
       "    <tr>\n",
       "      <th>2126248</th>\n",
       "      <td>0.064023</td>\n",
       "      <td>1.018060</td>\n",
       "      <td>0.430258</td>\n",
       "      <td>-0.806506</td>\n",
       "      <td>-0.659293</td>\n",
       "      <td>-0.052929</td>\n",
       "      <td>-0.279346</td>\n",
       "      <td>-0.1702</td>\n",
       "    </tr>\n",
       "    <tr>\n",
       "      <th>2126249</th>\n",
       "      <td>0.130377</td>\n",
       "      <td>-0.805600</td>\n",
       "      <td>1.746021</td>\n",
       "      <td>1.534925</td>\n",
       "      <td>2.427270</td>\n",
       "      <td>-0.052929</td>\n",
       "      <td>-0.638419</td>\n",
       "      <td>-0.1702</td>\n",
       "    </tr>\n",
       "  </tbody>\n",
       "</table>\n",
       "<p>26600 rows × 8 columns</p>\n",
       "</div>"
      ],
      "text/plain": [
       "         SqFt1stFloor  SqFt2ndFloor  SqFtTotLiving  SqFtTotBasement  \\\n",
       "86          -0.157158     -0.805600      -0.359199         1.092450   \n",
       "216         -1.860248      0.028956      -0.598429        -0.806506   \n",
       "354          0.395794      2.146256       1.482868        -0.806506   \n",
       "499          2.076766      3.475364       3.420627        -0.806506   \n",
       "554         -1.395769      0.137139      -0.622352         0.225936   \n",
       "...               ...           ...            ...              ...   \n",
       "2126029      0.285203     -0.805600       1.016371         0.760594   \n",
       "2126202      1.169926     -0.805600       1.004409         1.332124   \n",
       "2126206     -1.086116     -0.805600      -1.005119         0.520920   \n",
       "2126248      0.064023      1.018060       0.430258        -0.806506   \n",
       "2126249      0.130377     -0.805600       1.746021         1.534925   \n",
       "\n",
       "         SqFtFinBasement  WfntFootage  SqFtOpenPorch  SqFtEnclosedPorch  \n",
       "86              0.847533    -0.052929      -0.638419            -0.1702  \n",
       "216            -0.659293    -0.052929      -0.638419            -0.1702  \n",
       "354            -0.659293    -0.052929      -0.638419            -0.1702  \n",
       "499            -0.659293    -0.052929       2.054630            -0.1702  \n",
       "554             0.191335    -0.052929      -0.638419            -0.1702  \n",
       "...                  ...          ...            ...                ...  \n",
       "2126029         1.406517    -0.052929      -0.638419            -0.1702  \n",
       "2126202         2.159930    -0.052929       1.426252            -0.1702  \n",
       "2126206         0.555889    -0.052929      -0.638419            -0.1702  \n",
       "2126248        -0.659293    -0.052929      -0.279346            -0.1702  \n",
       "2126249         2.427270    -0.052929      -0.638419            -0.1702  \n",
       "\n",
       "[26600 rows x 8 columns]"
      ]
     },
     "execution_count": 167,
     "metadata": {},
     "output_type": "execute_result"
    }
   ],
   "source": [
    "ss_df"
   ]
  },
  {
   "cell_type": "code",
   "execution_count": null,
   "metadata": {},
   "outputs": [],
   "source": []
  }
 ],
 "metadata": {
  "kernelspec": {
   "display_name": "Python 3 (oy-env)",
   "language": "python",
   "name": "oy-env"
  },
  "language_info": {
   "codemirror_mode": {
    "name": "ipython",
    "version": 3
   },
   "file_extension": ".py",
   "mimetype": "text/x-python",
   "name": "python",
   "nbconvert_exporter": "python",
   "pygments_lexer": "ipython3",
   "version": "3.8.5"
  }
 },
 "nbformat": 4,
 "nbformat_minor": 4
}
